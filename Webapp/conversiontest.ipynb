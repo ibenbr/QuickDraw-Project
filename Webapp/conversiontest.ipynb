{
 "cells": [
  {
   "cell_type": "code",
   "execution_count": 1,
   "metadata": {},
   "outputs": [],
   "source": [
    "import matplotlib.pyplot as plt\n",
    "import numpy as np"
   ]
  },
  {
   "cell_type": "code",
   "execution_count": 5,
   "metadata": {},
   "outputs": [],
   "source": [
    "def ConvertStroke(inputList):\n",
    "    inputList = inputList[1:-1]\n",
    "    #Remove the first value of the list inside the list ('q') and remove the last 2 values\n",
    "    temp = []\n",
    "    for i in inputList:\n",
    "        i = i[1:-2]\n",
    "        temp.append(i)\n",
    "        #temp = rdp(temp)\n",
    "        temp = rdp(temp, epsilon=1.5)\n",
    "    # append all x values in 1 list and all y values in 1 list\n",
    "    x = []\n",
    "    y = []\n",
    "    a = 0\n",
    "    for i in temp:\n",
    "        x.insert(a, i[0])\n",
    "        y.insert(a, i[1])\n",
    "        a = a+1\n",
    "\n",
    "    #combine the x and y lists \n",
    "    drawing = []\n",
    "    drawing.append(x)\n",
    "    drawing.append(y)\n",
    "    return drawing"
   ]
  },
  {
   "cell_type": "code",
   "execution_count": 6,
   "metadata": {},
   "outputs": [
    {
     "data": {
      "text/plain": [
       "[[[162, 85, 63, 59, 109, 144, 195, 216, 242, 242, 202, 157],\n",
       "  [69, 91, 109, 130, 167, 176, 175, 159, 117, 91, 64, 64]],\n",
       " [[215, 127, 107], [125, 141, 135]]]"
      ]
     },
     "execution_count": 6,
     "metadata": {},
     "output_type": "execute_result"
    }
   ],
   "source": [
    "from rdp import rdp\n",
    "inputList = [['M', 162.001, 69], ['Q', 162, 69, 161, 69], ['Q', 160, 69, 159.5, 69], ['Q', 159, 69, 158, 69], ['Q', 157, 69, 156, 69], ['Q', 155, 69, 154.5, 69], ['Q', 154, 69, 152.5, 70], ['Q', 151, 71, 149, 71], ['Q', 147, 71, 145.5, 71], ['Q', 144, 71, 142.5, 71.5], ['Q', 141, 72, 139.5, 73], ['Q', 138, 74, 135.5, 74], ['Q', 133, 74, 131.5, 74.5], ['Q', 130, 75, 127.5, 77], ['Q', 125, 79, 122.5, 79], ['Q', 120, 79, 117.5, 79.5], ['Q', 115, 80, 114.5, 81], ['Q', 114, 82, 112.5, 82], ['Q', 111, 82, 109, 82.5], ['Q', 107, 83, 106.5, 83], ['Q', 106, 83, 104.5, 83], ['Q', 103, 83, 102, 84], ['Q', 101, 85, 100, 85], ['Q', 99, 85, 98.5, 86], ['Q', 98, 87, 96.5, 87], ['Q', 95, 87, 94, 87], ['Q', 93, 87, 92, 87.5], ['Q', 91, 88, 89, 89], ['Q', 87, 90, 86, 90.5], ['Q', 85, 91, 83.5, 93], ['Q', 82, 95, 80.5, 95], ['Q', 79, 95, 77, 96.5], ['Q', 75, 98, 74.5, 98], ['Q', 74, 98, 72.5, 99.5], ['Q', 71, 101, 71, 102], ['Q', 71, 103, 69, 103], ['Q', 67, 103, 67, 104.5], ['Q', 67, 106, 66.5, 106], ['Q', 66, 106, 65, 106.5], ['Q', 64, 107, 63.5, 108], ['Q', 63, 109, 63, 110.5], ['Q', 63, 112, 62, 113], ['Q', 61, 114, 60, 115.5], ['Q', 59, 117, 59, 118], ['Q', 59, 119, 59, 119.5], ['Q', 59, 120, 59, 121], ['Q', 59, 122, 59, 122.5], ['Q', 59, 123, 59, 124], ['Q', 59, 125, 59, 126], ['Q', 59, 127, 59, 128.5], ['Q', 59, 130, 60, 130], ['Q', 61, 130, 61, 130.5], ['Q', 61, 131, 62.5, 132], ['Q', 64, 133, 65, 134], ['Q', 66, 135, 66.5, 136.5], ['Q', 67, 138, 68, 138], ['Q', 69, 138, 70, 139.5], ['Q', 71, 141, 72.5, 141], ['Q', 74, 141, 74.5, 142.5], ['Q', 75, 144, 76, 145], ['Q', 77, 146, 78.5, 146], ['Q', 80, 146, 81, 147.5], ['Q', 82, 149, 82.5, 149], ['Q', 83, 149, 84, 150], ['Q', 85, 151, 86.5, 151.5], ['Q', 88, 152, 89, 153], ['Q', 90, 154, 91.5, 155.5], ['Q', 93, 157, 94.5, 158], ['Q', 96, 159, 97.5, 159.5], ['Q', 99, 160, 100, 161], ['Q', 101, 162, 103.5, 163.5], ['Q', 106, 165, 107.5, 166], ['Q', 109, 167, 112, 167.5], ['Q', 115, 168, 117.5, 169.5], ['Q', 120, 171, 124, 172], ['Q', 128, 173, 131.5, 174], ['Q', 135, 175, 139.5, 175.5], ['Q', 144, 176, 148, 176], ['Q', 152, 176, 157, 176], ['Q', 162, 176, 165, 176], ['Q', 168, 176, 172, 176], ['Q', 176, 176, 178.5, 176], ['Q', 181, 176, 183.5, 176], ['Q', 186, 176, 188.5, 175.5], ['Q', 191, 175, 193, 175], ['Q', 195, 175, 197.5, 173], ['Q', 200, 171, 201.5, 170.5], ['Q', 203, 170, 204, 170], ['Q', 205, 170, 206.5, 168.5], ['Q', 208, 167, 209, 166], ['Q', 210, 165, 210.5, 164], ['Q', 211, 163, 212, 162.5], ['Q', 213, 162, 214.5, 160.5], ['Q', 216, 159, 217, 157], ['Q', 218, 155, 219.5, 153], ['Q', 221, 151, 222.5, 147.5], ['Q', 224, 144, 225.5, 141.5], ['Q', 227, 139, 229.5, 137], ['Q', 232, 135, 233.5, 133], ['Q', 235, 131, 236, 129], ['Q', 237, 127, 238.5, 123.5], ['Q', 240, 120, 241, 118.5], ['Q', 242, 117, 242.5, 114.5], ['Q', 243, 112, 243, 110.5], ['Q', 243, 109, 243, 107.5], ['Q', 243, 106, 243, 105], ['Q', 243, 104, 243, 102.5], ['Q', 243, 101, 243, 100], ['Q', 243, 99, 243, 98.5], ['Q', 243, 98, 243, 97], ['Q', 243, 96, 243, 95.5], ['Q', 243, 95, 242.5, 93], ['Q', 242, 91, 241, 90.5], ['Q', 240, 90, 240, 89], ['Q', 240, 88, 239.5, 88], ['Q', 239, 88, 238, 87.5], ['Q', 237, 87, 236, 86], ['Q', 235, 85, 234.5, 84], ['Q', 234, 83, 231.5, 81.5], ['Q', 229, 80, 227.5, 79.5], ['Q', 226, 79, 225, 77], ['Q', 224, 75, 223.5, 75], ['Q', 223, 75, 221, 73.5], ['Q', 219, 72, 218.5, 72], ['Q', 218, 72, 216.5, 71.5], ['Q', 215, 71, 214, 70], ['Q', 213, 69, 212, 69], ['Q', 211, 69, 210.5, 68], ['Q', 210, 67, 208.5, 67], ['Q', 207, 67, 207, 66.5], ['Q', 207, 66, 205, 66], ['Q', 203, 66, 202.5, 65], ['Q', 202, 64, 200.5, 64], ['Q', 199, 64, 198, 64], ['Q', 197, 64, 196, 64], ['Q', 195, 64, 194.5, 64], ['Q', 194, 64, 193, 64], ['Q', 192, 64, 191.5, 64], ['Q', 191, 64, 189, 64], ['Q', 187, 64, 186.5, 64], ['Q', 186, 64, 185, 64], ['Q', 184, 64, 183.5, 64], ['Q', 183, 64, 182, 64], ['Q', 181, 64, 180, 64], ['Q', 179, 64, 178.5, 64], ['Q', 178, 64, 177, 64], ['Q', 176, 64, 175.5, 64], ['Q', 175, 64, 174, 64], ['Q', 173, 64, 172, 64], ['Q', 171, 64, 170.5, 64], ['Q', 170, 64, 169, 64], ['Q', 168, 64, 167.5, 64], ['Q', 167, 64, 166, 64], ['Q', 165, 64, 164, 64], ['Q', 163, 64, 162.5, 64], ['Q', 162, 64, 161, 64], ['Q', 160, 64, 159.5, 64], ['Q', 159, 64, 158, 64], ['Q', 157, 64, 157, 65], ['L', 157, 66.001]]\n",
    "SecondList = [['M', 215.001, 125], ['Q', 215, 125, 214, 125], ['Q', 213, 125, 212, 125], ['Q', 211, 125, 210.5, 125], ['Q', 210, 125, 210, 126], ['Q', 210, 127, 209, 127], ['Q', 208, 127, 207.5, 127], ['Q', 207, 127, 207, 127.5], ['Q', 207, 128, 206, 128], ['Q', 205, 128, 204, 128], ['Q', 203, 128, 202.5, 129], ['Q', 202, 130, 200.5, 130], ['Q', 199, 130, 196.5, 130.5], ['Q', 194, 131, 192.5, 132], ['Q', 191, 133, 188.5, 133], ['Q', 186, 133, 184.5, 133], ['Q', 183, 133, 181, 134.5], ['Q', 179, 136, 177.5, 136], ['Q', 176, 136, 174.5, 137], ['Q', 173, 138, 171.5, 138], ['Q', 170, 138, 168.5, 138], ['Q', 167, 138, 165, 138], ['Q', 163, 138, 162.5, 138.5], ['Q', 162, 139, 160.5, 139], ['Q', 159, 139, 158, 139], ['Q', 157, 139, 156, 140], ['Q', 155, 141, 154.5, 141], ['Q', 154, 141, 153, 141], ['Q', 152, 141, 151.5, 141], ['Q', 151, 141, 150, 141], ['Q', 149, 141, 148, 141], ['Q', 147, 141, 145.5, 141], ['Q', 144, 141, 143.5, 141], ['Q', 143, 141, 141, 141], ['Q', 139, 141, 138.5, 141], ['Q', 138, 141, 136.5, 141], ['Q', 135, 141, 134, 141], ['Q', 133, 141, 132, 141], ['Q', 131, 141, 130.5, 141], ['Q', 130, 141, 129, 141], ['Q', 128, 141, 127.5, 141], ['Q', 127, 141, 127, 140], ['Q', 127, 139, 126, 139], ['Q', 125, 139, 124, 139], ['Q', 123, 139, 122.5, 139], ['Q', 122, 139, 121, 139], ['Q', 120, 139, 118.5, 138.5], ['Q', 117, 138, 116, 138], ['Q', 115, 138, 115, 137], ['Q', 115, 136, 114.5, 136], ['Q', 114, 136, 113, 135.5], ['Q', 112, 135, 110.5, 135], ['Q', 109, 135, 108, 135], ['Q', 107, 135, 106.5, 134], ['L', 105.999, 132.999]]\n",
    "#Remove the first and last list of the stroke\n",
    "firstStroke = ConvertStroke(inputList)\n",
    "secondStroke = ConvertStroke(SecondList)\n",
    "figure = []\n",
    "figure.append(firstStroke)\n",
    "figure.append(secondStroke)\n",
    "figure"
   ]
  },
  {
   "cell_type": "code",
   "execution_count": 3,
   "metadata": {},
   "outputs": [],
   "source": [
    "from tensorflow import keras\n",
    "imheight, imwidth = 64, 64  \n",
    "import ast\n",
    "import numpy as np\n",
    "import pandas as pd\n",
    "from tqdm import tqdm\n",
    "from glob import glob\n",
    "from dask import bag\n",
    "from PIL import Image, ImageDraw \n",
    "import os\n",
    "l=os.listdir('../Data/100_Categories/trainset')\n",
    "labels=[x.split('.')[0] for x in l]\n",
    "\n",
    "def draw_it(strokes):\n",
    "    image = Image.new(\"P\", (256,256), color=255)\n",
    "    image_draw = ImageDraw.Draw(image)\n",
    "    for stroke in ast.literal_eval(strokes):\n",
    "        for i in range(len(stroke[0])-1):\n",
    "            image_draw.line([stroke[0][i], \n",
    "                             stroke[1][i],\n",
    "                             stroke[0][i+1], \n",
    "                             stroke[1][i+1]],\n",
    "                            fill=0, width=5)\n",
    "    image = image.resize((imheight, imwidth))\n",
    "    return np.array(image)/255.\n",
    "\n",
    "def testArray():\n",
    "    test_grand = []\n",
    "    test = pd.read_csv('input.csv', usecols=['drawing'], nrows=1).head(1)\n",
    "    imagebag = bag.from_sequence(test.drawing.values).map(draw_it) \n",
    "    testarray = np.array(imagebag.compute())  # PARALLELIZE\n",
    "    testarray = np.reshape(testarray, (1, -1))    \n",
    "    labelarray = np.full((test.shape[0], 1),1)\n",
    "    testarray = np.concatenate((labelarray, testarray), axis=1)\n",
    "    test_grand.append(testarray)\n",
    "            \n",
    "    test_grand = np.array(test_grand.pop()).reshape((-1, (imheight*imwidth+1)))\n",
    "\n",
    "    del testarray\n",
    "    del test\n",
    "    return test_grand\n",
    "\n",
    "def SplitData(test_grand, num_classes):\n",
    "    y_test, X_test = test_grand[0: , 0], test_grand[0: , 1:]\n",
    "\n",
    "    y_test = keras.utils.to_categorical(y_test, num_classes)\n",
    "    X_test = X_test.reshape(X_test.shape[0], imheight, imwidth, 1)\n",
    "\n",
    "    return y_test, X_test\n"
   ]
  },
  {
   "cell_type": "code",
   "execution_count": null,
   "metadata": {},
   "outputs": [],
   "source": []
  },
  {
   "cell_type": "code",
   "execution_count": 4,
   "metadata": {},
   "outputs": [],
   "source": [
    "import pandas as pd\n",
    "from dask import bag\n",
    "test = pd.read_csv('input.csv', usecols=['drawing'], nrows=1).head(1)\n",
    "imagebag = bag.from_sequence(test.drawing.values).map(draw_it) "
   ]
  },
  {
   "cell_type": "code",
   "execution_count": null,
   "metadata": {},
   "outputs": [],
   "source": [
    "[[[162, 85, 63, 59, 109, 144, 195, 216, 242, 242, 202, 157],\n",
    "  [69, 91, 109, 130, 167, 176, 175, 159, 117, 91, 64, 64]],\n",
    " [[215, 127, 107], [125, 141, 135]]]"
   ]
  },
  {
   "cell_type": "code",
   "execution_count": 37,
   "metadata": {},
   "outputs": [
    {
     "ename": "FileNotFoundError",
     "evalue": "[WinError 3] The system cannot find the path specified: 'Data/100_Categories/trainset'",
     "output_type": "error",
     "traceback": [
      "\u001b[1;31m---------------------------------------------------------------------------\u001b[0m",
      "\u001b[1;31mFileNotFoundError\u001b[0m                         Traceback (most recent call last)",
      "\u001b[1;32m~\\AppData\\Local\\Temp/ipykernel_11556/53295926.py\u001b[0m in \u001b[0;36m<module>\u001b[1;34m\u001b[0m\n\u001b[0;32m      1\u001b[0m \u001b[1;32mimport\u001b[0m \u001b[0mos\u001b[0m\u001b[1;33m\u001b[0m\u001b[1;33m\u001b[0m\u001b[0m\n\u001b[1;32m----> 2\u001b[1;33m \u001b[0ml\u001b[0m\u001b[1;33m=\u001b[0m\u001b[0mos\u001b[0m\u001b[1;33m.\u001b[0m\u001b[0mlistdir\u001b[0m\u001b[1;33m(\u001b[0m\u001b[1;34m'Data/'\u001b[0m\u001b[1;33m+\u001b[0m\u001b[0mstr\u001b[0m\u001b[1;33m(\u001b[0m\u001b[1;36m100\u001b[0m\u001b[1;33m)\u001b[0m\u001b[1;33m+\u001b[0m\u001b[1;34m'_Categories/trainset'\u001b[0m\u001b[1;33m)\u001b[0m\u001b[1;33m\u001b[0m\u001b[1;33m\u001b[0m\u001b[0m\n\u001b[0m\u001b[0;32m      3\u001b[0m \u001b[0mlabels\u001b[0m\u001b[1;33m=\u001b[0m\u001b[1;33m[\u001b[0m\u001b[0mx\u001b[0m\u001b[1;33m.\u001b[0m\u001b[0msplit\u001b[0m\u001b[1;33m(\u001b[0m\u001b[1;34m'.'\u001b[0m\u001b[1;33m)\u001b[0m\u001b[1;33m[\u001b[0m\u001b[1;36m0\u001b[0m\u001b[1;33m]\u001b[0m \u001b[1;32mfor\u001b[0m \u001b[0mx\u001b[0m \u001b[1;32min\u001b[0m \u001b[0ml\u001b[0m\u001b[1;33m]\u001b[0m\u001b[1;33m\u001b[0m\u001b[1;33m\u001b[0m\u001b[0m\n\u001b[0;32m      4\u001b[0m \u001b[0mtype\u001b[0m\u001b[1;33m(\u001b[0m\u001b[0mlabels\u001b[0m\u001b[1;33m)\u001b[0m\u001b[1;33m\u001b[0m\u001b[1;33m\u001b[0m\u001b[0m\n",
      "\u001b[1;31mFileNotFoundError\u001b[0m: [WinError 3] The system cannot find the path specified: 'Data/100_Categories/trainset'"
     ]
    }
   ],
   "source": [
    "import os\n",
    "l=os.listdir('../Data/'+str(100)+'_Categories/trainset')\n",
    "labels=[x.split('.')[0] for x in l]\n",
    "type(labels)"
   ]
  },
  {
   "cell_type": "code",
   "execution_count": 36,
   "metadata": {},
   "outputs": [
    {
     "ename": "TypeError",
     "evalue": "__init__() got an unexpected keyword argument 'usecols'",
     "output_type": "error",
     "traceback": [
      "\u001b[1;31m---------------------------------------------------------------------------\u001b[0m",
      "\u001b[1;31mTypeError\u001b[0m                                 Traceback (most recent call last)",
      "\u001b[1;32m~\\AppData\\Local\\Temp/ipykernel_11556/3625229157.py\u001b[0m in \u001b[0;36m<module>\u001b[1;34m\u001b[0m\n\u001b[0;32m      1\u001b[0m \u001b[0mlist\u001b[0m \u001b[1;33m=\u001b[0m \u001b[1;33m{\u001b[0m\u001b[1;34m'drawing'\u001b[0m\u001b[1;33m:\u001b[0m\u001b[1;33m[\u001b[0m\u001b[1;33m[\u001b[0m\u001b[1;33m[\u001b[0m\u001b[1;33m[\u001b[0m\u001b[1;36m162\u001b[0m\u001b[1;33m,\u001b[0m \u001b[1;36m85\u001b[0m\u001b[1;33m,\u001b[0m \u001b[1;36m63\u001b[0m\u001b[1;33m,\u001b[0m \u001b[1;36m59\u001b[0m\u001b[1;33m,\u001b[0m \u001b[1;36m109\u001b[0m\u001b[1;33m,\u001b[0m \u001b[1;36m144\u001b[0m\u001b[1;33m,\u001b[0m \u001b[1;36m195\u001b[0m\u001b[1;33m,\u001b[0m \u001b[1;36m216\u001b[0m\u001b[1;33m,\u001b[0m \u001b[1;36m242\u001b[0m\u001b[1;33m,\u001b[0m \u001b[1;36m242\u001b[0m\u001b[1;33m,\u001b[0m \u001b[1;36m202\u001b[0m\u001b[1;33m,\u001b[0m \u001b[1;36m157\u001b[0m\u001b[1;33m]\u001b[0m\u001b[1;33m,\u001b[0m\u001b[1;33m[\u001b[0m\u001b[1;36m69\u001b[0m\u001b[1;33m,\u001b[0m \u001b[1;36m91\u001b[0m\u001b[1;33m,\u001b[0m \u001b[1;36m109\u001b[0m\u001b[1;33m,\u001b[0m \u001b[1;36m130\u001b[0m\u001b[1;33m,\u001b[0m \u001b[1;36m167\u001b[0m\u001b[1;33m,\u001b[0m \u001b[1;36m176\u001b[0m\u001b[1;33m,\u001b[0m \u001b[1;36m175\u001b[0m\u001b[1;33m,\u001b[0m \u001b[1;36m159\u001b[0m\u001b[1;33m,\u001b[0m \u001b[1;36m117\u001b[0m\u001b[1;33m,\u001b[0m \u001b[1;36m91\u001b[0m\u001b[1;33m,\u001b[0m \u001b[1;36m64\u001b[0m\u001b[1;33m,\u001b[0m \u001b[1;36m64\u001b[0m\u001b[1;33m]\u001b[0m\u001b[1;33m]\u001b[0m\u001b[1;33m,\u001b[0m\u001b[1;33m[\u001b[0m\u001b[1;33m[\u001b[0m\u001b[1;36m215\u001b[0m\u001b[1;33m,\u001b[0m \u001b[1;36m127\u001b[0m\u001b[1;33m,\u001b[0m \u001b[1;36m107\u001b[0m\u001b[1;33m]\u001b[0m\u001b[1;33m,\u001b[0m \u001b[1;33m[\u001b[0m\u001b[1;36m125\u001b[0m\u001b[1;33m,\u001b[0m \u001b[1;36m141\u001b[0m\u001b[1;33m,\u001b[0m \u001b[1;36m135\u001b[0m\u001b[1;33m]\u001b[0m\u001b[1;33m]\u001b[0m\u001b[1;33m]\u001b[0m\u001b[1;33m]\u001b[0m\u001b[1;33m}\u001b[0m\u001b[1;33m\u001b[0m\u001b[1;33m\u001b[0m\u001b[0m\n\u001b[1;32m----> 2\u001b[1;33m \u001b[0mdf\u001b[0m \u001b[1;33m=\u001b[0m \u001b[0mpd\u001b[0m\u001b[1;33m.\u001b[0m\u001b[0mDataFrame\u001b[0m\u001b[1;33m(\u001b[0m\u001b[0mlist\u001b[0m\u001b[1;33m,\u001b[0m \u001b[0musecols\u001b[0m\u001b[1;33m=\u001b[0m\u001b[1;33m[\u001b[0m\u001b[1;34m'drawing'\u001b[0m\u001b[1;33m]\u001b[0m\u001b[1;33m)\u001b[0m\u001b[1;33m.\u001b[0m\u001b[0mhead\u001b[0m\u001b[1;33m(\u001b[0m\u001b[1;36m1\u001b[0m\u001b[1;33m)\u001b[0m\u001b[1;33m\u001b[0m\u001b[1;33m\u001b[0m\u001b[0m\n\u001b[0m\u001b[0;32m      3\u001b[0m \u001b[0mdf\u001b[0m\u001b[1;33m\u001b[0m\u001b[1;33m\u001b[0m\u001b[0m\n",
      "\u001b[1;31mTypeError\u001b[0m: __init__() got an unexpected keyword argument 'usecols'"
     ]
    }
   ],
   "source": [
    "list = {'drawing':[[[[162, 85, 63, 59, 109, 144, 195, 216, 242, 242, 202, 157],[69, 91, 109, 130, 167, 176, 175, 159, 117, 91, 64, 64]],[[215, 127, 107], [125, 141, 135]]]]}\n",
    "df = pd.DataFrame(list).head(1)\n",
    "df"
   ]
  },
  {
   "cell_type": "code",
   "execution_count": 32,
   "metadata": {},
   "outputs": [
    {
     "data": {
      "text/html": [
       "<div>\n",
       "<style scoped>\n",
       "    .dataframe tbody tr th:only-of-type {\n",
       "        vertical-align: middle;\n",
       "    }\n",
       "\n",
       "    .dataframe tbody tr th {\n",
       "        vertical-align: top;\n",
       "    }\n",
       "\n",
       "    .dataframe thead th {\n",
       "        text-align: right;\n",
       "    }\n",
       "</style>\n",
       "<table border=\"1\" class=\"dataframe\">\n",
       "  <thead>\n",
       "    <tr style=\"text-align: right;\">\n",
       "      <th></th>\n",
       "      <th>drawing</th>\n",
       "    </tr>\n",
       "  </thead>\n",
       "  <tbody>\n",
       "    <tr>\n",
       "      <th>0</th>\n",
       "      <td>[[[201, 111, 72, 59, 61, 70, 90, 114, 141, 152...</td>\n",
       "    </tr>\n",
       "  </tbody>\n",
       "</table>\n",
       "</div>"
      ],
      "text/plain": [
       "                                             drawing\n",
       "0  [[[201, 111, 72, 59, 61, 70, 90, 114, 141, 152..."
      ]
     },
     "execution_count": 32,
     "metadata": {},
     "output_type": "execute_result"
    }
   ],
   "source": [
    "test = pd.read_csv('input.csv', usecols=['drawing'], nrows=1).head(1)\n",
    "test"
   ]
  },
  {
   "cell_type": "code",
   "execution_count": 25,
   "metadata": {},
   "outputs": [
    {
     "ename": "ValueError",
     "evalue": "DataFrame constructor not properly called!",
     "output_type": "error",
     "traceback": [
      "\u001b[1;31m---------------------------------------------------------------------------\u001b[0m",
      "\u001b[1;31mValueError\u001b[0m                                Traceback (most recent call last)",
      "\u001b[1;32m~\\AppData\\Local\\Temp/ipykernel_11556/1307365230.py\u001b[0m in \u001b[0;36m<module>\u001b[1;34m\u001b[0m\n\u001b[0;32m      1\u001b[0m \u001b[0minputList\u001b[0m \u001b[1;33m=\u001b[0m \u001b[1;34m\"[[162, 85, 63, 59, 109, 144, 195, 216, 242, 242, 202, 157],[69, 91, 109, 130, 167, 176, 175, 159, 117, 91, 64, 64]],[[215, 127, 107], [125, 141, 135]]\"\u001b[0m\u001b[1;33m\u001b[0m\u001b[1;33m\u001b[0m\u001b[0m\n\u001b[1;32m----> 2\u001b[1;33m \u001b[0mdf\u001b[0m \u001b[1;33m=\u001b[0m \u001b[0mpd\u001b[0m\u001b[1;33m.\u001b[0m\u001b[0mDataFrame\u001b[0m\u001b[1;33m(\u001b[0m\u001b[0minputList\u001b[0m\u001b[1;33m,\u001b[0m \u001b[0mcolumns\u001b[0m\u001b[1;33m=\u001b[0m\u001b[1;33m[\u001b[0m\u001b[1;34m'drawing'\u001b[0m\u001b[1;33m]\u001b[0m\u001b[1;33m)\u001b[0m\u001b[1;33m\u001b[0m\u001b[1;33m\u001b[0m\u001b[0m\n\u001b[0m\u001b[0;32m      3\u001b[0m \u001b[0mdf\u001b[0m\u001b[1;33m\u001b[0m\u001b[1;33m\u001b[0m\u001b[0m\n",
      "\u001b[1;32m~\\anaconda3\\lib\\site-packages\\pandas\\core\\frame.py\u001b[0m in \u001b[0;36m__init__\u001b[1;34m(self, data, index, columns, dtype, copy)\u001b[0m\n\u001b[0;32m    754\u001b[0m         \u001b[1;32melse\u001b[0m\u001b[1;33m:\u001b[0m\u001b[1;33m\u001b[0m\u001b[1;33m\u001b[0m\u001b[0m\n\u001b[0;32m    755\u001b[0m             \u001b[1;32mif\u001b[0m \u001b[0mindex\u001b[0m \u001b[1;32mis\u001b[0m \u001b[1;32mNone\u001b[0m \u001b[1;32mor\u001b[0m \u001b[0mcolumns\u001b[0m \u001b[1;32mis\u001b[0m \u001b[1;32mNone\u001b[0m\u001b[1;33m:\u001b[0m\u001b[1;33m\u001b[0m\u001b[1;33m\u001b[0m\u001b[0m\n\u001b[1;32m--> 756\u001b[1;33m                 \u001b[1;32mraise\u001b[0m \u001b[0mValueError\u001b[0m\u001b[1;33m(\u001b[0m\u001b[1;34m\"DataFrame constructor not properly called!\"\u001b[0m\u001b[1;33m)\u001b[0m\u001b[1;33m\u001b[0m\u001b[1;33m\u001b[0m\u001b[0m\n\u001b[0m\u001b[0;32m    757\u001b[0m \u001b[1;33m\u001b[0m\u001b[0m\n\u001b[0;32m    758\u001b[0m             \u001b[1;31m# Argument 1 to \"ensure_index\" has incompatible type \"Collection[Any]\";\u001b[0m\u001b[1;33m\u001b[0m\u001b[1;33m\u001b[0m\u001b[0m\n",
      "\u001b[1;31mValueError\u001b[0m: DataFrame constructor not properly called!"
     ]
    }
   ],
   "source": [
    "inputList = \"[[162, 85, 63, 59, 109, 144, 195, 216, 242, 242, 202, 157],[69, 91, 109, 130, 167, 176, 175, 159, 117, 91, 64, 64]],[[215, 127, 107], [125, 141, 135]]\"\n",
    "df = pd.DataFrame(inputList, columns=['drawing'])\n",
    "df"
   ]
  },
  {
   "cell_type": "code",
   "execution_count": 17,
   "metadata": {},
   "outputs": [
    {
     "data": {
      "text/plain": [
       "pandas.core.frame.DataFrame"
      ]
     },
     "execution_count": 17,
     "metadata": {},
     "output_type": "execute_result"
    }
   ],
   "source": [
    "type(test)"
   ]
  },
  {
   "cell_type": "code",
   "execution_count": 16,
   "metadata": {},
   "outputs": [
    {
     "data": {
      "text/plain": [
       "pandas.core.frame.DataFrame"
      ]
     },
     "execution_count": 16,
     "metadata": {},
     "output_type": "execute_result"
    }
   ],
   "source": [
    "type(df)"
   ]
  },
  {
   "cell_type": "code",
   "execution_count": 5,
   "metadata": {},
   "outputs": [
    {
     "name": "stdout",
     "output_type": "stream",
     "text": [
      "['[]']\n"
     ]
    }
   ],
   "source": [
    "print(test.drawing.values)"
   ]
  },
  {
   "cell_type": "code",
   "execution_count": 3,
   "metadata": {},
   "outputs": [],
   "source": [
    "test_grand = testArray()"
   ]
  },
  {
   "cell_type": "code",
   "execution_count": 4,
   "metadata": {},
   "outputs": [],
   "source": [
    "y_test, X_test = SplitData(test_grand, 100)"
   ]
  },
  {
   "cell_type": "code",
   "execution_count": 33,
   "metadata": {},
   "outputs": [],
   "source": [
    "test_grand = testArray()\n",
    "y_test, X_test = SplitData(test_grand, 100)\n",
    "model = keras.models.load_model('../Webapp/model/100_Categories_Model.h5')"
   ]
  },
  {
   "cell_type": "code",
   "execution_count": 34,
   "metadata": {},
   "outputs": [
    {
     "name": "stdout",
     "output_type": "stream",
     "text": [
      "1/1 [==============================] - 0s 114ms/step\n"
     ]
    }
   ],
   "source": [
    "prediction = model.predict(X_test)"
   ]
  },
  {
   "cell_type": "code",
   "execution_count": 37,
   "metadata": {},
   "outputs": [
    {
     "data": {
      "text/plain": [
       "array([[ 5, 32, 21, 55,  4]], dtype=int64)"
      ]
     },
     "execution_count": 37,
     "metadata": {},
     "output_type": "execute_result"
    }
   ],
   "source": [
    "np.argsort(prediction, axis=1)[:,-5:]"
   ]
  },
  {
   "cell_type": "code",
   "execution_count": 40,
   "metadata": {},
   "outputs": [
    {
     "ename": "AttributeError",
     "evalue": "'Functional' object has no attribute 'predict_proba'",
     "output_type": "error",
     "traceback": [
      "\u001b[1;31m---------------------------------------------------------------------------\u001b[0m",
      "\u001b[1;31mAttributeError\u001b[0m                            Traceback (most recent call last)",
      "\u001b[1;32m~\\AppData\\Local\\Temp/ipykernel_18964/3926885380.py\u001b[0m in \u001b[0;36m<module>\u001b[1;34m\u001b[0m\n\u001b[1;32m----> 1\u001b[1;33m \u001b[0mprediction\u001b[0m \u001b[1;33m=\u001b[0m \u001b[0mmodel\u001b[0m\u001b[1;33m.\u001b[0m\u001b[0mpredict_proba\u001b[0m\u001b[1;33m(\u001b[0m\u001b[0mX_test\u001b[0m\u001b[1;33m)\u001b[0m\u001b[1;33m\u001b[0m\u001b[1;33m\u001b[0m\u001b[0m\n\u001b[0m\u001b[0;32m      2\u001b[0m \u001b[0mprediction\u001b[0m\u001b[1;33m\u001b[0m\u001b[1;33m\u001b[0m\u001b[0m\n",
      "\u001b[1;31mAttributeError\u001b[0m: 'Functional' object has no attribute 'predict_proba'"
     ]
    }
   ],
   "source": [
    "prediction = model.predict_proba(X_test)\n",
    "prediction"
   ]
  },
  {
   "cell_type": "code",
   "execution_count": 42,
   "metadata": {},
   "outputs": [
    {
     "name": "stdout",
     "output_type": "stream",
     "text": [
      "1/1 [==============================] - 0s 17ms/step\n"
     ]
    },
    {
     "data": {
      "text/plain": [
       "0.97002834"
      ]
     },
     "execution_count": 42,
     "metadata": {},
     "output_type": "execute_result"
    }
   ],
   "source": [
    "labels=[x.split('.')[0] for x in os.listdir('../Data/'+str(100)+'_Categories/trainset')]\n",
    "labels[np.argmax(model.predict(X_test))]\n",
    "np.amax(prediction)"
   ]
  }
 ],
 "metadata": {
  "interpreter": {
   "hash": "f1b21a831ca0887bb1ca23965249b487d59158d2ac98669dee611127e8c84e44"
  },
  "kernelspec": {
   "display_name": "Python 3.9.7 ('base')",
   "language": "python",
   "name": "python3"
  },
  "language_info": {
   "codemirror_mode": {
    "name": "ipython",
    "version": 3
   },
   "file_extension": ".py",
   "mimetype": "text/x-python",
   "name": "python",
   "nbconvert_exporter": "python",
   "pygments_lexer": "ipython3",
   "version": "3.9.7"
  },
  "orig_nbformat": 4
 },
 "nbformat": 4,
 "nbformat_minor": 2
}
