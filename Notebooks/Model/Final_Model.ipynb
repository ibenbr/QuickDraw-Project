{
  "cells": [
    {
      "cell_type": "code",
      "execution_count": 1,
      "metadata": {
        "gather": {
          "logged": 1653845437160
        }
      },
      "outputs": [],
      "source": [
        "#%% import\n",
        "import os\n",
        "os.chdir('../../')\n",
        "import ast\n",
        "import os\n",
        "import shutil\n",
        "import numpy as np \n",
        "import pandas as pd\n",
        "import os\n",
        "from os import path\n",
        "from glob import glob\n",
        "from PIL import Image, ImageDraw \n",
        "from tqdm import tqdm\n",
        "from dask import bag\n",
        "import matplotlib.pyplot as plt\n",
        "\n",
        "import tensorflow as tf\n",
        "from tensorflow import keras\n",
        "from tensorflow.keras import layers\n",
        "from tensorflow.keras.models import Sequential\n",
        "from tensorflow.keras.layers import Conv2D, MaxPooling2D, MaxPool2D, Dense, Dropout, Flatten\n",
        "from tensorflow.keras.metrics import top_k_categorical_accuracy\n",
        "from tensorflow.keras.callbacks import ModelCheckpoint, ReduceLROnPlateau, EarlyStopping\n",
        "import shutil"
      ]
    },
    {
      "cell_type": "code",
      "execution_count": 2,
      "metadata": {
        "gather": {
          "logged": 1653845437323
        }
      },
      "outputs": [],
      "source": [
        "#%% set label dictionary and params\n",
        "classfiles = os.listdir('Data/')\n",
        "numstonames = {i: v[:-4].replace(\" \", \"_\") for i, v in enumerate(classfiles)} #adds underscores\n",
        "\n",
        "num_classes = 100    #340 max \n",
        "imheight, imwidth = 64, 64  \n",
        "ims_per_class = 4000  #max?"
      ]
    },
    {
      "cell_type": "code",
      "execution_count": 3,
      "metadata": {
        "gather": {
          "logged": 1653845437447
        }
      },
      "outputs": [],
      "source": [
        "def Create_Testset(directory, classes):\n",
        "    destination = 'Data/'+str(classes)+'_Categories/testset' \n",
        "    exists = os.path.exists(destination)\n",
        "    \n",
        "    if not exists:\n",
        "        os.makedirs(destination)\n",
        "\n",
        "    for filename in os.listdir(directory):\n",
        "        df = pd.read_csv(directory+filename)\n",
        "        df2 = df.tail(100)\n",
        "\n",
        "        row_count, dummy = df.shape\n",
        "        if row_count > 20000:\n",
        "            df.drop(df.tail(100).index,inplace = True)\n",
        "            df.to_csv(directory+filename, index=False)\n",
        "\n",
        "        df2.to_csv(\"Data/\"+str(classes)+\"_categories/testset/\"+filename, mode='w', index=False)\n",
        "\n",
        "def splitData(amount):\n",
        "    source = 'Data/Complete_Data_Filtered/'              \n",
        "    destination = 'Data/'+str(amount)+'_Categories/trainset/' \n",
        "    exists = os.path.exists(destination)\n",
        "    \n",
        "    if not exists:\n",
        "        os.makedirs(destination)\n",
        "\n",
        "    folders = os.listdir(source)               \n",
        "\n",
        "    for folder in folders[:amount+2]:                                           \n",
        "        file = folder                  \n",
        "        curr_file = source + file    \n",
        "        shutil.copy(curr_file, destination) \n",
        "    \n",
        "    directory = \"Data/\"+str(amount)+\"_Categories/trainset/\"\n",
        "    Create_Testset(directory, amount)"
      ]
    },
    {
      "cell_type": "code",
      "execution_count": 4,
      "metadata": {
        "gather": {
          "logged": 1653845438318
        }
      },
      "outputs": [],
      "source": [
        "def draw_it(strokes):\n",
        "    image = Image.new(\"P\", (256,256), color=255)\n",
        "    image_draw = ImageDraw.Draw(image)\n",
        "    for stroke in ast.literal_eval(strokes):\n",
        "        for i in range(len(stroke[0])-1):\n",
        "            image_draw.line([stroke[0][i], \n",
        "                             stroke[1][i],\n",
        "                             stroke[0][i+1], \n",
        "                             stroke[1][i+1]],\n",
        "                            fill=0, width=5)\n",
        "    image = image.resize((imheight, imwidth))\n",
        "    return np.array(image)/255.\n",
        "\n",
        "def trainArray(path, num_classes, ims_per_class):\n",
        "    path = path+\"trainset/*.csv\"\n",
        "    train_grand = []\n",
        "    class_paths = glob(path)\n",
        "    for i,c in enumerate(tqdm(class_paths[0: num_classes])):\n",
        "        train = pd.read_csv(c, usecols=['drawing'], nrows=ims_per_class*5//4).head(ims_per_class)\n",
        "        imagebag = bag.from_sequence(train.drawing.values).map(draw_it) \n",
        "        trainarray = np.array(imagebag.compute())  # PARALLELIZE\n",
        "        trainarray = np.reshape(trainarray, (ims_per_class, -1))    \n",
        "        labelarray = np.full((train.shape[0], 1), i)\n",
        "        trainarray = np.concatenate((labelarray, trainarray), axis=1)\n",
        "        train_grand.append(trainarray)\n",
        "        \n",
        "    train_grand = np.array([train_grand.pop() for i in np.arange(num_classes)]) #less memory than np.concatenate\n",
        "    train_grand = train_grand.reshape((-1, (imheight*imwidth+1)))\n",
        "\n",
        "    del trainarray\n",
        "    del train\n",
        "    return train_grand\n",
        "\n",
        "def testArray(path, num_classes, ims_per_class):\n",
        "    path = path+\"testset/*.csv\"\n",
        "    test_grand = []\n",
        "    class_paths = glob(path)\n",
        "    for i,c in enumerate(tqdm(class_paths[0: num_classes])):\n",
        "        test = pd.read_csv(c, usecols=['drawing'], nrows=ims_per_class*5//4).head(ims_per_class)\n",
        "        imagebag = bag.from_sequence(test.drawing.values).map(draw_it) \n",
        "        testarray = np.array(imagebag.compute())  # PARALLELIZE\n",
        "        testarray = np.reshape(testarray, (ims_per_class, -1))    \n",
        "        labelarray = np.full((test.shape[0], 1), i)\n",
        "        testarray = np.concatenate((labelarray, testarray), axis=1)\n",
        "        test_grand.append(testarray)\n",
        "        \n",
        "    test_grand = np.array([test_grand.pop() for i in np.arange(num_classes)]) #less memory than np.concatenate\n",
        "    test_grand = test_grand.reshape((-1, (imheight*imwidth+1)))\n",
        "\n",
        "    del testarray\n",
        "    del test\n",
        "    return test_grand"
      ]
    },
    {
      "cell_type": "code",
      "execution_count": 5,
      "metadata": {
        "gather": {
          "logged": 1653845438531
        }
      },
      "outputs": [],
      "source": [
        "def SplitData(train_grand, test_grand, num_classes):\n",
        "    # memory-friendly alternative to train_test_split\n",
        "    valfrac = 0.15\n",
        "    cutpt = int(valfrac * train_grand.shape[0])\n",
        "\n",
        "    np.random.shuffle(train_grand)\n",
        "    y_train, X_train = train_grand[cutpt: , 0], train_grand[cutpt: , 1:]\n",
        "    y_val, X_val = train_grand[0:cutpt, 0], train_grand[0:cutpt, 1:]\n",
        "    y_test, X_test = test_grand[0: , 0], test_grand[0: , 1:]\n",
        "\n",
        "    y_train = keras.utils.to_categorical(y_train, num_classes)\n",
        "    X_train = X_train.reshape(X_train.shape[0], imheight, imwidth, 1)\n",
        "\n",
        "    y_val = keras.utils.to_categorical(y_val, num_classes)\n",
        "    X_val = X_val.reshape(X_val.shape[0], imheight, imwidth, 1)\n",
        "\n",
        "    y_test = keras.utils.to_categorical(y_test, num_classes)\n",
        "    X_test = X_test.reshape(X_test.shape[0], imheight, imwidth, 1)\n",
        "\n",
        "    return y_train, X_train, y_val, X_val, y_test, X_test"
      ]
    },
    {
      "cell_type": "code",
      "execution_count": 6,
      "metadata": {
        "gather": {
          "logged": 1653845439309
        }
      },
      "outputs": [],
      "source": [
        "def model(classes):\n",
        "    data_augmentation = keras.Sequential([\n",
        "        layers.RandomFlip(\"horizontal\"),\n",
        "        layers.RandomRotation(0.1),\n",
        "        layers.RandomZoom(0.2),\n",
        "    ])\n",
        "\n",
        "    inputs = keras.Input(shape=(64,64,1))\n",
        "\n",
        "    x = layers.Conv2D(filters=16, kernel_size=3, padding='same', activation=\"relu\")(inputs)\n",
        "    x = layers.MaxPooling2D(pool_size=2, strides=2)(x)\n",
        "    x = layers.Dropout(0.15)(x)\n",
        "\n",
        "    x = layers.Conv2D(filters=32, kernel_size=3, padding='same', activation=\"relu\")(x)\n",
        "    x = layers.MaxPooling2D(pool_size=2, strides=2)(x)\n",
        "    x = layers.Dropout(0.15)(x)\n",
        "\n",
        "    x = layers.Conv2D(filters=64, kernel_size=3, padding='same', activation=\"relu\")(x)\n",
        "    x = layers.MaxPooling2D(pool_size=2, strides=2)(x)\n",
        "    x = layers.Dropout(0.15)(x)\n",
        "\n",
        "    x = layers.Conv2D(filters=128, kernel_size=3, padding='same', activation=\"relu\")(x)\n",
        "    x = layers.MaxPooling2D(pool_size=2, strides=2)(x)\n",
        "    x = layers.Dropout(0.15)(x)\n",
        "\n",
        "    x = layers.Conv2D(filters=256, kernel_size=3, padding='same', activation=\"relu\")(x)\n",
        "    x = layers.MaxPooling2D(pool_size=2, strides=2)(x)\n",
        "    x = layers.Dropout(0.15)(x)\n",
        "\n",
        "    x = layers.Flatten()(x)\n",
        "\n",
        "    x = layers.Dense(512, activation='relu')(x)\n",
        "    x = layers.Dropout(0.5)(x)\n",
        "\n",
        "    outputs = layers.Dense(classes, activation=\"softmax\")(x)\n",
        "    model = keras.Model(inputs=inputs, outputs=outputs)\n",
        "    return model"
      ]
    },
    {
      "cell_type": "code",
      "execution_count": 7,
      "metadata": {
        "gather": {
          "logged": 1653845546047
        },
        "jupyter": {
          "outputs_hidden": false,
          "source_hidden": false
        },
        "nteract": {
          "transient": {
            "deleting": false
          }
        }
      },
      "outputs": [],
      "source": [
        "splitData(num_classes)"
      ]
    },
    {
      "cell_type": "code",
      "execution_count": 8,
      "metadata": {
        "gather": {
          "logged": 1653845927642
        }
      },
      "outputs": [
        {
          "name": "stderr",
          "output_type": "stream",
          "text": [
            "100%|██████████| 100/100 [03:30<00:00,  2.10s/it]\n",
            "100%|██████████| 100/100 [02:40<00:00,  1.60s/it]\n"
          ]
        }
      ],
      "source": [
        "path = 'Data/'+str(num_classes)+'_Categories/'\n",
        "\n",
        "TrainArray = trainArray(path, num_classes, ims_per_class)\n",
        "TestArray = testArray(path, num_classes, 100)\n",
        "\n",
        "y_train, X_train, y_val, X_val, y_test, X_test = SplitData(TrainArray, TestArray, num_classes)"
      ]
    },
    {
      "cell_type": "code",
      "execution_count": 9,
      "metadata": {
        "gather": {
          "logged": 1653845929381
        },
        "jupyter": {
          "outputs_hidden": false,
          "source_hidden": false
        },
        "nteract": {
          "transient": {
            "deleting": false
          }
        }
      },
      "outputs": [],
      "source": [
        "model = model(num_classes)"
      ]
    },
    {
      "cell_type": "code",
      "execution_count": 10,
      "metadata": {
        "gather": {
          "logged": 1653850731976
        }
      },
      "outputs": [
        {
          "name": "stdout",
          "output_type": "stream",
          "text": [
            "Epoch 1/100\n",
            "1329/1329 [==============================] - 53s 38ms/step - loss: 3.9335 - accuracy: 0.1039 - val_loss: 3.1319 - val_accuracy: 0.2801\b\b\b\b\b\b\b\b\b\b\b\b\b\b\b\b\b\b\b\b\b\b\b\b\b\b\b\b\b\b\b\b\b\b\b\b\b\b\b\b\b\b\b\b\b\b\b\b\n",
            "Epoch 2/100\n",
            "1329/1329 [==============================] - 48s 36ms/step - loss: 2.8291 - accuracy: 0.2965 - val_loss: 2.2642 - val_accuracy: 0.4380\b\b\b\b\b\b\b\b\b\b\b\b\b\b\b\b\b\b\b\b\b\b\b\b\b\b\b\b\b\b\b\b\b\b\b\b\b\b\b\b\n",
            "Epoch 3/100\n",
            "1329/1329 [==============================] - 48s 36ms/step - loss: 2.2576 - accuracy: 0.4153 - val_loss: 1.8906 - val_accuracy: 0.5147\b\b\b\b\b\b\b\b\b\b\b\b\b\b\b\b\b\b\b\b\b\b\b\b\b\b\b\b\b\b\b\b\b\b\b\b\b\b\b\b\n",
            "Epoch 4/100\n",
            "1329/1329 [==============================] - 48s 36ms/step - loss: 1.9386 - accuracy: 0.4873 - val_loss: 1.6486 - val_accuracy: 0.5667\b\b\b\b\b\b\b\b\b\b\b\b\b\b\b\b\b\b\b\b\b\b\b\b\b\b\b\b\b\b\b\b\b\b\b\b\b\b\b\b\n",
            "Epoch 5/100\n",
            "1329/1329 [==============================] - 48s 36ms/step - loss: 1.7165 - accuracy: 0.5384 - val_loss: 1.3654 - val_accuracy: 0.6340\b\b\b\b\b\b\b\b\b\b\b\b\b\b\b\b\b\b\b\b\b\b\b\b\b\b\b\b\b\b\b\b\b\b\b\b\b\b\b\b\n",
            "Epoch 6/100\n",
            "1329/1329 [==============================] - 48s 36ms/step - loss: 1.5441 - accuracy: 0.5796 - val_loss: 1.2654 - val_accuracy: 0.6567\b\b\b\b\b\b\b\b\b\b\b\b\b\b\b\b\b\b\b\b\b\b\b\b\b\b\b\b\b\b\b\b\b\b\b\b\b\b\b\b\n",
            "Epoch 7/100\n",
            "1329/1329 [==============================] - 48s 36ms/step - loss: 1.4068 - accuracy: 0.6129 - val_loss: 1.1174 - val_accuracy: 0.6960\b\b\b\b\b\b\b\b\b\b\b\b\b\b\b\b\b\b\b\b\b\b\b\b\b\b\b\b\b\b\b\b\b\b\b\b\b\b\b\b\n",
            "Epoch 8/100\n",
            "1329/1329 [==============================] - 48s 36ms/step - loss: 1.3060 - accuracy: 0.6377 - val_loss: 1.0366 - val_accuracy: 0.7152\b\b\b\b\b\b\b\b\b\b\b\b\b\b\b\b\b\b\b\b\b\b\b\b\b\b\b\b\b\b\b\b\b\b\b\b\b\b\b\b\b\b\n",
            "Epoch 9/100\n",
            "1329/1329 [==============================] - 48s 36ms/step - loss: 1.2261 - accuracy: 0.6569 - val_loss: 0.9949 - val_accuracy: 0.7222\b\b\b\b\b\b\b\b\b\b\b\b\b\b\b\b\b\b\b\b\b\b\b\b\b\b\b\b\b\b\b\b\b\b\b\b\b\b\b\b\n",
            "Epoch 10/100\n",
            "1329/1329 [==============================] - 48s 36ms/step - loss: 1.1615 - accuracy: 0.6733 - val_loss: 0.9370 - val_accuracy: 0.7374\b\b\b\b\b\b\b\b\b\b\b\b\b\b\b\b\b\b\b\b\b\b\b\b\b\b\b\b\b\b\b\b\b\b\b\b\b\b\b\b\n",
            "Epoch 11/100\n",
            "1329/1329 [==============================] - 48s 36ms/step - loss: 1.1098 - accuracy: 0.6866 - val_loss: 0.8865 - val_accuracy: 0.7495\b\b\b\b\b\b\b\b\b\b\b\b\b\b\b\b\b\b\b\b\b\b\b\b\b\b\b\b\b\b\b\b\b\b\b\b\b\b\b\b\n",
            "Epoch 12/100\n",
            "1329/1329 [==============================] - 48s 36ms/step - loss: 1.0622 - accuracy: 0.6984 - val_loss: 0.8515 - val_accuracy: 0.7583\b\b\b\b\b\b\b\b\b\b\b\b\b\b\b\b\b\b\b\b\b\b\b\b\b\b\b\b\b\b\b\b\b\b\b\b\b\b\b\b\n",
            "Epoch 13/100\n",
            "1329/1329 [==============================] - 48s 36ms/step - loss: 1.0219 - accuracy: 0.7072 - val_loss: 0.8330 - val_accuracy: 0.7642\b\b\b\b\b\b\b\b\b\b\b\b\b\b\b\b\b\b\b\b\b\b\b\b\b\b\b\b\b\b\b\b\b\b\b\b\b\b\b\b\n",
            "Epoch 14/100\n",
            "1329/1329 [==============================] - 48s 36ms/step - loss: 0.9864 - accuracy: 0.7174 - val_loss: 0.8063 - val_accuracy: 0.7708\b\b\b\b\b\b\b\b\b\b\b\b\b\b\b\b\b\b\b\b\b\b\b\b\b\b\b\b\b\b\b\b\b\b\b\b\b\b\b\b\n",
            "Epoch 15/100\n",
            "1329/1329 [==============================] - 48s 36ms/step - loss: 0.9578 - accuracy: 0.7246 - val_loss: 0.7764 - val_accuracy: 0.7764\b\b\b\b\b\b\b\b\b\b\b\b\b\b\b\b\b\b\b\b\b\b\b\b\b\b\b\b\b\b\b\b\b\b\b\b\b\b\b\b\n",
            "Epoch 16/100\n",
            "1329/1329 [==============================] - 48s 36ms/step - loss: 0.9306 - accuracy: 0.7315 - val_loss: 0.7656 - val_accuracy: 0.7804\b\b\b\b\b\b\b\b\b\b\b\b\b\b\b\b\b\b\b\b\b\b\b\b\b\b\b\b\b\b\b\b\b\b\b\b\b\b\b\b\n",
            "Epoch 17/100\n",
            "1329/1329 [==============================] - 48s 36ms/step - loss: 0.9066 - accuracy: 0.7382 - val_loss: 0.7494 - val_accuracy: 0.7845\b\b\b\b\b\b\b\b\b\b\b\b\b\b\b\b\b\b\b\b\b\b\b\b\b\b\b\b\b\b\b\b\b\b\b\b\b\b\b\b\n",
            "Epoch 18/100\n",
            "1329/1329 [==============================] - 48s 36ms/step - loss: 0.8844 - accuracy: 0.7429 - val_loss: 0.7346 - val_accuracy: 0.7900\b\b\b\b\b\b\b\b\b\b\b\b\b\b\b\b\b\b\b\b\b\b\b\b\b\b\b\b\b\b\b\b\b\b\b\b\b\b\b\b\n",
            "Epoch 19/100\n",
            "1329/1329 [==============================] - 48s 36ms/step - loss: 0.8645 - accuracy: 0.7488 - val_loss: 0.7105 - val_accuracy: 0.7943\b\b\b\b\b\b\b\b\b\b\b\b\b\b\b\b\b\b\b\b\b\b\b\b\b\b\b\b\b\b\b\b\b\b\b\b\b\b\b\b\n",
            "Epoch 20/100\n",
            "1329/1329 [==============================] - 48s 36ms/step - loss: 0.8464 - accuracy: 0.7533 - val_loss: 0.7073 - val_accuracy: 0.7950\b\b\b\b\b\b\b\b\b\b\b\b\b\b\b\b\b\b\b\b\b\b\b\b\b\b\b\b\b\b\b\b\b\b\b\b\b\b\b\b\n",
            "Epoch 21/100\n",
            "1329/1329 [==============================] - 48s 36ms/step - loss: 0.8328 - accuracy: 0.7567 - val_loss: 0.6958 - val_accuracy: 0.7984\b\b\b\b\b\b\b\b\b\b\b\b\b\b\b\b\b\b\b\b\b\b\b\b\b\b\b\b\b\b\b\b\b\b\b\b\b\b\b\b\n",
            "Epoch 22/100\n",
            "1329/1329 [==============================] - 48s 36ms/step - loss: 0.8150 - accuracy: 0.7614 - val_loss: 0.6884 - val_accuracy: 0.8000\b\b\b\b\b\b\b\b\b\b\b\b\b\b\b\b\b\b\b\b\b\b\b\b\b\b\b\b\b\b\b\b\b\b\b\b\b\b\b\b\n",
            "Epoch 23/100\n",
            "1329/1329 [==============================] - 48s 36ms/step - loss: 0.8009 - accuracy: 0.7650 - val_loss: 0.6740 - val_accuracy: 0.8032\b\b\b\b\b\b\b\b\b\b\b\b\b\b\b\b\b\b\b\b\b\b\b\b\b\b\b\b\b\b\b\b\b\b\b\b\b\b\b\b\n",
            "Epoch 24/100\n",
            "1329/1329 [==============================] - 48s 36ms/step - loss: 0.7911 - accuracy: 0.7681 - val_loss: 0.6644 - val_accuracy: 0.8054\b\b\b\b\b\b\b\b\b\b\b\b\b\b\b\b\b\b\b\b\b\b\b\b\b\b\b\b\b\b\b\b\b\b\b\b\b\b\b\b\n",
            "Epoch 25/100\n",
            "1329/1329 [==============================] - 48s 36ms/step - loss: 0.7766 - accuracy: 0.7717 - val_loss: 0.6548 - val_accuracy: 0.8083\b\b\b\b\b\b\b\b\b\b\b\b\b\b\b\b\b\b\b\b\b\b\b\b\b\b\b\b\b\b\b\b\b\b\b\b\b\b\b\b\n",
            "Epoch 26/100\n",
            "1329/1329 [==============================] - 48s 36ms/step - loss: 0.7667 - accuracy: 0.7739 - val_loss: 0.6563 - val_accuracy: 0.8082\b\b\b\b\b\b\b\b\b\b\b\b\b\b\b\b\b\b\b\b\b\b\b\b\b\b\b\b\b\b\b\b\b\b\b\b\b\b\b\b\n",
            "Epoch 27/100\n",
            "1329/1329 [==============================] - 48s 36ms/step - loss: 0.7559 - accuracy: 0.7768 - val_loss: 0.6420 - val_accuracy: 0.8124\b\b\b\b\b\b\b\b\b\b\b\b\b\b\b\b\b\b\b\b\b\b\b\b\b\b\b\b\b\b\b\b\b\b\b\b\b\b\b\b\n",
            "Epoch 28/100\n",
            "1329/1329 [==============================] - 48s 36ms/step - loss: 0.7466 - accuracy: 0.7797 - val_loss: 0.6377 - val_accuracy: 0.8134\b\b\b\b\b\b\b\b\b\b\b\b\b\b\b\b\b\b\b\b\b\b\b\b\b\b\b\b\b\b\b\b\b\b\b\b\b\b\b\b\n",
            "Epoch 29/100\n",
            "1329/1329 [==============================] - 48s 36ms/step - loss: 0.7369 - accuracy: 0.7827 - val_loss: 0.6397 - val_accuracy: 0.8126\b\b\b\b\b\b\b\b\b\b\b\b\b\b\b\b\b\b\b\b\b\b\b\b\b\b\b\b\b\b\b\b\b\b\b\b\b\b\b\b\n",
            "Epoch 30/100\n",
            "1329/1329 [==============================] - 48s 36ms/step - loss: 0.7284 - accuracy: 0.7847 - val_loss: 0.6485 - val_accuracy: 0.8104\b\b\b\b\b\b\b\b\b\b\b\b\b\b\b\b\b\b\b\b\b\b\b\b\b\b\b\b\b\b\b\b\b\b\b\b\b\b\b\b\n",
            "Epoch 31/100\n",
            "1329/1329 [==============================] - 48s 36ms/step - loss: 0.7187 - accuracy: 0.7863 - val_loss: 0.6168 - val_accuracy: 0.8186\b\b\b\b\b\b\b\b\b\b\b\b\b\b\b\b\b\b\b\b\b\b\b\b\b\b\b\b\b\b\b\b\b\b\b\b\b\b\b\b\n",
            "Epoch 32/100\n",
            "1329/1329 [==============================] - 48s 36ms/step - loss: 0.7137 - accuracy: 0.7879 - val_loss: 0.6267 - val_accuracy: 0.8158\b\b\b\b\b\b\b\b\b\b\b\b\b\b\b\b\b\b\b\b\b\b\b\b\b\b\b\b\b\b\b\b\b\b\b\b\b\b\b\b\n",
            "Epoch 33/100\n",
            "1329/1329 [==============================] - 48s 36ms/step - loss: 0.7042 - accuracy: 0.7901 - val_loss: 0.6156 - val_accuracy: 0.8188\b\b\b\b\b\b\b\b\b\b\b\b\b\b\b\b\b\b\b\b\b\b\b\b\b\b\b\b\b\b\b\b\b\b\b\b\b\b\b\b\n",
            "Epoch 34/100\n",
            "1329/1329 [==============================] - 48s 36ms/step - loss: 0.6974 - accuracy: 0.7929 - val_loss: 0.6211 - val_accuracy: 0.8183\b\b\b\b\b\b\b\b\b\b\b\b\b\b\b\b\b\b\b\b\b\b\b\b\b\b\b\b\b\b\b\b\b\b\b\b\b\b\b\b\n",
            "Epoch 35/100\n",
            "1329/1329 [==============================] - 48s 36ms/step - loss: 0.6915 - accuracy: 0.7945 - val_loss: 0.6033 - val_accuracy: 0.8232\b\b\b\b\b\b\b\b\b\b\b\b\b\b\b\b\b\b\b\b\b\b\b\b\b\b\b\b\b\b\b\b\b\b\b\b\b\b\b\b\n",
            "Epoch 36/100\n",
            "1329/1329 [==============================] - 48s 36ms/step - loss: 0.6835 - accuracy: 0.7967 - val_loss: 0.6029 - val_accuracy: 0.8233\b\b\b\b\b\b\b\b\b\b\b\b\b\b\b\b\b\b\b\b\b\b\b\b\b\b\b\b\b\b\b\b\b\b\b\b\b\b\b\b\n",
            "Epoch 37/100\n",
            "1329/1329 [==============================] - 48s 36ms/step - loss: 0.6811 - accuracy: 0.7968 - val_loss: 0.6098 - val_accuracy: 0.8219\b\b\b\b\b\b\b\b\b\b\b\b\b\b\b\b\b\b\b\b\b\b\b\b\b\b\b\b\b\b\b\b\b\b\b\b\b\b\b\b\n",
            "Epoch 38/100\n",
            "1329/1329 [==============================] - 48s 36ms/step - loss: 0.6743 - accuracy: 0.7989 - val_loss: 0.6107 - val_accuracy: 0.8226\b\b\b\b\b\b\b\b\b\b\b\b\b\b\b\b\b\b\b\b\b\b\b\b\b\b\b\b\b\b\b\b\b\b\b\b\b\b\b\b\n",
            "Epoch 39/100\n",
            "1329/1329 [==============================] - 48s 36ms/step - loss: 0.6696 - accuracy: 0.8003 - val_loss: 0.5996 - val_accuracy: 0.8240\b\b\b\b\b\b\b\b\b\b\b\b\b\b\b\b\b\b\b\b\b\b\b\b\b\b\b\b\b\b\b\b\b\b\b\b\b\b\b\b\n",
            "Epoch 40/100\n",
            "1329/1329 [==============================] - 48s 36ms/step - loss: 0.6636 - accuracy: 0.8013 - val_loss: 0.5973 - val_accuracy: 0.8246\b\b\b\b\b\b\b\b\b\b\b\b\b\b\b\b\b\b\b\b\b\b\b\b\b\b\b\b\b\b\b\b\b\b\b\b\b\b\b\b\n",
            "Epoch 41/100\n",
            "1329/1329 [==============================] - 48s 36ms/step - loss: 0.6579 - accuracy: 0.8037 - val_loss: 0.5882 - val_accuracy: 0.8256\b\b\b\b\b\b\b\b\b\b\b\b\b\b\b\b\b\b\b\b\b\b\b\b\b\b\b\b\b\b\b\b\b\b\b\b\b\b\b\b\n",
            "Epoch 42/100\n",
            "1329/1329 [==============================] - 48s 36ms/step - loss: 0.6530 - accuracy: 0.8037 - val_loss: 0.5903 - val_accuracy: 0.8274\b\b\b\b\b\b\b\b\b\b\b\b\b\b\b\b\b\b\b\b\b\b\b\b\b\b\b\b\b\b\b\b\b\b\b\b\b\b\b\b\n",
            "Epoch 43/100\n",
            "1329/1329 [==============================] - 48s 36ms/step - loss: 0.6501 - accuracy: 0.8051 - val_loss: 0.5833 - val_accuracy: 0.8297\b\b\b\b\b\b\b\b\b\b\b\b\b\b\b\b\b\b\b\b\b\b\b\b\b\b\b\b\b\b\b\b\b\b\b\b\b\b\b\b\n",
            "Epoch 44/100\n",
            "1329/1329 [==============================] - 48s 36ms/step - loss: 0.6449 - accuracy: 0.8072 - val_loss: 0.5844 - val_accuracy: 0.8273\b\b\b\b\b\b\b\b\b\b\b\b\b\b\b\b\b\b\b\b\b\b\b\b\b\b\b\b\b\b\b\b\b\b\b\b\b\b\b\b\n",
            "Epoch 45/100\n",
            "1329/1329 [==============================] - 48s 36ms/step - loss: 0.6415 - accuracy: 0.8078 - val_loss: 0.5827 - val_accuracy: 0.8287\b\b\b\b\b\b\b\b\b\b\b\b\b\b\b\b\b\b\b\b\b\b\b\b\b\b\b\b\b\b\b\b\b\b\b\b\b\b\b\b\n",
            "Epoch 46/100\n",
            "1329/1329 [==============================] - 48s 36ms/step - loss: 0.6402 - accuracy: 0.8079 - val_loss: 0.5846 - val_accuracy: 0.8295\b\b\b\b\b\b\b\b\b\b\b\b\b\b\b\b\b\b\b\b\b\b\b\b\b\b\b\b\b\b\b\b\b\b\b\b\b\b\b\b\n",
            "Epoch 47/100\n",
            "1329/1329 [==============================] - 48s 36ms/step - loss: 0.6343 - accuracy: 0.8091 - val_loss: 0.5862 - val_accuracy: 0.8299\b\b\b\b\b\b\b\b\b\b\b\b\b\b\b\b\b\b\b\b\b\b\b\b\b\b\b\b\b\b\b\b\b\b\b\b\b\b\b\b\n",
            "Epoch 48/100\n",
            "1329/1329 [==============================] - 48s 36ms/step - loss: 0.6324 - accuracy: 0.8095 - val_loss: 0.5877 - val_accuracy: 0.8308\b\b\b\b\b\b\b\b\b\b\b\b\b\b\b\b\b\b\b\b\b\b\b\b\b\b\b\b\b\b\b\b\b\b\b\b\b\b\b\b\n",
            "Epoch 49/100\n",
            "1329/1329 [==============================] - 48s 36ms/step - loss: 0.6297 - accuracy: 0.8117 - val_loss: 0.5822 - val_accuracy: 0.8298\b\b\b\b\b\b\b\b\b\b\b\b\b\b\b\b\b\b\b\b\b\b\b\b\b\b\b\b\b\b\b\b\b\b\b\b\b\b\b\b\n",
            "Epoch 50/100\n",
            "1329/1329 [==============================] - 48s 36ms/step - loss: 0.6249 - accuracy: 0.8124 - val_loss: 0.5921 - val_accuracy: 0.8284\b\b\b\b\b\b\b\b\b\b\b\b\b\b\b\b\b\b\b\b\b\b\b\b\b\b\b\b\b\b\b\b\b\b\b\b\b\b\b\b\n",
            "Epoch 51/100\n",
            "1329/1329 [==============================] - 48s 36ms/step - loss: 0.6212 - accuracy: 0.8130 - val_loss: 0.5864 - val_accuracy: 0.8308\b\b\b\b\b\b\b\b\b\b\b\b\b\b\b\b\b\b\b\b\b\b\b\b\b\b\b\b\b\b\b\b\b\b\b\b\b\b\b\b\n",
            "Epoch 52/100\n",
            "1329/1329 [==============================] - 48s 36ms/step - loss: 0.6198 - accuracy: 0.8134 - val_loss: 0.5835 - val_accuracy: 0.8303\b\b\b\b\b\b\b\b\b\b\b\b\b\b\b\b\b\b\b\b\b\b\b\b\b\b\b\b\b\b\b\b\b\b\b\b\b\b\b\b\n",
            "Epoch 53/100\n",
            "1329/1329 [==============================] - 48s 36ms/step - loss: 0.6143 - accuracy: 0.8152 - val_loss: 0.5781 - val_accuracy: 0.8317\b\b\b\b\b\b\b\b\b\b\b\b\b\b\b\b\b\b\b\b\b\b\b\b\b\b\b\b\b\b\b\b\b\b\b\b\b\b\b\b\n",
            "Epoch 54/100\n",
            "1329/1329 [==============================] - 48s 36ms/step - loss: 0.6145 - accuracy: 0.8155 - val_loss: 0.5653 - val_accuracy: 0.8344\b\b\b\b\b\b\b\b\b\b\b\b\b\b\b\b\b\b\b\b\b\b\b\b\b\b\b\b\b\b\b\b\b\b\b\b\b\b\b\b\n",
            "Epoch 55/100\n",
            "1329/1329 [==============================] - 48s 36ms/step - loss: 0.6117 - accuracy: 0.8169 - val_loss: 0.5721 - val_accuracy: 0.8349\b\b\b\b\b\b\b\b\b\b\b\b\b\b\b\b\b\b\b\b\b\b\b\b\b\b\b\b\b\b\b\b\b\b\b\b\b\b\b\b\n",
            "Epoch 56/100\n",
            "1329/1329 [==============================] - 48s 36ms/step - loss: 0.6097 - accuracy: 0.8168 - val_loss: 0.5835 - val_accuracy: 0.8336\b\b\b\b\b\b\b\b\b\b\b\b\b\b\b\b\b\b\b\b\b\b\b\b\b\b\b\b\b\b\b\b\b\b\b\b\b\b\b\b\n",
            "Epoch 57/100\n",
            "1329/1329 [==============================] - 48s 36ms/step - loss: 0.6091 - accuracy: 0.8167 - val_loss: 0.5807 - val_accuracy: 0.8338\b\b\b\b\b\b\b\b\b\b\b\b\b\b\b\b\b\b\b\b\b\b\b\b\b\b\b\b\b\b\b\b\b\b\b\b\b\b\b\b\n",
            "Epoch 58/100\n",
            "1329/1329 [==============================] - 48s 36ms/step - loss: 0.6052 - accuracy: 0.8190 - val_loss: 0.5762 - val_accuracy: 0.8331\b\b\b\b\b\b\b\b\b\b\b\b\b\b\b\b\b\b\b\b\b\b\b\b\b\b\b\b\b\b\b\b\b\b\b\b\b\b\b\b\n",
            "Epoch 59/100\n",
            "1329/1329 [==============================] - 48s 36ms/step - loss: 0.6038 - accuracy: 0.8180 - val_loss: 0.5678 - val_accuracy: 0.8366\b\b\b\b\b\b\b\b\b\b\b\b\b\b\b\b\b\b\b\b\b\b\b\b\b\b\b\b\b\b\b\b\b\b\b\b\b\b\b\b\n",
            "Epoch 60/100\n",
            "1329/1329 [==============================] - 48s 36ms/step - loss: 0.6014 - accuracy: 0.8192 - val_loss: 0.6020 - val_accuracy: 0.8302\b\b\b\b\b\b\b\b\b\b\b\b\b\b\b\b\b\b\b\b\b\b\b\b\b\b\b\b\b\b\b\b\b\b\b\b\b\b\b\b\n",
            "Epoch 61/100\n",
            "1329/1329 [==============================] - 48s 36ms/step - loss: 0.5974 - accuracy: 0.8204 - val_loss: 0.5600 - val_accuracy: 0.8371\b\b\b\b\b\b\b\b\b\b\b\b\b\b\b\b\b\b\b\b\b\b\b\b\b\b\b\b\b\b\b\b\b\b\b\b\b\b\b\b\n",
            "Epoch 62/100\n",
            "1329/1329 [==============================] - 48s 36ms/step - loss: 0.5958 - accuracy: 0.8210 - val_loss: 0.5728 - val_accuracy: 0.8349\b\b\b\b\b\b\b\b\b\b\b\b\b\b\b\b\b\b\b\b\b\b\b\b\b\b\b\b\b\b\b\b\b\b\b\b\b\b\b\b\n",
            "Epoch 63/100\n",
            "1329/1329 [==============================] - 48s 36ms/step - loss: 0.5950 - accuracy: 0.8215 - val_loss: 0.5779 - val_accuracy: 0.8352\b\b\b\b\b\b\b\b\b\b\b\b\b\b\b\b\b\b\b\b\b\b\b\b\b\b\b\b\b\b\b\b\b\b\b\b\b\b\b\b\n",
            "Epoch 64/100\n",
            "1329/1329 [==============================] - 48s 36ms/step - loss: 0.5936 - accuracy: 0.8209 - val_loss: 0.5677 - val_accuracy: 0.8376\b\b\b\b\b\b\b\b\b\b\b\b\b\b\b\b\b\b\b\b\b\b\b\b\b\b\b\b\b\b\b\b\b\b\b\b\b\b\b\b\n",
            "Epoch 65/100\n",
            "1329/1329 [==============================] - 48s 36ms/step - loss: 0.5930 - accuracy: 0.8222 - val_loss: 0.5898 - val_accuracy: 0.8340\b\b\b\b\b\b\b\b\b\b\b\b\b\b\b\b\b\b\b\b\b\b\b\b\b\b\b\b\b\b\b\b\b\b\b\b\b\b\b\b\n",
            "Epoch 66/100\n",
            "1329/1329 [==============================] - 48s 36ms/step - loss: 0.5902 - accuracy: 0.8221 - val_loss: 0.5850 - val_accuracy: 0.8343\b\b\b\b\b\b\b\b\b\b\b\b\b\b\b\b\b\b\b\b\b\b\b\b\b\b\b\b\b\b\b\b\b\b\b\b\b\b\b\b\n",
            "Epoch 67/100\n",
            "1329/1329 [==============================] - 48s 36ms/step - loss: 0.5884 - accuracy: 0.8239 - val_loss: 0.5837 - val_accuracy: 0.8368\b\b\b\b\b\b\b\b\b\b\b\b\b\b\b\b\b\b\b\b\b\b\b\b\b\b\b\b\b\b\b\b\b\b\b\b\b\b\b\b\n",
            "Epoch 68/100\n",
            "1329/1329 [==============================] - 48s 36ms/step - loss: 0.5859 - accuracy: 0.8237 - val_loss: 0.5853 - val_accuracy: 0.8377\b\b\b\b\b\b\b\b\b\b\b\b\b\b\b\b\b\b\b\b\b\b\b\b\b\b\b\b\b\b\b\b\b\b\b\b\b\b\b\b\n",
            "Epoch 69/100\n",
            "1329/1329 [==============================] - 48s 36ms/step - loss: 0.5842 - accuracy: 0.8241 - val_loss: 0.5782 - val_accuracy: 0.8380\b\b\b\b\b\b\b\b\b\b\b\b\b\b\b\b\b\b\b\b\b\b\b\b\b\b\b\b\b\b\b\b\b\b\b\b\b\b\b\b\n",
            "Epoch 70/100\n",
            "1329/1329 [==============================] - 48s 36ms/step - loss: 0.5846 - accuracy: 0.8234 - val_loss: 0.6016 - val_accuracy: 0.8363\b\b\b\b\b\b\b\b\b\b\b\b\b\b\b\b\b\b\b\b\b\b\b\b\b\b\b\b\b\b\b\b\b\b\b\b\b\b\b\b\n",
            "Epoch 71/100\n",
            "1329/1329 [==============================] - 48s 36ms/step - loss: 0.5824 - accuracy: 0.8243 - val_loss: 0.5809 - val_accuracy: 0.8370\b\b\b\b\b\b\b\b\b\b\b\b\b\b\b\b\b\b\b\b\b\b\b\b\b\b\b\b\b\b\b\b\b\b\b\b\b\b\b\b\n",
            "Epoch 72/100\n",
            "1329/1329 [==============================] - 48s 36ms/step - loss: 0.5813 - accuracy: 0.8254 - val_loss: 0.5694 - val_accuracy: 0.8393\b\b\b\b\b\b\b\b\b\b\b\b\b\b\b\b\b\b\b\b\b\b\b\b\b\b\b\b\b\b\b\b\b\b\b\b\b\b\b\b\n",
            "Epoch 73/100\n",
            "1329/1329 [==============================] - 48s 36ms/step - loss: 0.5787 - accuracy: 0.8261 - val_loss: 0.5882 - val_accuracy: 0.8366\b\b\b\b\b\b\b\b\b\b\b\b\b\b\b\b\b\b\b\b\b\b\b\b\b\b\b\b\b\b\b\b\b\b\b\b\b\b\b\b\n",
            "Epoch 74/100\n",
            "1329/1329 [==============================] - 48s 36ms/step - loss: 0.5748 - accuracy: 0.8270 - val_loss: 0.5759 - val_accuracy: 0.8393\b\b\b\b\b\b\b\b\b\b\b\b\b\b\b\b\b\b\b\b\b\b\b\b\b\b\b\b\b\b\b\b\b\b\b\b\b\b\b\b\n",
            "Epoch 75/100\n",
            "1329/1329 [==============================] - 48s 36ms/step - loss: 0.5747 - accuracy: 0.8270 - val_loss: 0.5666 - val_accuracy: 0.8378\b\b\b\b\b\b\b\b\b\b\b\b\b\b\b\b\b\b\b\b\b\b\b\b\b\b\b\b\b\b\b\b\b\b\b\b\b\b\b\b\n",
            "Epoch 76/100\n",
            "1329/1329 [==============================] - 48s 36ms/step - loss: 0.5767 - accuracy: 0.8267 - val_loss: 0.5800 - val_accuracy: 0.8367\b\b\b\b\b\b\b\b\b\b\b\b\b\b\b\b\b\b\b\b\b\b\b\b\b\b\b\b\b\b\b\b\b\b\b\b\b\b\b\b\n",
            "Epoch 77/100\n",
            "1329/1329 [==============================] - 48s 36ms/step - loss: 0.5722 - accuracy: 0.8280 - val_loss: 0.5686 - val_accuracy: 0.8393\b\b\b\b\b\b\b\b\b\b\b\b\b\b\b\b\b\b\b\b\b\b\b\b\b\b\b\b\b\b\b\b\b\b\b\b\b\b\b\b\n",
            "Epoch 78/100\n",
            "1329/1329 [==============================] - 48s 36ms/step - loss: 0.5736 - accuracy: 0.8277 - val_loss: 0.5812 - val_accuracy: 0.8374\b\b\b\b\b\b\b\b\b\b\b\b\b\b\b\b\b\b\b\b\b\b\b\b\b\b\b\b\b\b\b\b\b\b\b\b\b\b\b\b\n",
            "Epoch 79/100\n",
            "1329/1329 [==============================] - 48s 36ms/step - loss: 0.5703 - accuracy: 0.8285 - val_loss: 0.5892 - val_accuracy: 0.8373\b\b\b\b\b\b\b\b\b\b\b\b\b\b\b\b\b\b\b\b\b\b\b\b\b\b\b\b\b\b\b\b\b\b\b\b\b\b\b\b\n",
            "Epoch 80/100\n",
            "1329/1329 [==============================] - 48s 36ms/step - loss: 0.5699 - accuracy: 0.8285 - val_loss: 0.5642 - val_accuracy: 0.8387\b\b\b\b\b\b\b\b\b\b\b\b\b\b\b\b\b\b\b\b\b\b\b\b\b\b\b\b\b\b\b\b\b\b\b\b\b\b\b\b\n",
            "Epoch 81/100\n",
            "1329/1329 [==============================] - 48s 36ms/step - loss: 0.5708 - accuracy: 0.8284 - val_loss: 0.5801 - val_accuracy: 0.8387\b\b\b\b\b\b\b\b\b\b\b\b\b\b\b\b\b\b\b\b\b\b\b\b\b\b\b\b\b\b\b\b\b\b\b\b\b\b\b\b\n",
            "Epoch 82/100\n",
            "1329/1329 [==============================] - 48s 36ms/step - loss: 0.5686 - accuracy: 0.8288 - val_loss: 0.5914 - val_accuracy: 0.8372\b\b\b\b\b\b\b\b\b\b\b\b\b\b\b\b\b\b\b\b\b\b\b\b\b\b\b\b\b\b\b\b\b\b\b\b\b\b\b\b\n",
            "Epoch 83/100\n",
            "1329/1329 [==============================] - 48s 36ms/step - loss: 0.5692 - accuracy: 0.8283 - val_loss: 0.5809 - val_accuracy: 0.8398\b\b\b\b\b\b\b\b\b\b\b\b\b\b\b\b\b\b\b\b\b\b\b\b\b\b\b\b\b\b\b\b\b\b\b\b\b\b\b\b\n",
            "Epoch 84/100\n",
            "1329/1329 [==============================] - 48s 36ms/step - loss: 0.5682 - accuracy: 0.8293 - val_loss: 0.5724 - val_accuracy: 0.8386\b\b\b\b\b\b\b\b\b\b\b\b\b\b\b\b\b\b\b\b\b\b\b\b\b\b\b\b\b\b\b\b\b\b\b\b\b\b\b\b\n",
            "Epoch 85/100\n",
            "1329/1329 [==============================] - 48s 36ms/step - loss: 0.5662 - accuracy: 0.8296 - val_loss: 0.5916 - val_accuracy: 0.8377\b\b\b\b\b\b\b\b\b\b\b\b\b\b\b\b\b\b\b\b\b\b\b\b\b\b\b\b\b\b\b\b\b\b\b\b\b\b\b\b\n",
            "Epoch 86/100\n",
            "1329/1329 [==============================] - 48s 36ms/step - loss: 0.5641 - accuracy: 0.8299 - val_loss: 0.5892 - val_accuracy: 0.8383\b\b\b\b\b\b\b\b\b\b\b\b\b\b\b\b\b\b\b\b\b\b\b\b\b\b\b\b\b\b\b\b\b\b\b\b\b\b\b\b\n",
            "Epoch 87/100\n",
            "1329/1329 [==============================] - 48s 36ms/step - loss: 0.5614 - accuracy: 0.8308 - val_loss: 0.5893 - val_accuracy: 0.8399\b\b\b\b\b\b\b\b\b\b\b\b\b\b\b\b\b\b\b\b\b\b\b\b\b\b\b\b\b\b\b\b\b\b\b\b\b\b\b\b\n",
            "Epoch 88/100\n",
            "1329/1329 [==============================] - 48s 36ms/step - loss: 0.5608 - accuracy: 0.8317 - val_loss: 0.5737 - val_accuracy: 0.8405\b\b\b\b\b\b\b\b\b\b\b\b\b\b\b\b\b\b\b\b\b\b\b\b\b\b\b\b\b\b\b\b\b\b\b\b\b\b\b\b\n",
            "Epoch 89/100\n",
            "1329/1329 [==============================] - 48s 36ms/step - loss: 0.5617 - accuracy: 0.8314 - val_loss: 0.5685 - val_accuracy: 0.8410\b\b\b\b\b\b\b\b\b\b\b\b\b\b\b\b\b\b\b\b\b\b\b\b\b\b\b\b\b\b\b\b\b\b\b\b\b\b\b\b\n",
            "Epoch 90/100\n",
            "1329/1329 [==============================] - 48s 36ms/step - loss: 0.5618 - accuracy: 0.8307 - val_loss: 0.5624 - val_accuracy: 0.8406\b\b\b\b\b\b\b\b\b\b\b\b\b\b\b\b\b\b\b\b\b\b\b\b\b\b\b\b\b\b\b\b\b\b\b\b\b\b\b\b\n",
            "Epoch 91/100\n",
            "1329/1329 [==============================] - 48s 36ms/step - loss: 0.5587 - accuracy: 0.8313 - val_loss: 0.5859 - val_accuracy: 0.8400\b\b\b\b\b\b\b\b\b\b\b\b\b\b\b\b\b\b\b\b\b\b\b\b\b\b\b\b\b\b\b\b\b\b\b\b\b\b\b\b\n",
            "Epoch 92/100\n",
            "1329/1329 [==============================] - 48s 36ms/step - loss: 0.5583 - accuracy: 0.8321 - val_loss: 0.5930 - val_accuracy: 0.8420\b\b\b\b\b\b\b\b\b\b\b\b\b\b\b\b\b\b\b\b\b\b\b\b\b\b\b\b\b\b\b\b\b\b\b\b\b\b\b\b\n",
            "Epoch 93/100\n",
            "1329/1329 [==============================] - 48s 36ms/step - loss: 0.5580 - accuracy: 0.8325 - val_loss: 0.5608 - val_accuracy: 0.8406\b\b\b\b\b\b\b\b\b\b\b\b\b\b\b\b\b\b\b\b\b\b\b\b\b\b\b\b\b\b\b\b\b\b\b\b\b\b\b\b\n",
            "Epoch 94/100\n",
            "1329/1329 [==============================] - 48s 36ms/step - loss: 0.5584 - accuracy: 0.8322 - val_loss: 0.5844 - val_accuracy: 0.8410\b\b\b\b\b\b\b\b\b\b\b\b\b\b\b\b\b\b\b\b\b\b\b\b\b\b\b\b\b\b\b\b\b\b\b\b\b\b\b\b\n",
            "Epoch 95/100\n",
            "1329/1329 [==============================] - 48s 36ms/step - loss: 0.5575 - accuracy: 0.8329 - val_loss: 0.5759 - val_accuracy: 0.8402\b\b\b\b\b\b\b\b\b\b\b\b\b\b\b\b\b\b\b\b\b\b\b\b\b\b\b\b\b\b\b\b\b\b\b\b\b\b\b\b\n",
            "Epoch 96/100\n",
            "1329/1329 [==============================] - 48s 36ms/step - loss: 0.5554 - accuracy: 0.8327 - val_loss: 0.5758 - val_accuracy: 0.8418\b\b\b\b\b\b\b\b\b\b\b\b\b\b\b\b\b\b\b\b\b\b\b\b\b\b\b\b\b\b\b\b\b\b\b\b\b\b\b\b\n",
            "Epoch 97/100\n",
            "1329/1329 [==============================] - 48s 36ms/step - loss: 0.5574 - accuracy: 0.8322 - val_loss: 0.5825 - val_accuracy: 0.8379\b\b\b\b\b\b\b\b\b\b\b\b\b\b\b\b\b\b\b\b\b\b\b\b\b\b\b\b\b\b\b\b\b\b\b\b\b\b\b\b\n",
            "Epoch 98/100\n",
            "1329/1329 [==============================] - 48s 36ms/step - loss: 0.5538 - accuracy: 0.8330 - val_loss: 0.5860 - val_accuracy: 0.8414\b\b\b\b\b\b\b\b\b\b\b\b\b\b\b\b\b\b\b\b\b\b\b\b\b\b\b\b\b\b\b\b\b\b\b\b\b\b\b\b\n",
            "Epoch 99/100\n",
            "1329/1329 [==============================] - 48s 36ms/step - loss: 0.5517 - accuracy: 0.8339 - val_loss: 0.5785 - val_accuracy: 0.8411\b\b\b\b\b\b\b\b\b\b\b\b\b\b\b\b\b\b\b\b\b\b\b\b\b\b\b\b\b\b\b\b\b\b\b\b\b\b\b\b\n",
            "Epoch 100/100\n",
            "1329/1329 [==============================] - 48s 36ms/step - loss: 0.5530 - accuracy: 0.8335 - val_loss: 0.5967 - val_accuracy: 0.8409\b\b\b\b\b\b\b\b\b\b\b\b\b\b\b\b\b\b\b\b\b\b\b\b\b\b\b\b\b\b\b\b\b\b\b\b\b\b\b\b\n"
          ]
        }
      ],
      "source": [
        "callbacks = [keras.callbacks.ModelCheckpoint(\n",
        "    filepath=\"models/\"+str(num_classes)+\"_Categories_Model.h5\", save_best_only=True, monitor=\"val_loss\"),keras.callbacks.EarlyStopping(monitor='loss', patience=5)\n",
        "    ]\n",
        "\n",
        "model.compile(loss='categorical_crossentropy',\n",
        "              optimizer=keras.optimizers.RMSprop(learning_rate=1e-4),\n",
        "              metrics=['accuracy'])\n",
        "\n",
        "history = model.fit(x=X_train, y=y_train,\n",
        "          batch_size = 256,\n",
        "          epochs = 100,\n",
        "          validation_data = (X_val, y_val),\n",
        "          callbacks = callbacks)"
      ]
    },
    {
      "cell_type": "code",
      "execution_count": 11,
      "metadata": {
        "gather": {
          "logged": 1653850732456
        }
      },
      "outputs": [
        {
          "data": {
            "image/png": "[encoded data removed]",
            "text/plain": [
              "<Figure size 640x480 with 1 Axes>"
            ]
          },
          "metadata": {},
          "output_type": "display_data"
        },
        {
          "data": {
            "image/png": "[encoded data removed]",
            "text/plain": [
              "<Figure size 640x480 with 1 Axes>"
            ]
          },
          "metadata": {},
          "output_type": "display_data"
        }
      ],
      "source": [
        "def plot_function(history):\n",
        "    accuracy = history.history[\"accuracy\"]\n",
        "    val_accuracy = history.history[\"val_accuracy\"]\n",
        "    loss = history.history[\"loss\"]\n",
        "    val_loss = history.history[\"val_loss\"]\n",
        "    epochs = range(1, len(accuracy) + 1)\n",
        "    plt.plot(epochs, accuracy, \"b\", label=\"Training accuracy\")\n",
        "    plt.plot(epochs, val_accuracy, \"r\", label=\"Validation accuracy\")\n",
        "    plt.title(\"Training and validation accuracy\")\n",
        "    plt.legend()\n",
        "    plt.figure()\n",
        "    plt.plot(epochs, loss, \"b\", label=\"Training loss\")\n",
        "    plt.plot(epochs, val_loss, \"r\", label=\"Validation loss\")\n",
        "    plt.title(\"Training and validation loss\")\n",
        "    plt.legend()\n",
        "    plt.show()\n",
        "\n",
        "plot_function(history)"
      ]
    },
    {
      "cell_type": "code",
      "execution_count": 12,
      "metadata": {
        "gather": {
          "logged": 1653850734515
        }
      },
      "outputs": [
        {
          "name": "stdout",
          "output_type": "stream",
          "text": [
            "313/313 [==============================] - 1s 4ms/step - loss: 0.5646 - accuracy: 0.8324\b\b\b\b\b\b\b\b\b\b\b\b\b\b\b\b\b\b\b\b\b\b\b\b\b\b\b\b\b\b\b\b\b\b\b\b\b\b\b\b\b\b\b\b\b\b\b\b\b\b\b\b\b\b\b\b\b\b\b\b\b\b\b\b\b\b\b\b\b\b\b\b\b\b\b\b\b\b\b\b\b\b\b\b\n",
            "Test accuracy: 0.832\n"
          ]
        }
      ],
      "source": [
        "test_model = keras.models.load_model(\"models/100_Categories_Model.h5\")\n",
        "test_loss, test_acc = test_model.evaluate(X_test, y_test)\n",
        "print(f\"Test accuracy: {test_acc:.3f}\")"
      ]
    }
  ],
  "metadata": {
    "interpreter": {
      "hash": "f1b21a831ca0887bb1ca23965249b487d59158d2ac98669dee611127e8c84e44"
    },
    "kernel_info": {
      "name": "python38-azureml"
    },
    "kernelspec": {
      "display_name": "Python 3.8 - AzureML",
      "language": "python",
      "name": "python3"
    },
    "language_info": {
      "codemirror_mode": {
        "name": "ipython",
        "version": 3
      },
      "file_extension": ".py",
      "mimetype": "text/x-python",
      "name": "python",
      "nbconvert_exporter": "python",
      "pygments_lexer": "ipython3",
      "version": "3.9.7"
    },
    "microsoft": {
      "host": {
        "AzureML": {
          "notebookHasBeenCompleted": true
        }
      }
    },
    "nteract": {
      "version": "nteract-front-end@1.0.0"
    },
    "orig_nbformat": 4
  },
  "nbformat": 4,
  "nbformat_minor": 2
}
