{
 "cells": [
  {
   "cell_type": "markdown",
   "metadata": {},
   "source": [
    "# 1 Imports"
   ]
  },
  {
   "cell_type": "code",
   "execution_count": 100,
   "metadata": {},
   "outputs": [],
   "source": [
    "import os\n",
    "import glob\n",
    "import numpy as np \n",
    "import pandas as pd\n",
    "\n",
    "import tensorflow as tf\n",
    "from tensorflow import keras\n",
    "from keras.models import Sequential\n",
    "from keras.layers import Dense, Dropout, Flatten\n",
    "from keras.layers import Conv2D, MaxPooling2D\n",
    "from keras.metrics import top_k_categorical_accuracy\n",
    "from keras.callbacks import ModelCheckpoint, ReduceLROnPlateau, EarlyStopping\n",
    "from sklearn.model_selection import train_test_split"
   ]
  },
  {
   "cell_type": "code",
   "execution_count": 101,
   "metadata": {},
   "outputs": [],
   "source": [
    "#setting the directory of the dataset\n",
    "os.chdir(\"C:/Users/Brune/Documents/Stage Arinti 2022/Dataset/Simplified\")"
   ]
  },
  {
   "cell_type": "markdown",
   "metadata": {},
   "source": [
    "# 2 Loading and preprocessing the data"
   ]
  },
  {
   "cell_type": "code",
   "execution_count": 102,
   "metadata": {},
   "outputs": [
    {
     "data": {
      "text/html": [
       "<div>\n",
       "<style scoped>\n",
       "    .dataframe tbody tr th:only-of-type {\n",
       "        vertical-align: middle;\n",
       "    }\n",
       "\n",
       "    .dataframe tbody tr th {\n",
       "        vertical-align: top;\n",
       "    }\n",
       "\n",
       "    .dataframe thead th {\n",
       "        text-align: right;\n",
       "    }\n",
       "</style>\n",
       "<table border=\"1\" class=\"dataframe\">\n",
       "  <thead>\n",
       "    <tr style=\"text-align: right;\">\n",
       "      <th></th>\n",
       "      <th>countrycode</th>\n",
       "      <th>drawing</th>\n",
       "      <th>key_id</th>\n",
       "      <th>timestamp</th>\n",
       "      <th>word</th>\n",
       "    </tr>\n",
       "  </thead>\n",
       "  <tbody>\n",
       "    <tr>\n",
       "      <th>0</th>\n",
       "      <td>VE</td>\n",
       "      <td>[[[130, 113, 99, 109, 76, 64, 55, 48, 48, 51, 59, 86, 133, 154, 170, 203, 214, 217, 215, 208, 186, 176, 162, 157, 132], [72, 40, 27, 79, 82, 88, 100, 120, 134, 152, 165, 184, 189, 186, 179, 152, 131, 114, 100, 89, 76, 0, 31, 65, 70]], [[76, 28, 7], [136, 128, 128]], [[76, 23, 0], [160, 164, 175]], [[87, 52, 37], [175, 191, 204]], [[174, 220, 246, 251], [134, 132, 136, 139]], [[175, 255], [147, 168]], [[171, 208, 215], [164, 198, 210]], [[130, 110, 108, 111, 130, 139, 139, 119], [129, 134, 137, 144, 148, 144, 136, 130]], [[107, 106], [96, 113]]]</td>\n",
       "      <td>5201136883597312</td>\n",
       "      <td>2017-03-02 23:25:10.074530</td>\n",
       "      <td>cat</td>\n",
       "    </tr>\n",
       "    <tr>\n",
       "      <th>1</th>\n",
       "      <td>BR</td>\n",
       "      <td>[[[222, 196, 176, 173, 179, 191, 233, 251, 255, 250, 231, 219], [31, 32, 43, 60, 72, 79, 79, 69, 54, 35, 27, 27]], [[176, 198, 203], [42, 0, 26]], [[219, 238, 249, 252, 252], [29, 11, 5, 16, 43]], [[190, 188, 191, 200, 204, 200], [44, 45, 49, 51, 43, 41]], [[233, 228, 233, 241, 243, 231], [44, 48, 53, 53, 46, 43]], [[203, 208, 213, 218, 227, 234], [63, 69, 69, 62, 70, 62]], [[168, 101, 75, 54, 53, 59, 69, 132, 180, 195, 199, 197], [41, 50, 62, 81, 101, 108, 110, 108, 83, 67, 61, 60]], [[57, 16, 0, 3, 23, 28, 40, 56], [76, 101, 130, 138, 137, 100, 90, 87]], [[74, 75, 78, 85, 94, 97, 96], [106, 139, 143, 145, 145, 140, 106]], [[163, 170, 172, 177, 183, 183, 176, 175], [92, 132, 134, 132, 122, 104, 93, 82]]]</td>\n",
       "      <td>4647694628814848</td>\n",
       "      <td>2017-03-26 18:43:54.780830</td>\n",
       "      <td>cat</td>\n",
       "    </tr>\n",
       "    <tr>\n",
       "      <th>2</th>\n",
       "      <td>RO</td>\n",
       "      <td>[[[65, 71, 74, 68, 70, 65, 65], [64, 67, 72, 72, 65, 69, 67]], [[107, 124, 127, 109, 104, 108, 116, 117, 117, 119], [67, 61, 63, 69, 64, 62, 64, 69, 63, 65]], [[78, 85, 97, 114, 115, 92, 78], [111, 124, 128, 121, 118, 111, 111]], [[87, 88], [115, 122]], [[100, 100], [116, 118]], [[68, 94, 110, 122, 138], [153, 168, 173, 171, 162]], [[140, 228, 255], [138, 102, 87]], [[161, 232], [148, 141]], [[144, 191, 204, 213], [120, 103, 95, 85]], [[50, 19], [122, 99]], [[67, 34], [121, 91]], [[66, 0], [127, 141]], [[85, 43, 29, 22, 20, 26, 50, 70, 98, 127, 153, 156, 150, 144, 93, 65], [36, 48, 66, 81, 122, 141, 177, 193, 200, 197, 162, 145, 105, 91, 42, 24]], [[22, 7, 4, 7, 19, 46, 61], [61, 32, 17, 2, 1, 14, 35]], [[133, 150, 231, 226], [51, 52, 43, 54]]]</td>\n",
       "      <td>6411036099870720</td>\n",
       "      <td>2017-03-18 09:36:08.290570</td>\n",
       "      <td>cat</td>\n",
       "    </tr>\n",
       "    <tr>\n",
       "      <th>3</th>\n",
       "      <td>US</td>\n",
       "      <td>[[[148, 127, 119, 80, 60, 53, 48, 49, 56, 67, 80, 93, 127, 165, 183, 208, 214, 217, 215, 200, 183, 164, 146], [43, 41, 43, 68, 95, 113, 136, 182, 204, 226, 241, 251, 252, 237, 223, 190, 173, 157, 128, 88, 67, 55, 51]], [[71, 67, 62, 44, 49, 68, 92, 113, 125], [76, 75, 63, 1, 0, 9, 28, 50, 55]], [[174, 224, 235, 221, 219], [62, 18, 13, 95, 125]], [[110, 107], [87, 112]], [[167, 165], [82, 116]], [[72, 0], [165, 164]], [[70, 23, 13], [201, 202, 206]], [[70, 26], [212, 255]], [[185, 241], [177, 152]], [[192, 221, 232], [199, 190, 190]], [[198, 237], [208, 215]], [[111, 116, 131, 146, 157], [183, 191, 197, 197, 187]], [[139, 123, 130, 139], [139, 150, 149, 140]]]</td>\n",
       "      <td>6196755135725568</td>\n",
       "      <td>2017-01-25 16:05:51.963360</td>\n",
       "      <td>cat</td>\n",
       "    </tr>\n",
       "    <tr>\n",
       "      <th>4</th>\n",
       "      <td>ID</td>\n",
       "      <td>[[[91, 77, 74, 75, 90, 116, 134, 148, 164, 165, 145], [47, 67, 82, 110, 132, 134, 127, 116, 90, 67, 40]], [[84, 97, 76, 90, 99, 104, 109, 126, 127, 135, 145, 148], [49, 49, 7, 10, 16, 32, 35, 32, 21, 0, 16, 35]], [[104, 109], [72, 72]], [[134, 132], [63, 68]], [[123, 228, 255, 233, 211], [89, 40, 45, 53, 57]], [[127, 171, 229, 238, 242], [100, 73, 72, 72, 77]], [[99, 53, 23, 5, 11], [96, 77, 76, 82, 84]], [[92, 55, 32, 13, 2], [102, 97, 97, 100, 107]], [[113, 104], [88, 108]]]</td>\n",
       "      <td>4597292839469056</td>\n",
       "      <td>2017-01-29 02:42:16.318460</td>\n",
       "      <td>cat</td>\n",
       "    </tr>\n",
       "  </tbody>\n",
       "</table>\n",
       "</div>"
      ],
      "text/plain": [
       "  countrycode  \\\n",
       "0          VE   \n",
       "1          BR   \n",
       "2          RO   \n",
       "3          US   \n",
       "4          ID   \n",
       "\n",
       "                                                                                                                                                                                                                                                                                                                                                                                                                                                                                                                                                                                                                                                                                                                                                                              drawing  \\\n",
       "0                                                                                                                                                                                                              [[[130, 113, 99, 109, 76, 64, 55, 48, 48, 51, 59, 86, 133, 154, 170, 203, 214, 217, 215, 208, 186, 176, 162, 157, 132], [72, 40, 27, 79, 82, 88, 100, 120, 134, 152, 165, 184, 189, 186, 179, 152, 131, 114, 100, 89, 76, 0, 31, 65, 70]], [[76, 28, 7], [136, 128, 128]], [[76, 23, 0], [160, 164, 175]], [[87, 52, 37], [175, 191, 204]], [[174, 220, 246, 251], [134, 132, 136, 139]], [[175, 255], [147, 168]], [[171, 208, 215], [164, 198, 210]], [[130, 110, 108, 111, 130, 139, 139, 119], [129, 134, 137, 144, 148, 144, 136, 130]], [[107, 106], [96, 113]]]   \n",
       "1                                          [[[222, 196, 176, 173, 179, 191, 233, 251, 255, 250, 231, 219], [31, 32, 43, 60, 72, 79, 79, 69, 54, 35, 27, 27]], [[176, 198, 203], [42, 0, 26]], [[219, 238, 249, 252, 252], [29, 11, 5, 16, 43]], [[190, 188, 191, 200, 204, 200], [44, 45, 49, 51, 43, 41]], [[233, 228, 233, 241, 243, 231], [44, 48, 53, 53, 46, 43]], [[203, 208, 213, 218, 227, 234], [63, 69, 69, 62, 70, 62]], [[168, 101, 75, 54, 53, 59, 69, 132, 180, 195, 199, 197], [41, 50, 62, 81, 101, 108, 110, 108, 83, 67, 61, 60]], [[57, 16, 0, 3, 23, 28, 40, 56], [76, 101, 130, 138, 137, 100, 90, 87]], [[74, 75, 78, 85, 94, 97, 96], [106, 139, 143, 145, 145, 140, 106]], [[163, 170, 172, 177, 183, 183, 176, 175], [92, 132, 134, 132, 122, 104, 93, 82]]]   \n",
       "2  [[[65, 71, 74, 68, 70, 65, 65], [64, 67, 72, 72, 65, 69, 67]], [[107, 124, 127, 109, 104, 108, 116, 117, 117, 119], [67, 61, 63, 69, 64, 62, 64, 69, 63, 65]], [[78, 85, 97, 114, 115, 92, 78], [111, 124, 128, 121, 118, 111, 111]], [[87, 88], [115, 122]], [[100, 100], [116, 118]], [[68, 94, 110, 122, 138], [153, 168, 173, 171, 162]], [[140, 228, 255], [138, 102, 87]], [[161, 232], [148, 141]], [[144, 191, 204, 213], [120, 103, 95, 85]], [[50, 19], [122, 99]], [[67, 34], [121, 91]], [[66, 0], [127, 141]], [[85, 43, 29, 22, 20, 26, 50, 70, 98, 127, 153, 156, 150, 144, 93, 65], [36, 48, 66, 81, 122, 141, 177, 193, 200, 197, 162, 145, 105, 91, 42, 24]], [[22, 7, 4, 7, 19, 46, 61], [61, 32, 17, 2, 1, 14, 35]], [[133, 150, 231, 226], [51, 52, 43, 54]]]   \n",
       "3                                                                                         [[[148, 127, 119, 80, 60, 53, 48, 49, 56, 67, 80, 93, 127, 165, 183, 208, 214, 217, 215, 200, 183, 164, 146], [43, 41, 43, 68, 95, 113, 136, 182, 204, 226, 241, 251, 252, 237, 223, 190, 173, 157, 128, 88, 67, 55, 51]], [[71, 67, 62, 44, 49, 68, 92, 113, 125], [76, 75, 63, 1, 0, 9, 28, 50, 55]], [[174, 224, 235, 221, 219], [62, 18, 13, 95, 125]], [[110, 107], [87, 112]], [[167, 165], [82, 116]], [[72, 0], [165, 164]], [[70, 23, 13], [201, 202, 206]], [[70, 26], [212, 255]], [[185, 241], [177, 152]], [[192, 221, 232], [199, 190, 190]], [[198, 237], [208, 215]], [[111, 116, 131, 146, 157], [183, 191, 197, 197, 187]], [[139, 123, 130, 139], [139, 150, 149, 140]]]   \n",
       "4                                                                                                                                                                                                                                                                                   [[[91, 77, 74, 75, 90, 116, 134, 148, 164, 165, 145], [47, 67, 82, 110, 132, 134, 127, 116, 90, 67, 40]], [[84, 97, 76, 90, 99, 104, 109, 126, 127, 135, 145, 148], [49, 49, 7, 10, 16, 32, 35, 32, 21, 0, 16, 35]], [[104, 109], [72, 72]], [[134, 132], [63, 68]], [[123, 228, 255, 233, 211], [89, 40, 45, 53, 57]], [[127, 171, 229, 238, 242], [100, 73, 72, 72, 77]], [[99, 53, 23, 5, 11], [96, 77, 76, 82, 84]], [[92, 55, 32, 13, 2], [102, 97, 97, 100, 107]], [[113, 104], [88, 108]]]   \n",
       "\n",
       "             key_id                   timestamp word  \n",
       "0  5201136883597312  2017-03-02 23:25:10.074530  cat  \n",
       "1  4647694628814848  2017-03-26 18:43:54.780830  cat  \n",
       "2  6411036099870720  2017-03-18 09:36:08.290570  cat  \n",
       "3  6196755135725568  2017-01-25 16:05:51.963360  cat  \n",
       "4  4597292839469056  2017-01-29 02:42:16.318460  cat  "
      ]
     },
     "execution_count": 102,
     "metadata": {},
     "output_type": "execute_result"
    }
   ],
   "source": [
    "#getting the data from 5 different csvs and combining them in to 1 pandas dataframe\n",
    "df = pd.concat(map(pd.read_csv, glob.glob(os.path.join('five_animals/', \"*.csv\"))),ignore_index=True)\n",
    "\n",
    "#We drop the Recognized=False rows as there is no point in having unrecognized drawings who will not contribute to the training phase.\n",
    "df = df[df[\"recognized\"]==True].reset_index(drop=True)\n",
    "\n",
    "#the recognized column is now uneccesary and can be dropped\n",
    "df = df.drop(columns=['recognized'])\n",
    "\n",
    "#lets check out the dataframe in its current state\n",
    "df.head()\n"
   ]
  },
  {
   "cell_type": "code",
   "execution_count": 104,
   "metadata": {},
   "outputs": [
    {
     "data": {
      "text/plain": [
       "horse       156302\n",
       "dog         143285\n",
       "zebra       127159\n",
       "elephant    104986\n",
       "cat         103031\n",
       "Name: word, dtype: int64"
      ]
     },
     "execution_count": 104,
     "metadata": {},
     "output_type": "execute_result"
    }
   ],
   "source": [
    "#finding the amount of rows for each category\n",
    "df['word'].value_counts()"
   ]
  },
  {
   "cell_type": "markdown",
   "metadata": {},
   "source": [
    "As you can see above, the dataset is not balanced yet. We will do this in the next step by keeping 10k of each category."
   ]
  },
  {
   "cell_type": "code",
   "execution_count": 105,
   "metadata": {},
   "outputs": [],
   "source": [
    "#balancing of the dataset: keep 10000 rows from each animal\n",
    "df = df.groupby('word').sample(n=10000, random_state=1).reset_index(drop=True)"
   ]
  },
  {
   "cell_type": "code",
   "execution_count": 106,
   "metadata": {},
   "outputs": [
    {
     "data": {
      "text/plain": [
       "cat         10000\n",
       "dog         10000\n",
       "elephant    10000\n",
       "horse       10000\n",
       "zebra       10000\n",
       "Name: word, dtype: int64"
      ]
     },
     "execution_count": 106,
     "metadata": {},
     "output_type": "execute_result"
    }
   ],
   "source": [
    "df['word'].value_counts()"
   ]
  },
  {
   "cell_type": "markdown",
   "metadata": {},
   "source": [
    "Now we are going to split the dataframe into a train/test/validation set like 70/15/15"
   ]
  },
  {
   "cell_type": "code",
   "execution_count": 107,
   "metadata": {},
   "outputs": [],
   "source": [
    "X = df.drop(columns = ['word']).copy()\n",
    "y = df['word']"
   ]
  },
  {
   "cell_type": "code",
   "execution_count": 108,
   "metadata": {},
   "outputs": [],
   "source": [
    "X_train, X_rem, y_train, y_rem = train_test_split(X,y, train_size=0.7)\n",
    "X_val, X_test, y_val, y_test = train_test_split(X_rem,y_rem, test_size=0.5)"
   ]
  },
  {
   "cell_type": "code",
   "execution_count": 109,
   "metadata": {},
   "outputs": [
    {
     "name": "stdout",
     "output_type": "stream",
     "text": [
      "(35000, 4)\n",
      "(35000,)\n"
     ]
    },
    {
     "data": {
      "text/plain": [
       "(None, None)"
      ]
     },
     "execution_count": 109,
     "metadata": {},
     "output_type": "execute_result"
    },
    {
     "name": "stdout",
     "output_type": "stream",
     "text": [
      "(7500, 4)\n",
      "(7500,)\n"
     ]
    },
    {
     "data": {
      "text/plain": [
       "(None, None)"
      ]
     },
     "execution_count": 109,
     "metadata": {},
     "output_type": "execute_result"
    },
    {
     "name": "stdout",
     "output_type": "stream",
     "text": [
      "(7500, 4)\n",
      "(7500,)\n"
     ]
    },
    {
     "data": {
      "text/plain": [
       "(None, None)"
      ]
     },
     "execution_count": 109,
     "metadata": {},
     "output_type": "execute_result"
    }
   ],
   "source": [
    "print(X_train.shape), print(y_train.shape)\n",
    "print(X_val.shape), print(y_val.shape)\n",
    "print(X_test.shape), print(y_test.shape)"
   ]
  },
  {
   "cell_type": "code",
   "execution_count": 111,
   "metadata": {},
   "outputs": [
    {
     "name": "stdout",
     "output_type": "stream",
     "text": [
      "Model: \"sequential_6\"\n",
      "_________________________________________________________________\n",
      " Layer (type)                Output Shape              Param #   \n",
      "=================================================================\n",
      " conv2d_12 (Conv2D)          (None, 32, 32, 32)        320       \n",
      "                                                                 \n",
      " max_pooling2d_12 (MaxPoolin  (None, 16, 16, 32)       0         \n",
      " g2D)                                                            \n",
      "                                                                 \n",
      " conv2d_13 (Conv2D)          (None, 16, 16, 64)        18496     \n",
      "                                                                 \n",
      " max_pooling2d_13 (MaxPoolin  (None, 8, 8, 64)         0         \n",
      " g2D)                                                            \n",
      "                                                                 \n",
      " dropout_12 (Dropout)        (None, 8, 8, 64)          0         \n",
      "                                                                 \n",
      " flatten_6 (Flatten)         (None, 4096)              0         \n",
      "                                                                 \n",
      " dense_12 (Dense)            (None, 680)               2785960   \n",
      "                                                                 \n",
      " dropout_13 (Dropout)        (None, 680)               0         \n",
      "                                                                 \n",
      " dense_13 (Dense)            (None, 5)                 3405      \n",
      "                                                                 \n",
      "=================================================================\n",
      "Total params: 2,808,181\n",
      "Trainable params: 2,808,181\n",
      "Non-trainable params: 0\n",
      "_________________________________________________________________\n"
     ]
    }
   ],
   "source": [
    "num_classes = 5\n",
    "\n",
    "model = Sequential()\n",
    "model.add(Conv2D(32, kernel_size=(3, 3), padding='same', activation='relu', input_shape=(32, 32, 1)))\n",
    "model.add(MaxPooling2D(pool_size=(2, 2)))\n",
    "model.add(Conv2D(64, kernel_size=(3, 3), padding='same', activation='relu'))\n",
    "model.add(MaxPooling2D(pool_size=(2, 2)))\n",
    "model.add(Dropout(0.2))\n",
    "model.add(Flatten())\n",
    "model.add(Dense(680, activation='relu'))\n",
    "model.add(Dropout(0.5))\n",
    "model.add(Dense(num_classes, activation='softmax'))\n",
    "model.summary()"
   ]
  },
  {
   "cell_type": "code",
   "execution_count": 112,
   "metadata": {},
   "outputs": [
    {
     "ename": "ValueError",
     "evalue": "Failed to convert a NumPy array to a Tensor (Unsupported object type int).",
     "output_type": "error",
     "traceback": [
      "\u001b[1;31m---------------------------------------------------------------------------\u001b[0m",
      "\u001b[1;31mValueError\u001b[0m                                Traceback (most recent call last)",
      "\u001b[1;32m~\\AppData\\Local\\Temp/ipykernel_11580/1788810133.py\u001b[0m in \u001b[0;36m<module>\u001b[1;34m\u001b[0m\n\u001b[0;32m     12\u001b[0m               metrics=['accuracy', top_3_accuracy])\n\u001b[0;32m     13\u001b[0m \u001b[1;33m\u001b[0m\u001b[0m\n\u001b[1;32m---> 14\u001b[1;33m model.fit(x=X_train, y=y_train,\n\u001b[0m\u001b[0;32m     15\u001b[0m           \u001b[0mbatch_size\u001b[0m \u001b[1;33m=\u001b[0m \u001b[1;36m32\u001b[0m\u001b[1;33m,\u001b[0m\u001b[1;33m\u001b[0m\u001b[1;33m\u001b[0m\u001b[0m\n\u001b[0;32m     16\u001b[0m           \u001b[0mepochs\u001b[0m \u001b[1;33m=\u001b[0m \u001b[1;36m25\u001b[0m\u001b[1;33m,\u001b[0m\u001b[1;33m\u001b[0m\u001b[1;33m\u001b[0m\u001b[0m\n",
      "\u001b[1;32m~\\anaconda3\\lib\\site-packages\\keras\\utils\\traceback_utils.py\u001b[0m in \u001b[0;36merror_handler\u001b[1;34m(*args, **kwargs)\u001b[0m\n\u001b[0;32m     65\u001b[0m     \u001b[1;32mexcept\u001b[0m \u001b[0mException\u001b[0m \u001b[1;32mas\u001b[0m \u001b[0me\u001b[0m\u001b[1;33m:\u001b[0m  \u001b[1;31m# pylint: disable=broad-except\u001b[0m\u001b[1;33m\u001b[0m\u001b[1;33m\u001b[0m\u001b[0m\n\u001b[0;32m     66\u001b[0m       \u001b[0mfiltered_tb\u001b[0m \u001b[1;33m=\u001b[0m \u001b[0m_process_traceback_frames\u001b[0m\u001b[1;33m(\u001b[0m\u001b[0me\u001b[0m\u001b[1;33m.\u001b[0m\u001b[0m__traceback__\u001b[0m\u001b[1;33m)\u001b[0m\u001b[1;33m\u001b[0m\u001b[1;33m\u001b[0m\u001b[0m\n\u001b[1;32m---> 67\u001b[1;33m       \u001b[1;32mraise\u001b[0m \u001b[0me\u001b[0m\u001b[1;33m.\u001b[0m\u001b[0mwith_traceback\u001b[0m\u001b[1;33m(\u001b[0m\u001b[0mfiltered_tb\u001b[0m\u001b[1;33m)\u001b[0m \u001b[1;32mfrom\u001b[0m \u001b[1;32mNone\u001b[0m\u001b[1;33m\u001b[0m\u001b[1;33m\u001b[0m\u001b[0m\n\u001b[0m\u001b[0;32m     68\u001b[0m     \u001b[1;32mfinally\u001b[0m\u001b[1;33m:\u001b[0m\u001b[1;33m\u001b[0m\u001b[1;33m\u001b[0m\u001b[0m\n\u001b[0;32m     69\u001b[0m       \u001b[1;32mdel\u001b[0m \u001b[0mfiltered_tb\u001b[0m\u001b[1;33m\u001b[0m\u001b[1;33m\u001b[0m\u001b[0m\n",
      "\u001b[1;32m~\\anaconda3\\lib\\site-packages\\tensorflow\\python\\framework\\constant_op.py\u001b[0m in \u001b[0;36mconvert_to_eager_tensor\u001b[1;34m(value, ctx, dtype)\u001b[0m\n\u001b[0;32m    100\u001b[0m       \u001b[0mdtype\u001b[0m \u001b[1;33m=\u001b[0m \u001b[0mdtypes\u001b[0m\u001b[1;33m.\u001b[0m\u001b[0mas_dtype\u001b[0m\u001b[1;33m(\u001b[0m\u001b[0mdtype\u001b[0m\u001b[1;33m)\u001b[0m\u001b[1;33m.\u001b[0m\u001b[0mas_datatype_enum\u001b[0m\u001b[1;33m\u001b[0m\u001b[1;33m\u001b[0m\u001b[0m\n\u001b[0;32m    101\u001b[0m   \u001b[0mctx\u001b[0m\u001b[1;33m.\u001b[0m\u001b[0mensure_initialized\u001b[0m\u001b[1;33m(\u001b[0m\u001b[1;33m)\u001b[0m\u001b[1;33m\u001b[0m\u001b[1;33m\u001b[0m\u001b[0m\n\u001b[1;32m--> 102\u001b[1;33m   \u001b[1;32mreturn\u001b[0m \u001b[0mops\u001b[0m\u001b[1;33m.\u001b[0m\u001b[0mEagerTensor\u001b[0m\u001b[1;33m(\u001b[0m\u001b[0mvalue\u001b[0m\u001b[1;33m,\u001b[0m \u001b[0mctx\u001b[0m\u001b[1;33m.\u001b[0m\u001b[0mdevice_name\u001b[0m\u001b[1;33m,\u001b[0m \u001b[0mdtype\u001b[0m\u001b[1;33m)\u001b[0m\u001b[1;33m\u001b[0m\u001b[1;33m\u001b[0m\u001b[0m\n\u001b[0m\u001b[0;32m    103\u001b[0m \u001b[1;33m\u001b[0m\u001b[0m\n\u001b[0;32m    104\u001b[0m \u001b[1;33m\u001b[0m\u001b[0m\n",
      "\u001b[1;31mValueError\u001b[0m: Failed to convert a NumPy array to a Tensor (Unsupported object type int)."
     ]
    }
   ],
   "source": [
    "def top_3_accuracy(x,y): \n",
    "    t3 = top_k_categorical_accuracy(x,y, 3)\n",
    "    return t3\n",
    "\n",
    "reduceLROnPlat = ReduceLROnPlateau(monitor='val_loss', factor=0.5, patience=3, \n",
    "                                   verbose=1, mode='auto', min_delta=0.005, cooldown=5, min_lr=0.0001)\n",
    "earlystop = EarlyStopping(monitor='val_top_3_accuracy', mode='max', patience=5) \n",
    "callbacks = [reduceLROnPlat, earlystop]\n",
    "\n",
    "model.compile(loss='categorical_crossentropy',\n",
    "              optimizer='RMSprop',\n",
    "              metrics=['accuracy', top_3_accuracy])\n",
    "\n",
    "model.fit(x=X_train, y=y_train,\n",
    "          batch_size = 32,\n",
    "          epochs = 25,\n",
    "          validation_data = (X_val, y_val),\n",
    "          callbacks = callbacks,\n",
    "          verbose = 1)"
   ]
  }
 ],
 "metadata": {
  "interpreter": {
   "hash": "f1b21a831ca0887bb1ca23965249b487d59158d2ac98669dee611127e8c84e44"
  },
  "kernelspec": {
   "display_name": "Python 3.9.7 ('base')",
   "language": "python",
   "name": "python3"
  },
  "language_info": {
   "codemirror_mode": {
    "name": "ipython",
    "version": 3
   },
   "file_extension": ".py",
   "mimetype": "text/x-python",
   "name": "python",
   "nbconvert_exporter": "python",
   "pygments_lexer": "ipython3",
   "version": "3.9.7"
  },
  "orig_nbformat": 4
 },
 "nbformat": 4,
 "nbformat_minor": 2
}
