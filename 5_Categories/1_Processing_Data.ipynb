{
 "cells": [
  {
   "cell_type": "markdown",
   "metadata": {},
   "source": [
    "# 1 Imports"
   ]
  },
  {
   "cell_type": "code",
   "execution_count": 3,
   "metadata": {},
   "outputs": [],
   "source": [
    "import pandas as pd\n",
    "import os\n",
    "import glob\n"
   ]
  },
  {
   "cell_type": "markdown",
   "metadata": {},
   "source": [
    "# 2 Loading & processing the data"
   ]
  },
  {
   "cell_type": "code",
   "execution_count": 4,
   "metadata": {},
   "outputs": [
    {
     "data": {
      "text/html": [
       "<div>\n",
       "<style scoped>\n",
       "    .dataframe tbody tr th:only-of-type {\n",
       "        vertical-align: middle;\n",
       "    }\n",
       "\n",
       "    .dataframe tbody tr th {\n",
       "        vertical-align: top;\n",
       "    }\n",
       "\n",
       "    .dataframe thead th {\n",
       "        text-align: right;\n",
       "    }\n",
       "</style>\n",
       "<table border=\"1\" class=\"dataframe\">\n",
       "  <thead>\n",
       "    <tr style=\"text-align: right;\">\n",
       "      <th></th>\n",
       "      <th>countrycode</th>\n",
       "      <th>drawing</th>\n",
       "      <th>key_id</th>\n",
       "      <th>timestamp</th>\n",
       "      <th>word</th>\n",
       "    </tr>\n",
       "  </thead>\n",
       "  <tbody>\n",
       "    <tr>\n",
       "      <th>0</th>\n",
       "      <td>US</td>\n",
       "      <td>[[[0, 11, 23, 50, 72, 96, 97, 132, 158, 224, 2...</td>\n",
       "      <td>4926006882205696</td>\n",
       "      <td>2017-03-09 00:28:55.637750</td>\n",
       "      <td>bird</td>\n",
       "    </tr>\n",
       "    <tr>\n",
       "      <th>1</th>\n",
       "      <td>US</td>\n",
       "      <td>[[[65, 194, 221, 240, 250, 255, 251, 242, 227,...</td>\n",
       "      <td>5357674197680128</td>\n",
       "      <td>2017-03-29 04:22:58.822970</td>\n",
       "      <td>bird</td>\n",
       "    </tr>\n",
       "    <tr>\n",
       "      <th>2</th>\n",
       "      <td>US</td>\n",
       "      <td>[[[159, 163, 175, 189, 201, 209, 227, 245, 253...</td>\n",
       "      <td>5553672849195008</td>\n",
       "      <td>2017-03-17 19:31:28.879810</td>\n",
       "      <td>bird</td>\n",
       "    </tr>\n",
       "    <tr>\n",
       "      <th>3</th>\n",
       "      <td>DE</td>\n",
       "      <td>[[[72, 76, 81], [138, 178, 193]], [[87, 116], ...</td>\n",
       "      <td>5635633911431168</td>\n",
       "      <td>2017-03-20 14:13:01.811800</td>\n",
       "      <td>bird</td>\n",
       "    </tr>\n",
       "    <tr>\n",
       "      <th>4</th>\n",
       "      <td>US</td>\n",
       "      <td>[[[0, 5, 22, 45, 68, 90, 106, 113, 137, 155, 1...</td>\n",
       "      <td>5633137012899840</td>\n",
       "      <td>2017-01-30 19:27:48.239960</td>\n",
       "      <td>bird</td>\n",
       "    </tr>\n",
       "  </tbody>\n",
       "</table>\n",
       "</div>"
      ],
      "text/plain": [
       "  countrycode                                            drawing  \\\n",
       "0          US  [[[0, 11, 23, 50, 72, 96, 97, 132, 158, 224, 2...   \n",
       "1          US  [[[65, 194, 221, 240, 250, 255, 251, 242, 227,...   \n",
       "2          US  [[[159, 163, 175, 189, 201, 209, 227, 245, 253...   \n",
       "3          DE  [[[72, 76, 81], [138, 178, 193]], [[87, 116], ...   \n",
       "4          US  [[[0, 5, 22, 45, 68, 90, 106, 113, 137, 155, 1...   \n",
       "\n",
       "             key_id                   timestamp  word  \n",
       "0  4926006882205696  2017-03-09 00:28:55.637750  bird  \n",
       "1  5357674197680128  2017-03-29 04:22:58.822970  bird  \n",
       "2  5553672849195008  2017-03-17 19:31:28.879810  bird  \n",
       "3  5635633911431168  2017-03-20 14:13:01.811800  bird  \n",
       "4  5633137012899840  2017-01-30 19:27:48.239960  bird  "
      ]
     },
     "execution_count": 4,
     "metadata": {},
     "output_type": "execute_result"
    }
   ],
   "source": [
    "#getting the data from 5 different csvs and combining them in to 1 pandas dataframe\n",
    "df = pd.concat(map(pd.read_csv, glob.glob(os.path.join('5_animals/', \"*.csv\"))),ignore_index=True)\n",
    "\n",
    "#We drop the Recognized=False rows as there is no point in having unrecognized drawings who will not contribute to the training phase.\n",
    "df = df[df[\"recognized\"]==True].reset_index(drop=True)\n",
    "\n",
    "#the recognized column is now uneccesary and can be dropped\n",
    "df = df.drop(columns=['recognized'])\n",
    "\n",
    "#lets check out the dataframe in its current state\n",
    "df.head()\n"
   ]
  },
  {
   "cell_type": "code",
   "execution_count": 5,
   "metadata": {},
   "outputs": [
    {
     "data": {
      "text/plain": [
       "dog          143285\n",
       "butterfly    114549\n",
       "bird         111611\n",
       "elephant     104986\n",
       "cat          103031\n",
       "Name: word, dtype: int64"
      ]
     },
     "execution_count": 5,
     "metadata": {},
     "output_type": "execute_result"
    }
   ],
   "source": [
    "#finding the amount of rows for each category\n",
    "df['word'].value_counts()"
   ]
  },
  {
   "cell_type": "markdown",
   "metadata": {},
   "source": [
    "As you can see above, the dataset is not balanced yet. This will be done in the next step by keeping 10k of each category."
   ]
  },
  {
   "cell_type": "code",
   "execution_count": 6,
   "metadata": {},
   "outputs": [],
   "source": [
    "#balancing of the dataset: keep 10000 rows from each animal\n",
    "df = df.groupby('word').sample(n=10000, random_state=1).reset_index(drop=True)"
   ]
  },
  {
   "cell_type": "code",
   "execution_count": 7,
   "metadata": {},
   "outputs": [
    {
     "data": {
      "text/plain": [
       "bird         10000\n",
       "butterfly    10000\n",
       "cat          10000\n",
       "dog          10000\n",
       "elephant     10000\n",
       "Name: word, dtype: int64"
      ]
     },
     "execution_count": 7,
     "metadata": {},
     "output_type": "execute_result"
    }
   ],
   "source": [
    "df['word'].value_counts()"
   ]
  },
  {
   "cell_type": "code",
   "execution_count": 8,
   "metadata": {},
   "outputs": [],
   "source": [
    "df.to_csv('5_animals.csv')"
   ]
  }
 ],
 "metadata": {
  "interpreter": {
   "hash": "f1b21a831ca0887bb1ca23965249b487d59158d2ac98669dee611127e8c84e44"
  },
  "kernelspec": {
   "display_name": "Python 3.9.7 ('base')",
   "language": "python",
   "name": "python3"
  },
  "language_info": {
   "codemirror_mode": {
    "name": "ipython",
    "version": 3
   },
   "file_extension": ".py",
   "mimetype": "text/x-python",
   "name": "python",
   "nbconvert_exporter": "python",
   "pygments_lexer": "ipython3",
   "version": "3.9.7"
  },
  "orig_nbformat": 4
 },
 "nbformat": 4,
 "nbformat_minor": 2
}
