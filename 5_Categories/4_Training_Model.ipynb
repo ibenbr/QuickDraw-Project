{
 "cells": [
  {
   "cell_type": "markdown",
   "metadata": {},
   "source": [
    "# 1 Imports"
   ]
  },
  {
   "cell_type": "code",
   "execution_count": 1,
   "metadata": {},
   "outputs": [],
   "source": [
    "import numpy as np \n",
    "import pandas as pd\n",
    "\n",
    "import tensorflow as tf\n",
    "from tensorflow import keras\n",
    "from keras.models import Sequential\n",
    "from keras import layers\n",
    "from keras.layers import Conv2D, MaxPooling2D, MaxPool2D, Dense, Dropout, Flatten\n",
    "from keras.metrics import top_k_categorical_accuracy\n",
    "from keras.callbacks import ModelCheckpoint, ReduceLROnPlateau, EarlyStopping\n",
    "from sklearn.model_selection import train_test_split\n",
    "from tensorflow.keras.preprocessing import image_dataset_from_directory\n",
    "import matplotlib.pyplot as plt\n",
    "import os\n",
    "import cv2\n"
   ]
  },
  {
   "cell_type": "markdown",
   "metadata": {},
   "source": [
    "# 2 Preprocessing the data"
   ]
  },
  {
   "cell_type": "markdown",
   "metadata": {},
   "source": [
    "Fetching the already split dataset"
   ]
  },
  {
   "cell_type": "code",
   "execution_count": 2,
   "metadata": {},
   "outputs": [],
   "source": [
    "base_directory = \"Splitted_Dataset/\"\n",
    "\n",
    "train_path=base_directory+\"/train\"\n",
    "test_path=base_directory+\"/test\"\n",
    "val_path=base_directory+\"/val\""
   ]
  },
  {
   "cell_type": "code",
   "execution_count": 3,
   "metadata": {},
   "outputs": [],
   "source": [
    "x_train=[]\n",
    "\n",
    "for folder in os.listdir(train_path):\n",
    "\n",
    "    sub_path=train_path+\"/\"+folder\n",
    "\n",
    "    for img in os.listdir(sub_path):\n",
    "\n",
    "        image_path=sub_path+\"/\"+img\n",
    "\n",
    "        img_arr=cv2.imread(image_path)\n",
    "\n",
    "        img_arr=cv2.resize(img_arr,(256,170))\n",
    "\n",
    "        x_train.append(img_arr)\n",
    "\n",
    "x_test=[]\n",
    "\n",
    "for folder in os.listdir(test_path):\n",
    "\n",
    "    sub_path=test_path+\"/\"+folder\n",
    "\n",
    "    for img in os.listdir(sub_path):\n",
    "\n",
    "        image_path=sub_path+\"/\"+img\n",
    "\n",
    "        img_arr=cv2.imread(image_path)\n",
    "\n",
    "        img_arr=cv2.resize(img_arr,(256,170))\n",
    "\n",
    "        x_test.append(img_arr)\n",
    "\n",
    "x_val=[]\n",
    "\n",
    "for folder in os.listdir(val_path):\n",
    "\n",
    "    sub_path=val_path+\"/\"+folder\n",
    "\n",
    "    for img in os.listdir(sub_path):\n",
    "\n",
    "        image_path=sub_path+\"/\"+img\n",
    "\n",
    "        img_arr=cv2.imread(image_path)\n",
    "\n",
    "        img_arr=cv2.resize(img_arr,(256,170))\n",
    "\n",
    "        x_val.append(img_arr)"
   ]
  },
  {
   "cell_type": "code",
   "execution_count": 4,
   "metadata": {},
   "outputs": [],
   "source": [
    "train_x=np.array(x_train)\n",
    "test_x=np.array(x_test)\n",
    "val_x=np.array(x_val)"
   ]
  },
  {
   "cell_type": "code",
   "execution_count": 5,
   "metadata": {},
   "outputs": [],
   "source": [
    "train_x=train_x/255.0\n",
    "test_x=test_x/255.0\n",
    "val_x=val_x/255.0"
   ]
  },
  {
   "cell_type": "code",
   "execution_count": 6,
   "metadata": {},
   "outputs": [],
   "source": [
    "from keras_preprocessing.image import ImageDataGenerator\n",
    "train_datagen = ImageDataGenerator(rescale = 1./255)\n",
    "test_datagen = ImageDataGenerator(rescale = 1./255)\n",
    "val_datagen = ImageDataGenerator(rescale = 1./255)"
   ]
  },
  {
   "cell_type": "code",
   "execution_count": 7,
   "metadata": {},
   "outputs": [
    {
     "name": "stdout",
     "output_type": "stream",
     "text": [
      "Found 3500 images belonging to 5 classes.\n",
      "Found 750 images belonging to 5 classes.\n",
      "Found 750 images belonging to 5 classes.\n"
     ]
    }
   ],
   "source": [
    "training_set = train_datagen.flow_from_directory(train_path,\n",
    "                                                 target_size = (170,256),\n",
    "                                                 batch_size = 4,\n",
    "                                                 class_mode = 'categorical')\n",
    "test_set = test_datagen.flow_from_directory(test_path,\n",
    "                                            target_size = (170,256),\n",
    "                                            batch_size = 4,\n",
    "                                            class_mode = 'categorical')\n",
    "val_set = val_datagen.flow_from_directory(val_path,\n",
    "                                            target_size = (170,256),\n",
    "                                            batch_size = 4,\n",
    "                                            class_mode = 'categorical')"
   ]
  },
  {
   "cell_type": "code",
   "execution_count": 8,
   "metadata": {},
   "outputs": [],
   "source": [
    "train_y=training_set.classes\n",
    "test_y=test_set.classes\n",
    "val_y=val_set.classes"
   ]
  },
  {
   "cell_type": "code",
   "execution_count": 9,
   "metadata": {},
   "outputs": [
    {
     "data": {
      "text/plain": [
       "{'butterfly': 0, 'cat': 1, 'dog': 2, 'elephant': 3, 'kangaroo': 4}"
      ]
     },
     "execution_count": 9,
     "metadata": {},
     "output_type": "execute_result"
    }
   ],
   "source": [
    "training_set.class_indices\n"
   ]
  },
  {
   "cell_type": "code",
   "execution_count": 10,
   "metadata": {},
   "outputs": [
    {
     "data": {
      "text/plain": [
       "((3500,), (750,), (750,))"
      ]
     },
     "execution_count": 10,
     "metadata": {},
     "output_type": "execute_result"
    }
   ],
   "source": [
    "train_y.shape,test_y.shape,val_y.shape\n"
   ]
  },
  {
   "cell_type": "markdown",
   "metadata": {},
   "source": [
    "# 3 Training the model"
   ]
  },
  {
   "cell_type": "code",
   "execution_count": 11,
   "metadata": {},
   "outputs": [
    {
     "name": "stdout",
     "output_type": "stream",
     "text": [
      "Model: \"model\"\n",
      "_________________________________________________________________\n",
      " Layer (type)                Output Shape              Param #   \n",
      "=================================================================\n",
      " input_1 (InputLayer)        [(None, 170, 256, 3)]     0         \n",
      "                                                                 \n",
      " conv2d (Conv2D)             (None, 168, 254, 32)      896       \n",
      "                                                                 \n",
      " max_pooling2d (MaxPooling2D  (None, 84, 127, 32)      0         \n",
      " )                                                               \n",
      "                                                                 \n",
      " conv2d_1 (Conv2D)           (None, 82, 125, 64)       18496     \n",
      "                                                                 \n",
      " max_pooling2d_1 (MaxPooling  (None, 41, 62, 64)       0         \n",
      " 2D)                                                             \n",
      "                                                                 \n",
      " conv2d_2 (Conv2D)           (None, 39, 60, 128)       73856     \n",
      "                                                                 \n",
      " flatten (Flatten)           (None, 299520)            0         \n",
      "                                                                 \n",
      " dense (Dense)               (None, 5)                 1497605   \n",
      "                                                                 \n",
      "=================================================================\n",
      "Total params: 1,590,853\n",
      "Trainable params: 1,590,853\n",
      "Non-trainable params: 0\n",
      "_________________________________________________________________\n"
     ]
    }
   ],
   "source": [
    "inputs = keras.Input(shape=(170,256, 3))\n",
    "x = layers.Conv2D(filters=32, kernel_size=3, activation=\"relu\")(inputs)\n",
    "x = layers.MaxPooling2D(pool_size=2)(x)\n",
    "x = layers.Conv2D(filters=64, kernel_size=3, activation=\"relu\")(x)\n",
    "x = layers.MaxPooling2D(pool_size=2)(x)\n",
    "x = layers.Conv2D(filters=128, kernel_size=3, activation=\"relu\")(x)\n",
    "x = layers.Flatten()(x)\n",
    "outputs = layers.Dense(5, activation=\"softmax\")(x)\n",
    "model = keras.Model(inputs=inputs, outputs=outputs)\n",
    "model.summary()"
   ]
  },
  {
   "cell_type": "code",
   "execution_count": 12,
   "metadata": {},
   "outputs": [
    {
     "name": "stdout",
     "output_type": "stream",
     "text": [
      "Epoch 1/20\n",
      "875/875 [==============================] - 13s 11ms/step - loss: 1.0606 - accuracy: 0.6083 - val_loss: 0.7170 - val_accuracy: 0.7493\n",
      "Epoch 2/20\n",
      "875/875 [==============================] - 8s 9ms/step - loss: 0.4429 - accuracy: 0.8411 - val_loss: 0.5891 - val_accuracy: 0.7947\n",
      "Epoch 3/20\n",
      "875/875 [==============================] - 8s 9ms/step - loss: 0.1827 - accuracy: 0.9389 - val_loss: 0.8407 - val_accuracy: 0.7960\n",
      "Epoch 4/20\n",
      "875/875 [==============================] - 8s 9ms/step - loss: 0.0628 - accuracy: 0.9774 - val_loss: 1.1838 - val_accuracy: 0.7400\n",
      "Epoch 5/20\n",
      "875/875 [==============================] - 8s 9ms/step - loss: 0.0278 - accuracy: 0.9917 - val_loss: 1.1613 - val_accuracy: 0.7693\n",
      "Epoch 6/20\n",
      "875/875 [==============================] - 8s 9ms/step - loss: 0.0471 - accuracy: 0.9831 - val_loss: 1.7133 - val_accuracy: 0.7653\n",
      "Epoch 7/20\n",
      "875/875 [==============================] - 8s 9ms/step - loss: 0.0384 - accuracy: 0.9880 - val_loss: 1.3619 - val_accuracy: 0.7653\n",
      "Epoch 8/20\n",
      "875/875 [==============================] - 8s 9ms/step - loss: 0.0267 - accuracy: 0.9929 - val_loss: 1.6665 - val_accuracy: 0.7653\n",
      "Epoch 9/20\n",
      "875/875 [==============================] - 8s 9ms/step - loss: 0.0094 - accuracy: 0.9977 - val_loss: 1.9544 - val_accuracy: 0.7640\n",
      "Epoch 10/20\n",
      "875/875 [==============================] - 8s 9ms/step - loss: 0.0057 - accuracy: 0.9983 - val_loss: 2.2257 - val_accuracy: 0.7640\n",
      "Epoch 11/20\n",
      "875/875 [==============================] - 8s 9ms/step - loss: 0.0151 - accuracy: 0.9943 - val_loss: 2.7405 - val_accuracy: 0.7387\n",
      "Epoch 12/20\n",
      "875/875 [==============================] - 8s 9ms/step - loss: 0.0479 - accuracy: 0.9857 - val_loss: 2.6513 - val_accuracy: 0.7387\n",
      "Epoch 13/20\n",
      "875/875 [==============================] - 8s 9ms/step - loss: 0.0058 - accuracy: 0.9986 - val_loss: 2.7520 - val_accuracy: 0.7573\n",
      "Epoch 14/20\n",
      "875/875 [==============================] - 8s 9ms/step - loss: 7.4170e-05 - accuracy: 1.0000 - val_loss: 2.8010 - val_accuracy: 0.7640\n",
      "Epoch 15/20\n",
      "875/875 [==============================] - 8s 9ms/step - loss: 1.5162e-05 - accuracy: 1.0000 - val_loss: 2.8253 - val_accuracy: 0.7640\n",
      "Epoch 16/20\n",
      "875/875 [==============================] - 8s 9ms/step - loss: 9.5181e-06 - accuracy: 1.0000 - val_loss: 2.8529 - val_accuracy: 0.7640\n",
      "Epoch 17/20\n",
      "875/875 [==============================] - 8s 9ms/step - loss: 6.3561e-06 - accuracy: 1.0000 - val_loss: 2.8853 - val_accuracy: 0.7627\n",
      "Epoch 18/20\n",
      "875/875 [==============================] - 8s 9ms/step - loss: 4.1103e-06 - accuracy: 1.0000 - val_loss: 2.9196 - val_accuracy: 0.7640\n",
      "Epoch 19/20\n",
      "875/875 [==============================] - 8s 9ms/step - loss: 2.7468e-06 - accuracy: 1.0000 - val_loss: 2.9577 - val_accuracy: 0.7640\n",
      "Epoch 20/20\n",
      "875/875 [==============================] - 8s 9ms/step - loss: 1.8065e-06 - accuracy: 1.0000 - val_loss: 3.0002 - val_accuracy: 0.7667\n"
     ]
    }
   ],
   "source": [
    "callbacks = [\n",
    "  keras.callbacks.ModelCheckpoint(\n",
    "    filepath=\"5_animals_model2.h5\",\n",
    "    monitor=\"val_loss\")\n",
    "]\n",
    "\n",
    "keras.optimizers.Adam(learning_rate=0.01)\n",
    "\n",
    "model.compile(loss=\"sparse_categorical_crossentropy\", \n",
    "optimizer=\"Adam\", \n",
    "metrics=[\"accuracy\"])\n",
    "\n",
    "history = model.fit(\n",
    " train_x,\n",
    " train_y,\n",
    " batch_size=4,\n",
    " epochs=20,\n",
    " validation_data=(val_x,val_y),\n",
    " callbacks=callbacks,\n",
    " shuffle=True\n",
    ")"
   ]
  },
  {
   "cell_type": "markdown",
   "metadata": {},
   "source": [
    "# 4 Plotting the training result"
   ]
  },
  {
   "cell_type": "code",
   "execution_count": 13,
   "metadata": {},
   "outputs": [],
   "source": [
    "def plot_function(history):\n",
    "    accuracy = history.history[\"accuracy\"]\n",
    "    val_accuracy = history.history[\"val_accuracy\"]\n",
    "    loss = history.history[\"loss\"]\n",
    "    val_loss = history.history[\"val_loss\"]\n",
    "    epochs = range(1, len(accuracy) + 1)\n",
    "    plt.plot(epochs, accuracy, \"b\", label=\"Training accuracy\")\n",
    "    plt.plot(epochs, val_accuracy, \"bo\", label=\"Validation accuracy\")\n",
    "    plt.title(\"Training and validation accuracy\")\n",
    "    plt.legend()\n",
    "    plt.figure()\n",
    "    plt.plot(epochs, loss, \"b\", label=\"Training loss\")\n",
    "    plt.plot(epochs, val_loss, \"bo\", label=\"Validation loss\")\n",
    "    plt.title(\"Training and validation loss\")\n",
    "    plt.legend()\n",
    "    plt.show()"
   ]
  },
  {
   "cell_type": "markdown",
   "metadata": {},
   "source": [
    "Conclusion: this model is clearly overfitting from epoch 2 onwards."
   ]
  },
  {
   "cell_type": "code",
   "execution_count": 14,
   "metadata": {},
   "outputs": [
    {
     "data": {
      "image/png": "[encoded data removed]",
      "text/plain": [
       "<Figure size 432x288 with 1 Axes>"
      ]
     },
     "metadata": {
      "needs_background": "light"
     },
     "output_type": "display_data"
    },
    {
     "data": {
      "image/png": "[encoded data removed]",
      "text/plain": [
       "<Figure size 432x288 with 1 Axes>"
      ]
     },
     "metadata": {
      "needs_background": "light"
     },
     "output_type": "display_data"
    }
   ],
   "source": [
    "plot_function(history)"
   ]
  },
  {
   "cell_type": "markdown",
   "metadata": {},
   "source": [
    "# 5 Testing the model on the testset"
   ]
  },
  {
   "cell_type": "code",
   "execution_count": 20,
   "metadata": {},
   "outputs": [
    {
     "name": "stdout",
     "output_type": "stream",
     "text": [
      "24/24 [==============================] - 1s 25ms/step - loss: 3.0167 - accuracy: 0.7693\n",
      "Test accuracy: 0.769\n"
     ]
    }
   ],
   "source": [
    "test_model = keras.models.load_model(\"5_animals_model2.h5\")\n",
    "test_loss, test_acc = test_model.evaluate(test_x, test_y)\n",
    "print(f\"Test accuracy: {test_acc:.3f}\")"
   ]
  }
 ],
 "metadata": {
  "interpreter": {
   "hash": "f1b21a831ca0887bb1ca23965249b487d59158d2ac98669dee611127e8c84e44"
  },
  "kernelspec": {
   "display_name": "Python 3.9.7 ('base')",
   "language": "python",
   "name": "python3"
  },
  "language_info": {
   "codemirror_mode": {
    "name": "ipython",
    "version": 3
   },
   "file_extension": ".py",
   "mimetype": "text/x-python",
   "name": "python",
   "nbconvert_exporter": "python",
   "pygments_lexer": "ipython3",
   "version": "3.9.7"
  },
  "orig_nbformat": 4
 },
 "nbformat": 4,
 "nbformat_minor": 2
}
