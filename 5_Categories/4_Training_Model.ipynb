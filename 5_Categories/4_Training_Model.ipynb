{
 "cells": [
  {
   "cell_type": "markdown",
   "metadata": {},
   "source": [
    "# 1 Imports"
   ]
  },
  {
   "cell_type": "code",
   "execution_count": 1,
   "metadata": {},
   "outputs": [],
   "source": [
    "import numpy as np \n",
    "import pandas as pd\n",
    "\n",
    "import tensorflow as tf\n",
    "from tensorflow import keras\n",
    "from keras.models import Sequential\n",
    "from keras import layers\n",
    "from keras.layers import Conv2D, MaxPooling2D, MaxPool2D, Dense, Dropout, Flatten\n",
    "from keras.metrics import top_k_categorical_accuracy\n",
    "from keras.callbacks import ModelCheckpoint, ReduceLROnPlateau, EarlyStopping\n",
    "from sklearn.model_selection import train_test_split\n",
    "from tensorflow.keras.preprocessing import image_dataset_from_directory\n",
    "import matplotlib.pyplot as plt\n",
    "import os\n",
    "import cv2\n"
   ]
  },
  {
   "cell_type": "markdown",
   "metadata": {},
   "source": [
    "# 2 Preprocessing the data"
   ]
  },
  {
   "cell_type": "markdown",
   "metadata": {},
   "source": [
    "Fetching the already split dataset"
   ]
  },
  {
   "cell_type": "code",
   "execution_count": 2,
   "metadata": {},
   "outputs": [],
   "source": [
    "base_directory = \"Splitted_Dataset/\"\n",
    "\n",
    "train_path=base_directory+\"/train\"\n",
    "test_path=base_directory+\"/test\"\n",
    "val_path=base_directory+\"/val\""
   ]
  },
  {
   "cell_type": "code",
   "execution_count": 3,
   "metadata": {},
   "outputs": [],
   "source": [
    "x_train=[]\n",
    "\n",
    "for folder in os.listdir(train_path):\n",
    "\n",
    "    sub_path=train_path+\"/\"+folder\n",
    "\n",
    "    for img in os.listdir(sub_path):\n",
    "        image_path=sub_path+\"/\"+img\n",
    "        img_arr=cv2.imread(image_path)\n",
    "        x_train.append(img_arr)\n",
    "\n",
    "x_test=[]\n",
    "\n",
    "for folder in os.listdir(test_path):\n",
    "    sub_path=test_path+\"/\"+folder\n",
    "\n",
    "    for img in os.listdir(sub_path):\n",
    "        image_path=sub_path+\"/\"+img\n",
    "        img_arr=cv2.imread(image_path)\n",
    "        x_test.append(img_arr)\n",
    "\n",
    "x_val=[]\n",
    "\n",
    "for folder in os.listdir(val_path):\n",
    "    sub_path=val_path+\"/\"+folder\n",
    "\n",
    "    for img in os.listdir(sub_path):\n",
    "        image_path=sub_path+\"/\"+img\n",
    "        img_arr=cv2.imread(image_path)\n",
    "        x_val.append(img_arr)"
   ]
  },
  {
   "cell_type": "code",
   "execution_count": 4,
   "metadata": {},
   "outputs": [],
   "source": [
    "train_x=np.array(x_train)\n",
    "test_x=np.array(x_test)\n",
    "val_x=np.array(x_val)"
   ]
  },
  {
   "cell_type": "code",
   "execution_count": 5,
   "metadata": {},
   "outputs": [],
   "source": [
    "train_x=train_x/255.0\n",
    "test_x=test_x/255.0\n",
    "val_x=val_x/255.0"
   ]
  },
  {
   "cell_type": "code",
   "execution_count": 6,
   "metadata": {},
   "outputs": [],
   "source": [
    "from keras_preprocessing.image import ImageDataGenerator\n",
    "train_datagen = ImageDataGenerator(rescale = 1./255)\n",
    "test_datagen = ImageDataGenerator(rescale = 1./255)\n",
    "val_datagen = ImageDataGenerator(rescale = 1./255)"
   ]
  },
  {
   "cell_type": "code",
   "execution_count": 7,
   "metadata": {},
   "outputs": [
    {
     "name": "stdout",
     "output_type": "stream",
     "text": [
      "Found 3500 images belonging to 5 classes.\n",
      "Found 750 images belonging to 5 classes.\n",
      "Found 750 images belonging to 5 classes.\n"
     ]
    }
   ],
   "source": [
    "training_set = train_datagen.flow_from_directory(train_path,\n",
    "                                                 target_size = (170,256),\n",
    "                                                 batch_size = 16,\n",
    "                                                 class_mode = 'categorical',\n",
    "                                                 shuffle=True)\n",
    "test_set = test_datagen.flow_from_directory(test_path,\n",
    "                                            target_size = (170,256),\n",
    "                                            batch_size = 16,\n",
    "                                            class_mode = 'categorical',\n",
    "                                            shuffle=True)\n",
    "val_set = val_datagen.flow_from_directory(val_path,\n",
    "                                            target_size = (170,256),\n",
    "                                            batch_size = 16,\n",
    "                                            class_mode = 'categorical',\n",
    "                                            shuffle=True)"
   ]
  },
  {
   "cell_type": "code",
   "execution_count": 8,
   "metadata": {},
   "outputs": [],
   "source": [
    "train_y=training_set.classes\n",
    "test_y=test_set.classes\n",
    "val_y=val_set.classes"
   ]
  },
  {
   "cell_type": "code",
   "execution_count": 9,
   "metadata": {},
   "outputs": [
    {
     "data": {
      "text/plain": [
       "{'butterfly': 0, 'cat': 1, 'dog': 2, 'elephant': 3, 'kangaroo': 4}"
      ]
     },
     "execution_count": 9,
     "metadata": {},
     "output_type": "execute_result"
    }
   ],
   "source": [
    "training_set.class_indices\n"
   ]
  },
  {
   "cell_type": "code",
   "execution_count": 10,
   "metadata": {},
   "outputs": [
    {
     "data": {
      "text/plain": [
       "((3500,), (750,), (750,))"
      ]
     },
     "execution_count": 10,
     "metadata": {},
     "output_type": "execute_result"
    }
   ],
   "source": [
    "train_y.shape,test_y.shape,val_y.shape\n"
   ]
  },
  {
   "cell_type": "markdown",
   "metadata": {},
   "source": [
    "# 3 Training the model"
   ]
  },
  {
   "cell_type": "code",
   "execution_count": 11,
   "metadata": {},
   "outputs": [
    {
     "name": "stdout",
     "output_type": "stream",
     "text": [
      "Model: \"model\"\n",
      "_________________________________________________________________\n",
      " Layer (type)                Output Shape              Param #   \n",
      "=================================================================\n",
      " input_1 (InputLayer)        [(None, 170, 256, 3)]     0         \n",
      "                                                                 \n",
      " dropout (Dropout)           (None, 170, 256, 3)       0         \n",
      "                                                                 \n",
      " conv2d (Conv2D)             (None, 168, 254, 32)      896       \n",
      "                                                                 \n",
      " max_pooling2d (MaxPooling2D  (None, 33, 50, 32)       0         \n",
      " )                                                               \n",
      "                                                                 \n",
      " conv2d_1 (Conv2D)           (None, 31, 48, 64)        18496     \n",
      "                                                                 \n",
      " max_pooling2d_1 (MaxPooling  (None, 6, 9, 64)         0         \n",
      " 2D)                                                             \n",
      "                                                                 \n",
      " conv2d_2 (Conv2D)           (None, 4, 7, 128)         73856     \n",
      "                                                                 \n",
      " max_pooling2d_2 (MaxPooling  (None, 2, 3, 128)        0         \n",
      " 2D)                                                             \n",
      "                                                                 \n",
      " dropout_1 (Dropout)         (None, 2, 3, 128)         0         \n",
      "                                                                 \n",
      " flatten (Flatten)           (None, 768)               0         \n",
      "                                                                 \n",
      " dense (Dense)               (None, 512)               393728    \n",
      "                                                                 \n",
      " dropout_2 (Dropout)         (None, 512)               0         \n",
      "                                                                 \n",
      " dense_1 (Dense)             (None, 5)                 2565      \n",
      "                                                                 \n",
      "=================================================================\n",
      "Total params: 489,541\n",
      "Trainable params: 489,541\n",
      "Non-trainable params: 0\n",
      "_________________________________________________________________\n"
     ]
    }
   ],
   "source": [
    "inputs = keras.Input(shape=(170,256,3))\n",
    "x = Sequential()\n",
    "x = layers.Dropout(0.5)(inputs)\n",
    "x = layers.Conv2D(filters=32, kernel_size=3, activation=\"relu\")(x)\n",
    "x = layers.MaxPooling2D(pool_size=5)(x)\n",
    "x = layers.Conv2D(filters=64, kernel_size=3, activation=\"relu\")(x)\n",
    "x = layers.MaxPooling2D(pool_size=5)(x)\n",
    "x = layers.Conv2D(filters=128, kernel_size=3, activation=\"relu\")(x)\n",
    "x = layers.MaxPooling2D(pool_size=2)(x)\n",
    "x = layers.Dropout(0.2)(x)\n",
    "x = layers.Flatten()(x)\n",
    "x = layers.Dense(512, activation='relu')(x)\n",
    "x = layers.Dropout(0.5)(x)\n",
    "outputs = layers.Dense(5, activation=\"softmax\")(x)\n",
    "model = keras.Model(inputs=inputs, outputs=outputs)\n",
    "model.summary()"
   ]
  },
  {
   "cell_type": "code",
   "execution_count": 12,
   "metadata": {},
   "outputs": [
    {
     "name": "stdout",
     "output_type": "stream",
     "text": [
      "Epoch 1/40\n",
      "110/110 [==============================] - 22s 145ms/step - loss: 1.5792 - accuracy: 0.2534 - val_loss: 1.5710 - val_accuracy: 0.3520\n",
      "Epoch 2/40\n",
      "110/110 [==============================] - 14s 110ms/step - loss: 1.5319 - accuracy: 0.3143 - val_loss: 1.5361 - val_accuracy: 0.4093\n",
      "Epoch 3/40\n",
      "110/110 [==============================] - 18s 168ms/step - loss: 1.4867 - accuracy: 0.3629 - val_loss: 1.4945 - val_accuracy: 0.4027\n",
      "Epoch 4/40\n",
      "110/110 [==============================] - 11s 101ms/step - loss: 1.4382 - accuracy: 0.3903 - val_loss: 1.4558 - val_accuracy: 0.4173\n",
      "Epoch 5/40\n",
      "110/110 [==============================] - 11s 101ms/step - loss: 1.3924 - accuracy: 0.4194 - val_loss: 1.4326 - val_accuracy: 0.3867\n",
      "Epoch 6/40\n",
      "110/110 [==============================] - 11s 101ms/step - loss: 1.3704 - accuracy: 0.4231 - val_loss: 1.4120 - val_accuracy: 0.3973\n",
      "Epoch 7/40\n",
      "110/110 [==============================] - 11s 100ms/step - loss: 1.3354 - accuracy: 0.4463 - val_loss: 1.3607 - val_accuracy: 0.4400\n",
      "Epoch 8/40\n",
      "110/110 [==============================] - 11s 100ms/step - loss: 1.3094 - accuracy: 0.4663 - val_loss: 1.3383 - val_accuracy: 0.4560\n",
      "Epoch 9/40\n",
      "110/110 [==============================] - 11s 101ms/step - loss: 1.2903 - accuracy: 0.4751 - val_loss: 1.3220 - val_accuracy: 0.4627\n",
      "Epoch 10/40\n",
      "110/110 [==============================] - 11s 101ms/step - loss: 1.2593 - accuracy: 0.5057 - val_loss: 1.3022 - val_accuracy: 0.4747\n",
      "Epoch 11/40\n",
      "110/110 [==============================] - 11s 100ms/step - loss: 1.2329 - accuracy: 0.5074 - val_loss: 1.3185 - val_accuracy: 0.4373\n",
      "Epoch 12/40\n",
      "110/110 [==============================] - 11s 101ms/step - loss: 1.2041 - accuracy: 0.5320 - val_loss: 1.2572 - val_accuracy: 0.4960\n",
      "Epoch 13/40\n",
      "110/110 [==============================] - 11s 100ms/step - loss: 1.1736 - accuracy: 0.5457 - val_loss: 1.2280 - val_accuracy: 0.5133\n",
      "Epoch 14/40\n",
      "110/110 [==============================] - 11s 100ms/step - loss: 1.1459 - accuracy: 0.5557 - val_loss: 1.1872 - val_accuracy: 0.5373\n",
      "Epoch 15/40\n",
      "110/110 [==============================] - 11s 100ms/step - loss: 1.1275 - accuracy: 0.5734 - val_loss: 1.1703 - val_accuracy: 0.5653\n",
      "Epoch 16/40\n",
      "110/110 [==============================] - 11s 101ms/step - loss: 1.0836 - accuracy: 0.5949 - val_loss: 1.1689 - val_accuracy: 0.5600\n",
      "Epoch 17/40\n",
      "110/110 [==============================] - 11s 100ms/step - loss: 1.0488 - accuracy: 0.6074 - val_loss: 1.1429 - val_accuracy: 0.5907\n",
      "Epoch 18/40\n",
      "110/110 [==============================] - 11s 101ms/step - loss: 1.0128 - accuracy: 0.6257 - val_loss: 1.1077 - val_accuracy: 0.5760\n",
      "Epoch 19/40\n",
      "110/110 [==============================] - 11s 101ms/step - loss: 0.9766 - accuracy: 0.6431 - val_loss: 1.0556 - val_accuracy: 0.6213\n",
      "Epoch 20/40\n",
      "110/110 [==============================] - 11s 100ms/step - loss: 0.9440 - accuracy: 0.6549 - val_loss: 0.9908 - val_accuracy: 0.6533\n",
      "Epoch 21/40\n",
      "110/110 [==============================] - 11s 102ms/step - loss: 0.8978 - accuracy: 0.6726 - val_loss: 0.9253 - val_accuracy: 0.6893\n",
      "Epoch 22/40\n",
      "110/110 [==============================] - 11s 102ms/step - loss: 0.8760 - accuracy: 0.6849 - val_loss: 0.9371 - val_accuracy: 0.6760\n",
      "Epoch 23/40\n",
      "110/110 [==============================] - 11s 101ms/step - loss: 0.8493 - accuracy: 0.6863 - val_loss: 0.9090 - val_accuracy: 0.6693\n",
      "Epoch 24/40\n",
      "110/110 [==============================] - 11s 101ms/step - loss: 0.8160 - accuracy: 0.7037 - val_loss: 0.8952 - val_accuracy: 0.6747\n",
      "Epoch 25/40\n",
      "110/110 [==============================] - 11s 102ms/step - loss: 0.7886 - accuracy: 0.7109 - val_loss: 0.8643 - val_accuracy: 0.6800\n",
      "Epoch 26/40\n",
      "110/110 [==============================] - 11s 102ms/step - loss: 0.7540 - accuracy: 0.7234 - val_loss: 0.8310 - val_accuracy: 0.7000\n",
      "Epoch 27/40\n",
      "110/110 [==============================] - 11s 101ms/step - loss: 0.7380 - accuracy: 0.7280 - val_loss: 0.8274 - val_accuracy: 0.7067\n",
      "Epoch 28/40\n",
      "110/110 [==============================] - 11s 101ms/step - loss: 0.7182 - accuracy: 0.7314 - val_loss: 0.8250 - val_accuracy: 0.6747\n",
      "Epoch 29/40\n",
      "110/110 [==============================] - 11s 102ms/step - loss: 0.6884 - accuracy: 0.7463 - val_loss: 0.8332 - val_accuracy: 0.6813\n",
      "Epoch 30/40\n",
      "110/110 [==============================] - 11s 100ms/step - loss: 0.6889 - accuracy: 0.7426 - val_loss: 0.7533 - val_accuracy: 0.7453\n",
      "Epoch 31/40\n",
      "110/110 [==============================] - 11s 101ms/step - loss: 0.6644 - accuracy: 0.7551 - val_loss: 0.9076 - val_accuracy: 0.6280\n",
      "Epoch 32/40\n",
      "110/110 [==============================] - 11s 100ms/step - loss: 0.6523 - accuracy: 0.7577 - val_loss: 0.7464 - val_accuracy: 0.7227\n",
      "Epoch 33/40\n",
      "110/110 [==============================] - 11s 101ms/step - loss: 0.6349 - accuracy: 0.7611 - val_loss: 0.7075 - val_accuracy: 0.7680\n",
      "Epoch 34/40\n",
      "110/110 [==============================] - 11s 100ms/step - loss: 0.6237 - accuracy: 0.7694 - val_loss: 0.7338 - val_accuracy: 0.7400\n",
      "Epoch 35/40\n",
      "110/110 [==============================] - 11s 101ms/step - loss: 0.5985 - accuracy: 0.7777 - val_loss: 0.6774 - val_accuracy: 0.7573\n",
      "Epoch 36/40\n",
      "110/110 [==============================] - 11s 101ms/step - loss: 0.5781 - accuracy: 0.7903 - val_loss: 0.6910 - val_accuracy: 0.7467\n",
      "Epoch 37/40\n",
      "110/110 [==============================] - 11s 101ms/step - loss: 0.5722 - accuracy: 0.7894 - val_loss: 0.7529 - val_accuracy: 0.7000\n",
      "Epoch 38/40\n",
      "110/110 [==============================] - 11s 101ms/step - loss: 0.5561 - accuracy: 0.7969 - val_loss: 0.7020 - val_accuracy: 0.7293\n",
      "Epoch 39/40\n",
      "110/110 [==============================] - 11s 100ms/step - loss: 0.5472 - accuracy: 0.8014 - val_loss: 0.6492 - val_accuracy: 0.7840\n",
      "Epoch 40/40\n",
      "110/110 [==============================] - 11s 100ms/step - loss: 0.5223 - accuracy: 0.8043 - val_loss: 0.6949 - val_accuracy: 0.7360\n"
     ]
    }
   ],
   "source": [
    "callbacks = [\n",
    "  keras.callbacks.ModelCheckpoint(\n",
    "    filepath=\"5_animals_model.h5\",\n",
    "    monitor=\"val_loss\")\n",
    "]\n",
    "\n",
    "keras.optimizers.SGD(learning_rate=0.00005)\n",
    "\n",
    "model.compile(loss=\"sparse_categorical_crossentropy\", \n",
    "optimizer=\"SGD\", \n",
    "metrics=[\"accuracy\"])\n",
    "history = model.fit(\n",
    "    train_x,\n",
    "    train_y,\n",
    "    epochs=40,\n",
    "    validation_data=(val_x,val_y),\n",
    "    callbacks=callbacks,\n",
    "    shuffle=True\n",
    ")"
   ]
  },
  {
   "cell_type": "markdown",
   "metadata": {},
   "source": [
    "# 4 Plotting the training result"
   ]
  },
  {
   "cell_type": "code",
   "execution_count": 16,
   "metadata": {},
   "outputs": [],
   "source": [
    "def plot_function(history):\n",
    "    accuracy = history.history[\"accuracy\"]\n",
    "    val_accuracy = history.history[\"val_accuracy\"]\n",
    "    loss = history.history[\"loss\"]\n",
    "    val_loss = history.history[\"val_loss\"]\n",
    "    epochs = range(1, len(accuracy) + 1)\n",
    "    plt.plot(epochs, accuracy, \"b\", label=\"Training accuracy\")\n",
    "    plt.plot(epochs, val_accuracy, \"r\", label=\"Validation accuracy\")\n",
    "    plt.title(\"Training and validation accuracy\")\n",
    "    plt.legend()\n",
    "    plt.figure()\n",
    "    plt.plot(epochs, loss, \"b\", label=\"Training loss\")\n",
    "    plt.plot(epochs, val_loss, \"r\", label=\"Validation loss\")\n",
    "    plt.title(\"Training and validation loss\")\n",
    "    plt.legend()\n",
    "    plt.show()"
   ]
  },
  {
   "cell_type": "markdown",
   "metadata": {},
   "source": [
    "Conclusion: this model is clearly overfitting from epoch 4 onwards."
   ]
  },
  {
   "cell_type": "code",
   "execution_count": 17,
   "metadata": {},
   "outputs": [
    {
     "data": {
      "image/png": "[encoded data removed]",
      "text/plain": [
       "<Figure size 432x288 with 1 Axes>"
      ]
     },
     "metadata": {
      "needs_background": "light"
     },
     "output_type": "display_data"
    },
    {
     "data": {
      "image/png": "[encoded data removed]",
      "text/plain": [
       "<Figure size 432x288 with 1 Axes>"
      ]
     },
     "metadata": {
      "needs_background": "light"
     },
     "output_type": "display_data"
    }
   ],
   "source": [
    "plot_function(history)"
   ]
  },
  {
   "cell_type": "markdown",
   "metadata": {},
   "source": [
    "# 5 Testing the model on the testset"
   ]
  },
  {
   "cell_type": "code",
   "execution_count": 18,
   "metadata": {},
   "outputs": [
    {
     "name": "stdout",
     "output_type": "stream",
     "text": [
      "24/24 [==============================] - 1s 44ms/step - loss: 0.6991 - accuracy: 0.7333\n",
      "Test accuracy: 0.733\n"
     ]
    }
   ],
   "source": [
    "test_model = keras.models.load_model(\"5_animals_model.h5\")\n",
    "test_loss, test_acc = test_model.evaluate(test_x, test_y)\n",
    "print(f\"Test accuracy: {test_acc:.3f}\")"
   ]
  }
 ],
 "metadata": {
  "interpreter": {
   "hash": "f1b21a831ca0887bb1ca23965249b487d59158d2ac98669dee611127e8c84e44"
  },
  "kernelspec": {
   "display_name": "Python 3.9.7 ('base')",
   "language": "python",
   "name": "python3"
  },
  "language_info": {
   "codemirror_mode": {
    "name": "ipython",
    "version": 3
   },
   "file_extension": ".py",
   "mimetype": "text/x-python",
   "name": "python",
   "nbconvert_exporter": "python",
   "pygments_lexer": "ipython3",
   "version": "3.9.7"
  },
  "orig_nbformat": 4
 },
 "nbformat": 4,
 "nbformat_minor": 2
}
