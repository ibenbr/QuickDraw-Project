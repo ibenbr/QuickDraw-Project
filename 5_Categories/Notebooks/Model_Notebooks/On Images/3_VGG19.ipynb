{
 "cells": [
  {
   "cell_type": "markdown",
   "metadata": {},
   "source": [
    "# Model 3: VGG19"
   ]
  },
  {
   "cell_type": "markdown",
   "metadata": {},
   "source": [
    "## 1 Imports"
   ]
  },
  {
   "cell_type": "code",
   "execution_count": 1,
   "metadata": {},
   "outputs": [],
   "source": [
    "import numpy as np \n",
    "import pandas as pd\n",
    "\n",
    "import tensorflow as tf\n",
    "from tensorflow import keras\n",
    "from keras.models import Sequential\n",
    "from keras import layers\n",
    "from keras.layers import Conv2D, MaxPooling2D, MaxPool2D, Dense, Dropout, Flatten\n",
    "from keras.metrics import top_k_categorical_accuracy\n",
    "from keras.callbacks import ModelCheckpoint, ReduceLROnPlateau, EarlyStopping\n",
    "from sklearn.model_selection import train_test_split\n",
    "from tensorflow.keras.preprocessing import image_dataset_from_directory\n",
    "import matplotlib.pyplot as plt\n",
    "import os\n",
    "import cv2"
   ]
  },
  {
   "cell_type": "code",
   "execution_count": 2,
   "metadata": {},
   "outputs": [
    {
     "name": "stdout",
     "output_type": "stream",
     "text": [
      "Found 3500 files belonging to 5 classes.\n",
      "Found 750 files belonging to 5 classes.\n",
      "Found 750 files belonging to 5 classes.\n"
     ]
    }
   ],
   "source": [
    "dir = '../../Data/Splitted_Images/'\n",
    "\n",
    "train_dataset = image_dataset_from_directory(\n",
    "    os.path.join(dir, \"train\"),\n",
    "    image_size=(170, 256),\n",
    "    batch_size=128)\n",
    "validation_dataset = image_dataset_from_directory(\n",
    "    os.path.join(dir, \"val\"),\n",
    "    image_size=(170, 256),\n",
    "    batch_size=128)\n",
    "test_dataset = image_dataset_from_directory(\n",
    "    os.path.join(dir, \"test\"),\n",
    "    image_size=(170, 256),\n",
    "    batch_size=128)"
   ]
  },
  {
   "cell_type": "markdown",
   "metadata": {},
   "source": [
    "## 3 Training the model"
   ]
  },
  {
   "cell_type": "code",
   "execution_count": 3,
   "metadata": {},
   "outputs": [],
   "source": [
    "conv_base = keras.applications.vgg19.VGG19(\n",
    "    weights=\"imagenet\",\n",
    "    include_top=False,\n",
    ")\n",
    "\n",
    "conv_base.trainable = True\n",
    "for layer in conv_base.layers[:-4]:\n",
    "    layer.trainable = False"
   ]
  },
  {
   "cell_type": "code",
   "execution_count": 4,
   "metadata": {},
   "outputs": [],
   "source": [
    "data_augmentation = keras.Sequential([\n",
    "    layers.RandomFlip(\"horizontal\"),\n",
    "    layers.RandomRotation(0.1),\n",
    "    layers.RandomZoom(0.2),\n",
    "])\n",
    "\n",
    "\n",
    "inputs = keras.Input(shape=(170, 256, 3))\n",
    "x = data_augmentation(inputs) \n",
    "x = layers.Dropout(0.2)(x)\n",
    "x = keras.applications.vgg19.preprocess_input(x) \n",
    "x = conv_base(x)\n",
    "x = layers.Flatten()(x)\n",
    "x = layers.Dense(256)(x)\n",
    "x = layers.Dropout(0.5)(x)\n",
    "outputs = layers.Dense(5, activation=\"softmax\")(x)\n",
    "\n",
    "model = keras.Model(inputs, outputs)"
   ]
  },
  {
   "cell_type": "code",
   "execution_count": 5,
   "metadata": {},
   "outputs": [
    {
     "name": "stdout",
     "output_type": "stream",
     "text": [
      "Model: \"model\"\n",
      "_________________________________________________________________\n",
      " Layer (type)                Output Shape              Param #   \n",
      "=================================================================\n",
      " input_2 (InputLayer)        [(None, 170, 256, 3)]     0         \n",
      "                                                                 \n",
      " sequential (Sequential)     (None, 170, 256, 3)       0         \n",
      "                                                                 \n",
      " dropout (Dropout)           (None, 170, 256, 3)       0         \n",
      "                                                                 \n",
      " tf.__operators__.getitem (S  (None, 170, 256, 3)      0         \n",
      " licingOpLambda)                                                 \n",
      "                                                                 \n",
      " tf.nn.bias_add (TFOpLambda)  (None, 170, 256, 3)      0         \n",
      "                                                                 \n",
      " vgg19 (Functional)          (None, None, None, 512)   20024384  \n",
      "                                                                 \n",
      " flatten (Flatten)           (None, 20480)             0         \n",
      "                                                                 \n",
      " dense (Dense)               (None, 256)               5243136   \n",
      "                                                                 \n",
      " dropout_1 (Dropout)         (None, 256)               0         \n",
      "                                                                 \n",
      " dense_1 (Dense)             (None, 5)                 1285      \n",
      "                                                                 \n",
      "=================================================================\n",
      "Total params: 25,268,805\n",
      "Trainable params: 12,323,845\n",
      "Non-trainable params: 12,944,960\n",
      "_________________________________________________________________\n"
     ]
    }
   ],
   "source": [
    "model.summary()"
   ]
  },
  {
   "cell_type": "code",
   "execution_count": 6,
   "metadata": {},
   "outputs": [
    {
     "name": "stdout",
     "output_type": "stream",
     "text": [
      "Epoch 1/50\n",
      "28/28 [==============================] - 49s 1s/step - loss: 10.3113 - accuracy: 0.3417 - val_loss: 3.7758 - val_accuracy: 0.4747\n",
      "Epoch 2/50\n",
      "28/28 [==============================] - 24s 833ms/step - loss: 4.0684 - accuracy: 0.4726 - val_loss: 1.9266 - val_accuracy: 0.6053\n",
      "Epoch 3/50\n",
      "28/28 [==============================] - 24s 850ms/step - loss: 2.6536 - accuracy: 0.5174 - val_loss: 1.4059 - val_accuracy: 0.6573\n",
      "Epoch 4/50\n",
      "28/28 [==============================] - 25s 894ms/step - loss: 1.8395 - accuracy: 0.5757 - val_loss: 1.0592 - val_accuracy: 0.7133\n",
      "Epoch 5/50\n",
      "28/28 [==============================] - 26s 915ms/step - loss: 1.4388 - accuracy: 0.6291 - val_loss: 0.8961 - val_accuracy: 0.7333\n",
      "Epoch 6/50\n",
      "28/28 [==============================] - 26s 906ms/step - loss: 1.1872 - accuracy: 0.6611 - val_loss: 0.7674 - val_accuracy: 0.7493\n",
      "Epoch 7/50\n",
      "28/28 [==============================] - 25s 896ms/step - loss: 1.0232 - accuracy: 0.6757 - val_loss: 0.8078 - val_accuracy: 0.7387\n",
      "Epoch 8/50\n",
      "28/28 [==============================] - 26s 911ms/step - loss: 0.8680 - accuracy: 0.7249 - val_loss: 0.6767 - val_accuracy: 0.7747\n",
      "Epoch 9/50\n",
      "28/28 [==============================] - 24s 854ms/step - loss: 0.8319 - accuracy: 0.7260 - val_loss: 0.6713 - val_accuracy: 0.7733\n",
      "Epoch 10/50\n",
      "28/28 [==============================] - 24s 861ms/step - loss: 0.7732 - accuracy: 0.7403 - val_loss: 0.5992 - val_accuracy: 0.8040\n",
      "Epoch 11/50\n",
      "28/28 [==============================] - 25s 893ms/step - loss: 0.6989 - accuracy: 0.7654 - val_loss: 0.6089 - val_accuracy: 0.7920\n",
      "Epoch 12/50\n",
      "28/28 [==============================] - 25s 900ms/step - loss: 0.6658 - accuracy: 0.7740 - val_loss: 0.5904 - val_accuracy: 0.8000\n",
      "Epoch 13/50\n",
      "28/28 [==============================] - 26s 904ms/step - loss: 0.6255 - accuracy: 0.7834 - val_loss: 0.5851 - val_accuracy: 0.8067\n",
      "Epoch 14/50\n",
      "28/28 [==============================] - 25s 897ms/step - loss: 0.6037 - accuracy: 0.7897 - val_loss: 0.5855 - val_accuracy: 0.8107\n",
      "Epoch 15/50\n",
      "28/28 [==============================] - 26s 911ms/step - loss: 0.5587 - accuracy: 0.7997 - val_loss: 0.5764 - val_accuracy: 0.8187\n",
      "Epoch 16/50\n",
      "28/28 [==============================] - 25s 901ms/step - loss: 0.5575 - accuracy: 0.8014 - val_loss: 0.6001 - val_accuracy: 0.8200\n",
      "Epoch 17/50\n",
      "28/28 [==============================] - 26s 907ms/step - loss: 0.5116 - accuracy: 0.8246 - val_loss: 0.5878 - val_accuracy: 0.8373\n",
      "Epoch 18/50\n",
      "28/28 [==============================] - 26s 906ms/step - loss: 0.4785 - accuracy: 0.8311 - val_loss: 0.5398 - val_accuracy: 0.8440\n",
      "Epoch 19/50\n",
      "28/28 [==============================] - 25s 897ms/step - loss: 0.4941 - accuracy: 0.8289 - val_loss: 0.5941 - val_accuracy: 0.8227\n",
      "Epoch 20/50\n",
      "28/28 [==============================] - 25s 896ms/step - loss: 0.4670 - accuracy: 0.8337 - val_loss: 0.5576 - val_accuracy: 0.8360\n",
      "Epoch 21/50\n",
      "28/28 [==============================] - 25s 896ms/step - loss: 0.4506 - accuracy: 0.8474 - val_loss: 0.5490 - val_accuracy: 0.8427\n",
      "Epoch 22/50\n",
      "28/28 [==============================] - 25s 897ms/step - loss: 0.4479 - accuracy: 0.8440 - val_loss: 0.5711 - val_accuracy: 0.8200\n",
      "Epoch 23/50\n",
      "28/28 [==============================] - 25s 897ms/step - loss: 0.4349 - accuracy: 0.8457 - val_loss: 0.5900 - val_accuracy: 0.8227\n"
     ]
    }
   ],
   "source": [
    "model.compile(\n",
    "    loss=\"sparse_categorical_crossentropy\",\n",
    "    optimizer=keras.optimizers.RMSprop(learning_rate=1e-5),\n",
    "    metrics=[\"accuracy\"]\n",
    ")\n",
    "\n",
    "callbacks = [keras.callbacks.ModelCheckpoint(\n",
    "    filepath=\"models/3_VGG19_Model.h5\", save_best_only=True, monitor=\"val_loss\"),\n",
    "    EarlyStopping(monitor='val_loss', mode='auto', patience=5)  \n",
    "    ]\n",
    "\n",
    "history = model.fit(\n",
    "    train_dataset,\n",
    "    epochs=50,\n",
    "    validation_data=validation_dataset,\n",
    "    callbacks=callbacks\n",
    ")"
   ]
  },
  {
   "cell_type": "markdown",
   "metadata": {},
   "source": [
    "## 4 Plotting the training result"
   ]
  },
  {
   "cell_type": "code",
   "execution_count": 7,
   "metadata": {},
   "outputs": [],
   "source": [
    "def plot_function(history):\n",
    "    accuracy = history.history[\"accuracy\"]\n",
    "    val_accuracy = history.history[\"val_accuracy\"]\n",
    "    loss = history.history[\"loss\"]\n",
    "    val_loss = history.history[\"val_loss\"]\n",
    "    epochs = range(1, len(accuracy) + 1)\n",
    "    plt.plot(epochs, accuracy, \"b\", label=\"Training accuracy\")\n",
    "    plt.plot(epochs, val_accuracy, \"r\", label=\"Validation accuracy\")\n",
    "    plt.title(\"Training and validation accuracy\")\n",
    "    plt.legend()\n",
    "    plt.figure()\n",
    "    plt.plot(epochs, loss, \"b\", label=\"Training loss\")\n",
    "    plt.plot(epochs, val_loss, \"r\", label=\"Validation loss\")\n",
    "    plt.title(\"Training and validation loss\")\n",
    "    plt.legend()\n",
    "    plt.show()"
   ]
  },
  {
   "cell_type": "code",
   "execution_count": 8,
   "metadata": {},
   "outputs": [
    {
     "data": {
      "image/png": "[encoded data removed]",
      "text/plain": [
       "<Figure size 432x288 with 1 Axes>"
      ]
     },
     "metadata": {
      "needs_background": "light"
     },
     "output_type": "display_data"
    },
    {
     "data": {
      "image/png": "[encoded data removed]",
      "text/plain": [
       "<Figure size 432x288 with 1 Axes>"
      ]
     },
     "metadata": {
      "needs_background": "light"
     },
     "output_type": "display_data"
    }
   ],
   "source": [
    "plot_function(history)"
   ]
  },
  {
   "cell_type": "markdown",
   "metadata": {},
   "source": [
    "## 5 Testing the model on the testset"
   ]
  },
  {
   "cell_type": "code",
   "execution_count": 10,
   "metadata": {},
   "outputs": [
    {
     "name": "stdout",
     "output_type": "stream",
     "text": [
      "6/6 [==============================] - 5s 668ms/step - loss: 0.5345 - accuracy: 0.8187\n",
      "Test accuracy: 0.819\n"
     ]
    }
   ],
   "source": [
    "test_model = keras.models.load_model(\"models/3_VGG19_Model.h5\")\n",
    "test_loss, test_acc = test_model.evaluate(test_dataset)\n",
    "print(f\"Test accuracy: {test_acc:.3f}\")"
   ]
  }
 ],
 "metadata": {
  "interpreter": {
   "hash": "f1b21a831ca0887bb1ca23965249b487d59158d2ac98669dee611127e8c84e44"
  },
  "kernelspec": {
   "display_name": "Python 3.9.7 ('base')",
   "language": "python",
   "name": "python3"
  },
  "language_info": {
   "codemirror_mode": {
    "name": "ipython",
    "version": 3
   },
   "file_extension": ".py",
   "mimetype": "text/x-python",
   "name": "python",
   "nbconvert_exporter": "python",
   "pygments_lexer": "ipython3",
   "version": "3.9.7"
  },
  "orig_nbformat": 4
 },
 "nbformat": 4,
 "nbformat_minor": 2
}
