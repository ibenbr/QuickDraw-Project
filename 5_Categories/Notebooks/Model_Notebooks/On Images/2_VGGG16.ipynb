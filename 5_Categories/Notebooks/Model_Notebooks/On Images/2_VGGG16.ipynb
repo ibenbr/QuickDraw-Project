{
 "cells": [
  {
   "cell_type": "markdown",
   "metadata": {},
   "source": [
    "# Model 2: VGG16 model"
   ]
  },
  {
   "cell_type": "markdown",
   "metadata": {},
   "source": [
    "## 1 Imports"
   ]
  },
  {
   "cell_type": "code",
   "execution_count": 1,
   "metadata": {},
   "outputs": [],
   "source": [
    "import numpy as np \n",
    "import pandas as pd\n",
    "\n",
    "import tensorflow as tf\n",
    "from tensorflow import keras\n",
    "from keras.models import Sequential\n",
    "from keras import layers\n",
    "from keras.layers import Conv2D, MaxPooling2D, MaxPool2D, Dense, Dropout, Flatten\n",
    "from keras.metrics import top_k_categorical_accuracy\n",
    "from keras.callbacks import ModelCheckpoint, ReduceLROnPlateau, EarlyStopping\n",
    "from sklearn.model_selection import train_test_split\n",
    "from tensorflow.keras.preprocessing import image_dataset_from_directory\n",
    "import matplotlib.pyplot as plt\n",
    "import os\n",
    "import cv2\n"
   ]
  },
  {
   "cell_type": "markdown",
   "metadata": {},
   "source": [
    "## 2 Preprocessing the data"
   ]
  },
  {
   "cell_type": "markdown",
   "metadata": {},
   "source": [
    "Fetching the already split dataset"
   ]
  },
  {
   "cell_type": "code",
   "execution_count": 2,
   "metadata": {},
   "outputs": [],
   "source": [
    "base_directory = \"../../Data/Splitted_Images/\"\n",
    "\n",
    "train_path=base_directory+\"/train\"\n",
    "test_path=base_directory+\"/test\"\n",
    "val_path=base_directory+\"/val\""
   ]
  },
  {
   "cell_type": "code",
   "execution_count": 3,
   "metadata": {},
   "outputs": [],
   "source": [
    "x_train=[]\n",
    "\n",
    "for folder in os.listdir(train_path):\n",
    "\n",
    "    sub_path=train_path+\"/\"+folder\n",
    "\n",
    "    for img in os.listdir(sub_path):\n",
    "        image_path=sub_path+\"/\"+img\n",
    "        img_arr=cv2.imread(image_path)\n",
    "        x_train.append(img_arr)\n",
    "\n",
    "x_test=[]\n",
    "\n",
    "for folder in os.listdir(test_path):\n",
    "    sub_path=test_path+\"/\"+folder\n",
    "\n",
    "    for img in os.listdir(sub_path):\n",
    "        image_path=sub_path+\"/\"+img\n",
    "        img_arr=cv2.imread(image_path)\n",
    "        x_test.append(img_arr)\n",
    "\n",
    "x_val=[]\n",
    "\n",
    "for folder in os.listdir(val_path):\n",
    "    sub_path=val_path+\"/\"+folder\n",
    "\n",
    "    for img in os.listdir(sub_path):\n",
    "        image_path=sub_path+\"/\"+img\n",
    "        img_arr=cv2.imread(image_path)\n",
    "        x_val.append(img_arr)"
   ]
  },
  {
   "cell_type": "code",
   "execution_count": 4,
   "metadata": {},
   "outputs": [],
   "source": [
    "train_x=np.array(x_train)\n",
    "test_x=np.array(x_test)\n",
    "val_x=np.array(x_val)"
   ]
  },
  {
   "cell_type": "code",
   "execution_count": 5,
   "metadata": {},
   "outputs": [],
   "source": [
    "train_x=train_x/255.0\n",
    "test_x=test_x/255.0\n",
    "val_x=val_x/255.0"
   ]
  },
  {
   "cell_type": "code",
   "execution_count": 6,
   "metadata": {},
   "outputs": [],
   "source": [
    "from keras_preprocessing.image import ImageDataGenerator\n",
    "train_datagen = ImageDataGenerator(rescale = 1./255)\n",
    "test_datagen = ImageDataGenerator(rescale = 1./255)\n",
    "val_datagen = ImageDataGenerator(rescale = 1./255)"
   ]
  },
  {
   "cell_type": "code",
   "execution_count": 7,
   "metadata": {},
   "outputs": [
    {
     "name": "stdout",
     "output_type": "stream",
     "text": [
      "Found 3500 images belonging to 5 classes.\n",
      "Found 750 images belonging to 5 classes.\n",
      "Found 750 images belonging to 5 classes.\n"
     ]
    }
   ],
   "source": [
    "training_set = train_datagen.flow_from_directory(train_path,\n",
    "                                                 target_size = (170,256),\n",
    "                                                 batch_size = 128,\n",
    "                                                 class_mode = 'categorical',\n",
    "                                                 shuffle=True)\n",
    "test_set = test_datagen.flow_from_directory(test_path,\n",
    "                                            target_size = (170,256),\n",
    "                                            batch_size = 128,\n",
    "                                            class_mode = 'categorical',\n",
    "                                            shuffle=True)\n",
    "val_set = val_datagen.flow_from_directory(val_path,\n",
    "                                            target_size = (170,256),\n",
    "                                            batch_size = 128,\n",
    "                                            class_mode = 'categorical',\n",
    "                                            shuffle=True)"
   ]
  },
  {
   "cell_type": "code",
   "execution_count": 8,
   "metadata": {},
   "outputs": [],
   "source": [
    "train_y=training_set.classes\n",
    "test_y=test_set.classes\n",
    "val_y=val_set.classes"
   ]
  },
  {
   "cell_type": "code",
   "execution_count": 9,
   "metadata": {},
   "outputs": [
    {
     "data": {
      "text/plain": [
       "{'bee': 0, 'butterfly': 1, 'cat': 2, 'dog': 3, 'elephant': 4}"
      ]
     },
     "execution_count": 9,
     "metadata": {},
     "output_type": "execute_result"
    }
   ],
   "source": [
    "training_set.class_indices\n"
   ]
  },
  {
   "cell_type": "code",
   "execution_count": 10,
   "metadata": {},
   "outputs": [
    {
     "data": {
      "text/plain": [
       "((3500,), (750,), (750,))"
      ]
     },
     "execution_count": 10,
     "metadata": {},
     "output_type": "execute_result"
    }
   ],
   "source": [
    "train_y.shape,test_y.shape,val_y.shape\n"
   ]
  },
  {
   "cell_type": "markdown",
   "metadata": {},
   "source": [
    "## 3 Training the model"
   ]
  },
  {
   "cell_type": "code",
   "execution_count": 11,
   "metadata": {},
   "outputs": [],
   "source": [
    "conv_base = keras.applications.vgg16.VGG16(\n",
    "    weights=\"imagenet\",\n",
    "    include_top=False,\n",
    ")\n",
    "\n",
    "conv_base.trainable = True\n",
    "for layer in conv_base.layers[:-4]:\n",
    "    layer.trainable = False"
   ]
  },
  {
   "cell_type": "code",
   "execution_count": 12,
   "metadata": {},
   "outputs": [],
   "source": [
    "data_augmentation = keras.Sequential([\n",
    "    layers.RandomFlip(\"horizontal\"),\n",
    "    layers.RandomRotation(0.1),\n",
    "    layers.RandomZoom(0.2),\n",
    "])\n",
    "\n",
    "inputs = keras.Input(shape=(170, 256, 3))\n",
    "x = data_augmentation(inputs) \n",
    "x = layers.Dropout(0.2)(x)\n",
    "x = keras.applications.vgg16.preprocess_input(x) \n",
    "x = conv_base(x)\n",
    "x = layers.Flatten()(x)\n",
    "x = layers.Dense(256)(x)\n",
    "x = layers.Dropout(0.2)(x)\n",
    "outputs = layers.Dense(5, activation=\"softmax\")(x)\n",
    "\n",
    "model = keras.Model(inputs, outputs)"
   ]
  },
  {
   "cell_type": "code",
   "execution_count": 13,
   "metadata": {},
   "outputs": [
    {
     "name": "stdout",
     "output_type": "stream",
     "text": [
      "Epoch 1/150\n",
      "110/110 [==============================] - 27s 199ms/step - loss: 2.0057 - accuracy: 0.1977 - val_loss: 1.6277 - val_accuracy: 0.2000\n",
      "Epoch 2/150\n",
      "110/110 [==============================] - 20s 178ms/step - loss: 1.6322 - accuracy: 0.2094 - val_loss: 1.6194 - val_accuracy: 0.2947\n",
      "Epoch 3/150\n",
      "110/110 [==============================] - 21s 187ms/step - loss: 1.5740 - accuracy: 0.2634 - val_loss: 1.5398 - val_accuracy: 0.2907\n",
      "Epoch 4/150\n",
      "110/110 [==============================] - 19s 172ms/step - loss: 1.5288 - accuracy: 0.3063 - val_loss: 1.4988 - val_accuracy: 0.3587\n",
      "Epoch 5/150\n",
      "110/110 [==============================] - 19s 172ms/step - loss: 1.4964 - accuracy: 0.3380 - val_loss: 1.4952 - val_accuracy: 0.3173\n",
      "Epoch 6/150\n",
      "110/110 [==============================] - 19s 172ms/step - loss: 1.4694 - accuracy: 0.3617 - val_loss: 1.4411 - val_accuracy: 0.3640\n",
      "Epoch 7/150\n",
      "110/110 [==============================] - 20s 182ms/step - loss: 1.4389 - accuracy: 0.3746 - val_loss: 1.4228 - val_accuracy: 0.3853\n",
      "Epoch 8/150\n",
      "110/110 [==============================] - 20s 178ms/step - loss: 1.4218 - accuracy: 0.3937 - val_loss: 1.3562 - val_accuracy: 0.4640\n",
      "Epoch 9/150\n",
      "110/110 [==============================] - 19s 174ms/step - loss: 1.4056 - accuracy: 0.4074 - val_loss: 1.3339 - val_accuracy: 0.5293\n",
      "Epoch 10/150\n",
      "110/110 [==============================] - 19s 175ms/step - loss: 1.3768 - accuracy: 0.4254 - val_loss: 1.3340 - val_accuracy: 0.4293\n",
      "Epoch 11/150\n",
      "110/110 [==============================] - 20s 179ms/step - loss: 1.3573 - accuracy: 0.4343 - val_loss: 1.3346 - val_accuracy: 0.4040\n",
      "Epoch 12/150\n",
      "110/110 [==============================] - 20s 181ms/step - loss: 1.3375 - accuracy: 0.4451 - val_loss: 1.3231 - val_accuracy: 0.4547\n",
      "Epoch 13/150\n",
      "110/110 [==============================] - 20s 179ms/step - loss: 1.3171 - accuracy: 0.4737 - val_loss: 1.3949 - val_accuracy: 0.3600\n",
      "Epoch 14/150\n",
      "110/110 [==============================] - 20s 179ms/step - loss: 1.3057 - accuracy: 0.4737 - val_loss: 1.3918 - val_accuracy: 0.3987\n",
      "Epoch 15/150\n",
      "110/110 [==============================] - 20s 181ms/step - loss: 1.2879 - accuracy: 0.4826 - val_loss: 1.2011 - val_accuracy: 0.5573\n",
      "Epoch 16/150\n",
      "110/110 [==============================] - 20s 181ms/step - loss: 1.2761 - accuracy: 0.4923 - val_loss: 1.1866 - val_accuracy: 0.5787\n",
      "Epoch 17/150\n",
      "110/110 [==============================] - 20s 179ms/step - loss: 1.2448 - accuracy: 0.5040 - val_loss: 1.2049 - val_accuracy: 0.5293\n",
      "Epoch 18/150\n",
      "110/110 [==============================] - 20s 179ms/step - loss: 1.2243 - accuracy: 0.5209 - val_loss: 1.2016 - val_accuracy: 0.5093\n",
      "Epoch 19/150\n",
      "110/110 [==============================] - 20s 181ms/step - loss: 1.2253 - accuracy: 0.5183 - val_loss: 1.1136 - val_accuracy: 0.5773\n",
      "Epoch 20/150\n",
      "110/110 [==============================] - 20s 181ms/step - loss: 1.1947 - accuracy: 0.5249 - val_loss: 1.0724 - val_accuracy: 0.6120\n",
      "Epoch 21/150\n",
      "110/110 [==============================] - 20s 180ms/step - loss: 1.1763 - accuracy: 0.5354 - val_loss: 1.0816 - val_accuracy: 0.5760\n",
      "Epoch 22/150\n",
      "110/110 [==============================] - 22s 198ms/step - loss: 1.1676 - accuracy: 0.5391 - val_loss: 1.0980 - val_accuracy: 0.5467\n",
      "Epoch 23/150\n",
      "110/110 [==============================] - 20s 185ms/step - loss: 1.1610 - accuracy: 0.5411 - val_loss: 1.0293 - val_accuracy: 0.6253\n",
      "Epoch 24/150\n",
      "110/110 [==============================] - 20s 181ms/step - loss: 1.1435 - accuracy: 0.5551 - val_loss: 0.9931 - val_accuracy: 0.6280\n",
      "Epoch 25/150\n",
      "110/110 [==============================] - 20s 179ms/step - loss: 1.1384 - accuracy: 0.5606 - val_loss: 1.0849 - val_accuracy: 0.5760\n",
      "Epoch 26/150\n",
      "110/110 [==============================] - 20s 181ms/step - loss: 1.1096 - accuracy: 0.5706 - val_loss: 0.9638 - val_accuracy: 0.6267\n",
      "Epoch 27/150\n",
      "110/110 [==============================] - 20s 179ms/step - loss: 1.1009 - accuracy: 0.5663 - val_loss: 0.9889 - val_accuracy: 0.6027\n",
      "Epoch 28/150\n",
      "110/110 [==============================] - 20s 180ms/step - loss: 1.0869 - accuracy: 0.5731 - val_loss: 1.0732 - val_accuracy: 0.5400\n",
      "Epoch 29/150\n",
      "110/110 [==============================] - 20s 183ms/step - loss: 1.0822 - accuracy: 0.5809 - val_loss: 0.9518 - val_accuracy: 0.6387\n",
      "Epoch 30/150\n",
      "110/110 [==============================] - 20s 181ms/step - loss: 1.0457 - accuracy: 0.5906 - val_loss: 1.0643 - val_accuracy: 0.5413\n",
      "Epoch 31/150\n",
      "110/110 [==============================] - 19s 175ms/step - loss: 1.0576 - accuracy: 0.5871 - val_loss: 0.9415 - val_accuracy: 0.6240\n",
      "Epoch 32/150\n",
      "110/110 [==============================] - 19s 173ms/step - loss: 1.0474 - accuracy: 0.5929 - val_loss: 1.0256 - val_accuracy: 0.5547\n",
      "Epoch 33/150\n",
      "110/110 [==============================] - 20s 180ms/step - loss: 1.0348 - accuracy: 0.5920 - val_loss: 0.8957 - val_accuracy: 0.6680\n",
      "Epoch 34/150\n",
      "110/110 [==============================] - 20s 179ms/step - loss: 1.0239 - accuracy: 0.5974 - val_loss: 0.9012 - val_accuracy: 0.6387\n",
      "Epoch 35/150\n",
      "110/110 [==============================] - 20s 181ms/step - loss: 1.0034 - accuracy: 0.5997 - val_loss: 0.8264 - val_accuracy: 0.6840\n",
      "Epoch 36/150\n",
      "110/110 [==============================] - 20s 183ms/step - loss: 1.0054 - accuracy: 0.6063 - val_loss: 0.8595 - val_accuracy: 0.6600\n",
      "Epoch 37/150\n",
      "110/110 [==============================] - 21s 188ms/step - loss: 0.9816 - accuracy: 0.6254 - val_loss: 0.8290 - val_accuracy: 0.6693\n",
      "Epoch 38/150\n",
      "110/110 [==============================] - 19s 176ms/step - loss: 0.9658 - accuracy: 0.6234 - val_loss: 0.8638 - val_accuracy: 0.6653\n",
      "Epoch 39/150\n",
      "110/110 [==============================] - 19s 175ms/step - loss: 0.9710 - accuracy: 0.6254 - val_loss: 0.8795 - val_accuracy: 0.6747\n",
      "Epoch 40/150\n",
      "110/110 [==============================] - 19s 175ms/step - loss: 0.9580 - accuracy: 0.6240 - val_loss: 0.9593 - val_accuracy: 0.5800\n",
      "Epoch 41/150\n",
      "110/110 [==============================] - 19s 177ms/step - loss: 0.9620 - accuracy: 0.6280 - val_loss: 0.7889 - val_accuracy: 0.6853\n",
      "Epoch 42/150\n",
      "110/110 [==============================] - 19s 175ms/step - loss: 0.9432 - accuracy: 0.6331 - val_loss: 0.8038 - val_accuracy: 0.6947\n",
      "Epoch 43/150\n",
      "110/110 [==============================] - 19s 175ms/step - loss: 0.9171 - accuracy: 0.6434 - val_loss: 1.0272 - val_accuracy: 0.5520\n",
      "Epoch 44/150\n",
      "110/110 [==============================] - 19s 175ms/step - loss: 0.9253 - accuracy: 0.6477 - val_loss: 0.8291 - val_accuracy: 0.6560\n",
      "Epoch 45/150\n",
      "110/110 [==============================] - 19s 177ms/step - loss: 0.9264 - accuracy: 0.6429 - val_loss: 0.7523 - val_accuracy: 0.7267\n",
      "Epoch 46/150\n",
      "110/110 [==============================] - 19s 175ms/step - loss: 0.8850 - accuracy: 0.6549 - val_loss: 0.7837 - val_accuracy: 0.7307\n",
      "Epoch 47/150\n",
      "110/110 [==============================] - 19s 177ms/step - loss: 0.9027 - accuracy: 0.6546 - val_loss: 0.7273 - val_accuracy: 0.7227\n",
      "Epoch 48/150\n",
      "110/110 [==============================] - 19s 176ms/step - loss: 0.8805 - accuracy: 0.6554 - val_loss: 0.7147 - val_accuracy: 0.7267\n",
      "Epoch 49/150\n",
      "110/110 [==============================] - 19s 176ms/step - loss: 0.8717 - accuracy: 0.6557 - val_loss: 0.7146 - val_accuracy: 0.7187\n",
      "Epoch 50/150\n",
      "110/110 [==============================] - 19s 175ms/step - loss: 0.8634 - accuracy: 0.6694 - val_loss: 0.7961 - val_accuracy: 0.6653\n",
      "Epoch 51/150\n",
      "110/110 [==============================] - 20s 181ms/step - loss: 0.8604 - accuracy: 0.6626 - val_loss: 0.7124 - val_accuracy: 0.7533\n",
      "Epoch 52/150\n",
      "110/110 [==============================] - 19s 175ms/step - loss: 0.8621 - accuracy: 0.6726 - val_loss: 0.7507 - val_accuracy: 0.7067\n",
      "Epoch 53/150\n",
      "110/110 [==============================] - 20s 185ms/step - loss: 0.8711 - accuracy: 0.6526 - val_loss: 0.8238 - val_accuracy: 0.6560\n",
      "Epoch 54/150\n",
      "110/110 [==============================] - 20s 179ms/step - loss: 0.8432 - accuracy: 0.6740 - val_loss: 0.6633 - val_accuracy: 0.7627\n",
      "Epoch 55/150\n",
      "110/110 [==============================] - 19s 175ms/step - loss: 0.8549 - accuracy: 0.6703 - val_loss: 0.6705 - val_accuracy: 0.7613\n",
      "Epoch 56/150\n",
      "110/110 [==============================] - 19s 175ms/step - loss: 0.8159 - accuracy: 0.6840 - val_loss: 0.6899 - val_accuracy: 0.7493\n",
      "Epoch 57/150\n",
      "110/110 [==============================] - 20s 180ms/step - loss: 0.8442 - accuracy: 0.6743 - val_loss: 0.7197 - val_accuracy: 0.7280\n",
      "Epoch 58/150\n",
      "110/110 [==============================] - 20s 182ms/step - loss: 0.8483 - accuracy: 0.6666 - val_loss: 0.6940 - val_accuracy: 0.7387\n",
      "Epoch 59/150\n",
      "110/110 [==============================] - 19s 175ms/step - loss: 0.8313 - accuracy: 0.6763 - val_loss: 0.8408 - val_accuracy: 0.6507\n",
      "Epoch 60/150\n",
      "110/110 [==============================] - 19s 175ms/step - loss: 0.8370 - accuracy: 0.6769 - val_loss: 0.7054 - val_accuracy: 0.7400\n",
      "Epoch 61/150\n",
      "110/110 [==============================] - 19s 177ms/step - loss: 0.8263 - accuracy: 0.6823 - val_loss: 0.6938 - val_accuracy: 0.7387\n",
      "Epoch 62/150\n",
      "110/110 [==============================] - 20s 179ms/step - loss: 0.8077 - accuracy: 0.6871 - val_loss: 0.6639 - val_accuracy: 0.7493\n",
      "Epoch 63/150\n",
      "110/110 [==============================] - 20s 186ms/step - loss: 0.8009 - accuracy: 0.6931 - val_loss: 0.6403 - val_accuracy: 0.7640\n",
      "Epoch 64/150\n",
      "110/110 [==============================] - 20s 184ms/step - loss: 0.8073 - accuracy: 0.7003 - val_loss: 0.6302 - val_accuracy: 0.7773\n",
      "Epoch 65/150\n",
      "110/110 [==============================] - 19s 175ms/step - loss: 0.8078 - accuracy: 0.6909 - val_loss: 0.6613 - val_accuracy: 0.7667\n",
      "Epoch 66/150\n",
      "110/110 [==============================] - 19s 177ms/step - loss: 0.7734 - accuracy: 0.6917 - val_loss: 0.6263 - val_accuracy: 0.7733\n",
      "Epoch 67/150\n",
      "110/110 [==============================] - 19s 175ms/step - loss: 0.8067 - accuracy: 0.6860 - val_loss: 0.6318 - val_accuracy: 0.7547\n",
      "Epoch 68/150\n",
      "110/110 [==============================] - 19s 177ms/step - loss: 0.7944 - accuracy: 0.6900 - val_loss: 0.6138 - val_accuracy: 0.7787\n",
      "Epoch 69/150\n",
      "110/110 [==============================] - 19s 175ms/step - loss: 0.7763 - accuracy: 0.6997 - val_loss: 0.6519 - val_accuracy: 0.7467\n",
      "Epoch 70/150\n",
      "110/110 [==============================] - 19s 175ms/step - loss: 0.7803 - accuracy: 0.7017 - val_loss: 0.6839 - val_accuracy: 0.7427\n",
      "Epoch 71/150\n",
      "110/110 [==============================] - 19s 175ms/step - loss: 0.7667 - accuracy: 0.7043 - val_loss: 0.6176 - val_accuracy: 0.7680\n",
      "Epoch 72/150\n",
      "110/110 [==============================] - 20s 178ms/step - loss: 0.7732 - accuracy: 0.6923 - val_loss: 0.6476 - val_accuracy: 0.7613\n",
      "Epoch 73/150\n",
      "110/110 [==============================] - 20s 181ms/step - loss: 0.7668 - accuracy: 0.6991 - val_loss: 0.6824 - val_accuracy: 0.7507\n",
      "Epoch 74/150\n",
      "110/110 [==============================] - 19s 175ms/step - loss: 0.7461 - accuracy: 0.7129 - val_loss: 0.6374 - val_accuracy: 0.7427\n",
      "Epoch 75/150\n",
      "110/110 [==============================] - 19s 177ms/step - loss: 0.7780 - accuracy: 0.7046 - val_loss: 0.6002 - val_accuracy: 0.7987\n",
      "Epoch 76/150\n",
      "110/110 [==============================] - 19s 173ms/step - loss: 0.7669 - accuracy: 0.7014 - val_loss: 0.6296 - val_accuracy: 0.7573\n",
      "Epoch 77/150\n",
      "110/110 [==============================] - 19s 176ms/step - loss: 0.7670 - accuracy: 0.6960 - val_loss: 0.6232 - val_accuracy: 0.7747\n",
      "Epoch 78/150\n",
      "110/110 [==============================] - 20s 181ms/step - loss: 0.7551 - accuracy: 0.7066 - val_loss: 0.6211 - val_accuracy: 0.7787\n",
      "Epoch 79/150\n",
      "110/110 [==============================] - 19s 175ms/step - loss: 0.7647 - accuracy: 0.7029 - val_loss: 0.7934 - val_accuracy: 0.6707\n",
      "Epoch 80/150\n",
      "110/110 [==============================] - 19s 177ms/step - loss: 0.7617 - accuracy: 0.7054 - val_loss: 0.5818 - val_accuracy: 0.7813\n",
      "Epoch 81/150\n",
      "110/110 [==============================] - 19s 175ms/step - loss: 0.7541 - accuracy: 0.7046 - val_loss: 0.6411 - val_accuracy: 0.7560\n",
      "Epoch 82/150\n",
      "110/110 [==============================] - 19s 177ms/step - loss: 0.7431 - accuracy: 0.7169 - val_loss: 0.6217 - val_accuracy: 0.7707\n",
      "Epoch 83/150\n",
      "110/110 [==============================] - 20s 180ms/step - loss: 0.7284 - accuracy: 0.7151 - val_loss: 0.6186 - val_accuracy: 0.7760\n",
      "Epoch 84/150\n",
      "110/110 [==============================] - 21s 187ms/step - loss: 0.7431 - accuracy: 0.7240 - val_loss: 0.5785 - val_accuracy: 0.7880\n",
      "Epoch 85/150\n",
      "110/110 [==============================] - 20s 179ms/step - loss: 0.7376 - accuracy: 0.7151 - val_loss: 0.6246 - val_accuracy: 0.7707\n",
      "Epoch 86/150\n",
      "110/110 [==============================] - 19s 175ms/step - loss: 0.7403 - accuracy: 0.7154 - val_loss: 0.6503 - val_accuracy: 0.7453\n",
      "Epoch 87/150\n",
      "110/110 [==============================] - 20s 179ms/step - loss: 0.7215 - accuracy: 0.7143 - val_loss: 0.5766 - val_accuracy: 0.7813\n",
      "Epoch 88/150\n",
      "110/110 [==============================] - 20s 178ms/step - loss: 0.7361 - accuracy: 0.7140 - val_loss: 0.6216 - val_accuracy: 0.7573\n",
      "Epoch 89/150\n",
      "110/110 [==============================] - 20s 183ms/step - loss: 0.7270 - accuracy: 0.7200 - val_loss: 0.6156 - val_accuracy: 0.7653\n",
      "Epoch 90/150\n",
      "110/110 [==============================] - 22s 196ms/step - loss: 0.7338 - accuracy: 0.7126 - val_loss: 0.6444 - val_accuracy: 0.7760\n",
      "Epoch 91/150\n",
      "110/110 [==============================] - 27s 245ms/step - loss: 0.7228 - accuracy: 0.7243 - val_loss: 0.5562 - val_accuracy: 0.7907\n",
      "Epoch 92/150\n",
      "110/110 [==============================] - 27s 245ms/step - loss: 0.7066 - accuracy: 0.7260 - val_loss: 0.7099 - val_accuracy: 0.7267\n",
      "Epoch 93/150\n",
      "110/110 [==============================] - 27s 245ms/step - loss: 0.7488 - accuracy: 0.7086 - val_loss: 0.5944 - val_accuracy: 0.7907\n",
      "Epoch 94/150\n",
      "110/110 [==============================] - 27s 245ms/step - loss: 0.7222 - accuracy: 0.7240 - val_loss: 0.6269 - val_accuracy: 0.7520\n",
      "Epoch 95/150\n",
      "110/110 [==============================] - 27s 245ms/step - loss: 0.7190 - accuracy: 0.7189 - val_loss: 0.6359 - val_accuracy: 0.7453\n",
      "Epoch 96/150\n",
      "110/110 [==============================] - 27s 245ms/step - loss: 0.7299 - accuracy: 0.7157 - val_loss: 0.5868 - val_accuracy: 0.7960\n",
      "Epoch 97/150\n",
      "110/110 [==============================] - 24s 222ms/step - loss: 0.6988 - accuracy: 0.7303 - val_loss: 0.6997 - val_accuracy: 0.7307\n",
      "Epoch 98/150\n",
      "110/110 [==============================] - 19s 177ms/step - loss: 0.7125 - accuracy: 0.7223 - val_loss: 0.6510 - val_accuracy: 0.7600\n",
      "Epoch 99/150\n",
      "110/110 [==============================] - 20s 178ms/step - loss: 0.7096 - accuracy: 0.7280 - val_loss: 0.6268 - val_accuracy: 0.7613\n",
      "Epoch 100/150\n",
      "110/110 [==============================] - 20s 179ms/step - loss: 0.7111 - accuracy: 0.7217 - val_loss: 0.5777 - val_accuracy: 0.7893\n",
      "Epoch 101/150\n",
      "110/110 [==============================] - 20s 179ms/step - loss: 0.7075 - accuracy: 0.7326 - val_loss: 0.5967 - val_accuracy: 0.7920\n",
      "Epoch 102/150\n",
      "110/110 [==============================] - 20s 180ms/step - loss: 0.7171 - accuracy: 0.7226 - val_loss: 0.5837 - val_accuracy: 0.7653\n",
      "Epoch 103/150\n",
      "110/110 [==============================] - 20s 180ms/step - loss: 0.7022 - accuracy: 0.7223 - val_loss: 0.6267 - val_accuracy: 0.7640\n",
      "Epoch 104/150\n",
      "110/110 [==============================] - 20s 179ms/step - loss: 0.7067 - accuracy: 0.7251 - val_loss: 0.5968 - val_accuracy: 0.7840\n",
      "Epoch 105/150\n",
      "110/110 [==============================] - 20s 180ms/step - loss: 0.6992 - accuracy: 0.7234 - val_loss: 0.6126 - val_accuracy: 0.7480\n",
      "Epoch 106/150\n",
      "110/110 [==============================] - 20s 180ms/step - loss: 0.6876 - accuracy: 0.7357 - val_loss: 0.6266 - val_accuracy: 0.7493\n",
      "Epoch 107/150\n",
      "110/110 [==============================] - 20s 180ms/step - loss: 0.6943 - accuracy: 0.7346 - val_loss: 0.6125 - val_accuracy: 0.7667\n",
      "Epoch 108/150\n",
      "110/110 [==============================] - 20s 180ms/step - loss: 0.6938 - accuracy: 0.7329 - val_loss: 0.6517 - val_accuracy: 0.7573\n",
      "Epoch 109/150\n",
      "110/110 [==============================] - 20s 180ms/step - loss: 0.6889 - accuracy: 0.7354 - val_loss: 0.6009 - val_accuracy: 0.7733\n",
      "Epoch 110/150\n",
      "110/110 [==============================] - 20s 180ms/step - loss: 0.6957 - accuracy: 0.7274 - val_loss: 0.6106 - val_accuracy: 0.7880\n",
      "Epoch 111/150\n",
      "110/110 [==============================] - 20s 182ms/step - loss: 0.6942 - accuracy: 0.7286 - val_loss: 0.5495 - val_accuracy: 0.7920\n",
      "Epoch 112/150\n",
      "110/110 [==============================] - 20s 180ms/step - loss: 0.7081 - accuracy: 0.7263 - val_loss: 0.6751 - val_accuracy: 0.7347\n",
      "Epoch 113/150\n",
      "110/110 [==============================] - 20s 180ms/step - loss: 0.6838 - accuracy: 0.7303 - val_loss: 0.5690 - val_accuracy: 0.7987\n",
      "Epoch 114/150\n",
      "110/110 [==============================] - 20s 181ms/step - loss: 0.7031 - accuracy: 0.7214 - val_loss: 0.5918 - val_accuracy: 0.7747\n",
      "Epoch 115/150\n",
      "110/110 [==============================] - 20s 182ms/step - loss: 0.6790 - accuracy: 0.7360 - val_loss: 0.5377 - val_accuracy: 0.8013\n",
      "Epoch 116/150\n",
      "110/110 [==============================] - 20s 180ms/step - loss: 0.6785 - accuracy: 0.7377 - val_loss: 0.5705 - val_accuracy: 0.7920\n",
      "Epoch 117/150\n",
      "110/110 [==============================] - 20s 180ms/step - loss: 0.6729 - accuracy: 0.7471 - val_loss: 0.5791 - val_accuracy: 0.7853\n",
      "Epoch 118/150\n",
      "110/110 [==============================] - 20s 181ms/step - loss: 0.6921 - accuracy: 0.7306 - val_loss: 0.6219 - val_accuracy: 0.7533\n",
      "Epoch 119/150\n",
      "110/110 [==============================] - 19s 172ms/step - loss: 0.6792 - accuracy: 0.7394 - val_loss: 0.5454 - val_accuracy: 0.7907\n",
      "Epoch 120/150\n",
      "110/110 [==============================] - 19s 171ms/step - loss: 0.6884 - accuracy: 0.7411 - val_loss: 0.6048 - val_accuracy: 0.7720\n",
      "Epoch 121/150\n",
      "110/110 [==============================] - 19s 171ms/step - loss: 0.6740 - accuracy: 0.7423 - val_loss: 0.6206 - val_accuracy: 0.7613\n",
      "Epoch 122/150\n",
      "110/110 [==============================] - 19s 171ms/step - loss: 0.6679 - accuracy: 0.7474 - val_loss: 0.5936 - val_accuracy: 0.7800\n",
      "Epoch 123/150\n",
      "110/110 [==============================] - 19s 176ms/step - loss: 0.6763 - accuracy: 0.7323 - val_loss: 0.5611 - val_accuracy: 0.7760\n",
      "Epoch 124/150\n",
      "110/110 [==============================] - 20s 181ms/step - loss: 0.6679 - accuracy: 0.7469 - val_loss: 0.6103 - val_accuracy: 0.7680\n",
      "Epoch 125/150\n",
      "110/110 [==============================] - 20s 181ms/step - loss: 0.6774 - accuracy: 0.7417 - val_loss: 0.6590 - val_accuracy: 0.7400\n",
      "Epoch 126/150\n",
      "110/110 [==============================] - 20s 182ms/step - loss: 0.6777 - accuracy: 0.7411 - val_loss: 0.5629 - val_accuracy: 0.7960\n",
      "Epoch 127/150\n",
      "110/110 [==============================] - 20s 181ms/step - loss: 0.6670 - accuracy: 0.7500 - val_loss: 0.5709 - val_accuracy: 0.7733\n",
      "Epoch 128/150\n",
      "110/110 [==============================] - 20s 181ms/step - loss: 0.6803 - accuracy: 0.7411 - val_loss: 0.5718 - val_accuracy: 0.7840\n",
      "Epoch 129/150\n",
      "110/110 [==============================] - 20s 181ms/step - loss: 0.6683 - accuracy: 0.7437 - val_loss: 0.5975 - val_accuracy: 0.7680\n",
      "Epoch 130/150\n",
      "110/110 [==============================] - 21s 193ms/step - loss: 0.6587 - accuracy: 0.7531 - val_loss: 0.5649 - val_accuracy: 0.7787\n",
      "Epoch 131/150\n",
      "110/110 [==============================] - 23s 211ms/step - loss: 0.6590 - accuracy: 0.7531 - val_loss: 0.6336 - val_accuracy: 0.7627\n",
      "Epoch 132/150\n",
      "110/110 [==============================] - 23s 206ms/step - loss: 0.6650 - accuracy: 0.7463 - val_loss: 0.5619 - val_accuracy: 0.8013\n",
      "Epoch 133/150\n",
      "110/110 [==============================] - 19s 178ms/step - loss: 0.6529 - accuracy: 0.7477 - val_loss: 0.5439 - val_accuracy: 0.8013\n",
      "Epoch 134/150\n",
      "110/110 [==============================] - 19s 172ms/step - loss: 0.6682 - accuracy: 0.7374 - val_loss: 0.5641 - val_accuracy: 0.7840\n",
      "Epoch 135/150\n",
      "110/110 [==============================] - 19s 172ms/step - loss: 0.6530 - accuracy: 0.7549 - val_loss: 0.6072 - val_accuracy: 0.7787\n",
      "Epoch 136/150\n",
      "110/110 [==============================] - 19s 172ms/step - loss: 0.6711 - accuracy: 0.7446 - val_loss: 0.5854 - val_accuracy: 0.7653\n",
      "Epoch 137/150\n",
      "110/110 [==============================] - 19s 172ms/step - loss: 0.6697 - accuracy: 0.7363 - val_loss: 0.5498 - val_accuracy: 0.8053\n",
      "Epoch 138/150\n",
      "110/110 [==============================] - 20s 184ms/step - loss: 0.6486 - accuracy: 0.7514 - val_loss: 0.5237 - val_accuracy: 0.8053\n",
      "Epoch 139/150\n",
      "110/110 [==============================] - 22s 199ms/step - loss: 0.6463 - accuracy: 0.7446 - val_loss: 0.6499 - val_accuracy: 0.7507\n",
      "Epoch 140/150\n",
      "110/110 [==============================] - 24s 223ms/step - loss: 0.6596 - accuracy: 0.7414 - val_loss: 0.6166 - val_accuracy: 0.7733\n",
      "Epoch 141/150\n",
      "110/110 [==============================] - 20s 180ms/step - loss: 0.6534 - accuracy: 0.7451 - val_loss: 0.5148 - val_accuracy: 0.7973\n",
      "Epoch 142/150\n",
      "110/110 [==============================] - 20s 178ms/step - loss: 0.6438 - accuracy: 0.7609 - val_loss: 0.5704 - val_accuracy: 0.7920\n",
      "Epoch 143/150\n",
      "110/110 [==============================] - 21s 188ms/step - loss: 0.6442 - accuracy: 0.7563 - val_loss: 0.5765 - val_accuracy: 0.7840\n",
      "Epoch 144/150\n",
      "110/110 [==============================] - 22s 202ms/step - loss: 0.6554 - accuracy: 0.7549 - val_loss: 0.6105 - val_accuracy: 0.7507\n",
      "Epoch 145/150\n",
      "110/110 [==============================] - 20s 182ms/step - loss: 0.6560 - accuracy: 0.7494 - val_loss: 0.5716 - val_accuracy: 0.7827\n",
      "Epoch 146/150\n",
      "110/110 [==============================] - 20s 179ms/step - loss: 0.6431 - accuracy: 0.7551 - val_loss: 0.6248 - val_accuracy: 0.7587\n",
      "Epoch 147/150\n",
      "110/110 [==============================] - 20s 181ms/step - loss: 0.6408 - accuracy: 0.7617 - val_loss: 0.5973 - val_accuracy: 0.7760\n",
      "Epoch 148/150\n",
      "110/110 [==============================] - 22s 197ms/step - loss: 0.6447 - accuracy: 0.7540 - val_loss: 0.6854 - val_accuracy: 0.7480\n",
      "Epoch 149/150\n",
      "110/110 [==============================] - 20s 184ms/step - loss: 0.6403 - accuracy: 0.7526 - val_loss: 0.5308 - val_accuracy: 0.7920\n",
      "Epoch 150/150\n",
      "110/110 [==============================] - 20s 181ms/step - loss: 0.6342 - accuracy: 0.7563 - val_loss: 0.5584 - val_accuracy: 0.7933\n"
     ]
    }
   ],
   "source": [
    "model.compile(\n",
    "    loss=\"sparse_categorical_crossentropy\",\n",
    "    optimizer=keras.optimizers.RMSprop(learning_rate=0.001),\n",
    "    metrics=[\"accuracy\"]\n",
    ")\n",
    "\n",
    "callbacks = [keras.callbacks.ModelCheckpoint(\n",
    "    filepath=\"models/2_VGG16_Model.h5\", save_best_only=True, monitor=\"val_loss\"),\n",
    "    #EarlyStopping(monitor='val_loss', mode='auto', patience=5)  \n",
    "    ] \n",
    "\n",
    "history = model.fit(\n",
    "    train_x,\n",
    "    train_y,\n",
    "    epochs=150,\n",
    "    validation_data=(val_x,val_y),\n",
    "    callbacks=callbacks,\n",
    "    shuffle=True\n",
    ")"
   ]
  },
  {
   "cell_type": "markdown",
   "metadata": {},
   "source": [
    "## 4 Plotting the training result"
   ]
  },
  {
   "cell_type": "code",
   "execution_count": 14,
   "metadata": {},
   "outputs": [],
   "source": [
    "def plot_function(history):\n",
    "    accuracy = history.history[\"accuracy\"]\n",
    "    val_accuracy = history.history[\"val_accuracy\"]\n",
    "    loss = history.history[\"loss\"]\n",
    "    val_loss = history.history[\"val_loss\"]\n",
    "    epochs = range(1, len(accuracy) + 1)\n",
    "    plt.plot(epochs, accuracy, \"b\", label=\"Training accuracy\")\n",
    "    plt.plot(epochs, val_accuracy, \"r\", label=\"Validation accuracy\")\n",
    "    plt.title(\"Training and validation accuracy\")\n",
    "    plt.legend()\n",
    "    plt.figure()\n",
    "    plt.plot(epochs, loss, \"b\", label=\"Training loss\")\n",
    "    plt.plot(epochs, val_loss, \"r\", label=\"Validation loss\")\n",
    "    plt.title(\"Training and validation loss\")\n",
    "    plt.legend()\n",
    "    plt.show()"
   ]
  },
  {
   "cell_type": "code",
   "execution_count": 15,
   "metadata": {},
   "outputs": [
    {
     "data": {
      "image/png": "[encoded data removed]",
      "text/plain": [
       "<Figure size 432x288 with 1 Axes>"
      ]
     },
     "metadata": {
      "needs_background": "light"
     },
     "output_type": "display_data"
    },
    {
     "data": {
      "image/png": "[encoded data removed]",
      "text/plain": [
       "<Figure size 432x288 with 1 Axes>"
      ]
     },
     "metadata": {
      "needs_background": "light"
     },
     "output_type": "display_data"
    }
   ],
   "source": [
    "plot_function(history)"
   ]
  },
  {
   "cell_type": "markdown",
   "metadata": {},
   "source": [
    "## 5 Testing the model on the testset"
   ]
  },
  {
   "cell_type": "code",
   "execution_count": 16,
   "metadata": {},
   "outputs": [
    {
     "name": "stdout",
     "output_type": "stream",
     "text": [
      "24/24 [==============================] - 4s 150ms/step - loss: 0.5450 - accuracy: 0.7627\n",
      "Test accuracy: 0.763\n"
     ]
    }
   ],
   "source": [
    "test_model = keras.models.load_model(\"models/2_vgg16_model.h5\")\n",
    "test_loss, test_acc = test_model.evaluate(test_x, test_y)\n",
    "print(f\"Test accuracy: {test_acc:.3f}\")"
   ]
  },
  {
   "cell_type": "code",
   "execution_count": 17,
   "metadata": {},
   "outputs": [
    {
     "data": {
      "text/plain": [
       "<sklearn.metrics._plot.confusion_matrix.ConfusionMatrixDisplay at 0x2571f456610>"
      ]
     },
     "execution_count": 17,
     "metadata": {},
     "output_type": "execute_result"
    },
    {
     "data": {
      "image/png": "[encoded data removed]",
      "text/plain": [
       "<Figure size 432x288 with 2 Axes>"
      ]
     },
     "metadata": {
      "needs_background": "light"
     },
     "output_type": "display_data"
    }
   ],
   "source": [
    "from sklearn import metrics\n",
    "from sklearn.metrics import confusion_matrix, ConfusionMatrixDisplay\n",
    "predictions = test_model.predict(test_x) \n",
    "y_pred = (predictions >= 0.5)\n",
    "\n",
    "matrix = metrics.confusion_matrix(test_y, y_pred.argmax(axis=1))\n",
    "cmd = ConfusionMatrixDisplay(matrix, display_labels=['bee','butterfly','cat','dog','elephant'])\n",
    "cmd.plot()\n"
   ]
  }
 ],
 "metadata": {
  "interpreter": {
   "hash": "f1b21a831ca0887bb1ca23965249b487d59158d2ac98669dee611127e8c84e44"
  },
  "kernelspec": {
   "display_name": "Python 3.9.7 ('base')",
   "language": "python",
   "name": "python3"
  },
  "language_info": {
   "codemirror_mode": {
    "name": "ipython",
    "version": 3
   },
   "file_extension": ".py",
   "mimetype": "text/x-python",
   "name": "python",
   "nbconvert_exporter": "python",
   "pygments_lexer": "ipython3",
   "version": "3.9.7"
  },
  "orig_nbformat": 4
 },
 "nbformat": 4,
 "nbformat_minor": 2
}
