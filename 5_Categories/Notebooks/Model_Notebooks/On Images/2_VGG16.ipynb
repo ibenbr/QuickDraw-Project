{
 "cells": [
  {
   "cell_type": "markdown",
   "metadata": {},
   "source": [
    "# Model 2: vgg16"
   ]
  },
  {
   "cell_type": "markdown",
   "metadata": {},
   "source": [
    "## 1 Imports"
   ]
  },
  {
   "cell_type": "code",
   "execution_count": 1,
   "metadata": {},
   "outputs": [],
   "source": [
    "import numpy as np \n",
    "import pandas as pd\n",
    "\n",
    "import tensorflow as tf\n",
    "from tensorflow import keras\n",
    "from keras.models import Sequential\n",
    "from keras import layers\n",
    "from keras.layers import Conv2D, MaxPooling2D, MaxPool2D, Dense, Dropout, Flatten\n",
    "from keras.metrics import top_k_categorical_accuracy\n",
    "from keras.callbacks import ModelCheckpoint, ReduceLROnPlateau, EarlyStopping\n",
    "from sklearn.model_selection import train_test_split\n",
    "from tensorflow.keras.preprocessing import image_dataset_from_directory\n",
    "import matplotlib.pyplot as plt\n",
    "import os\n",
    "import cv2\n"
   ]
  },
  {
   "cell_type": "code",
   "execution_count": 2,
   "metadata": {},
   "outputs": [
    {
     "name": "stdout",
     "output_type": "stream",
     "text": [
      "Found 3500 files belonging to 5 classes.\n",
      "Found 750 files belonging to 5 classes.\n",
      "Found 750 files belonging to 5 classes.\n"
     ]
    }
   ],
   "source": [
    "dir = '../../Data/Splitted_Images/'\n",
    "\n",
    "train_dataset = image_dataset_from_directory(\n",
    "    os.path.join(dir, \"train\"),\n",
    "    image_size=(170, 256),\n",
    "    batch_size=128)\n",
    "validation_dataset = image_dataset_from_directory(\n",
    "    os.path.join(dir, \"val\"),\n",
    "    image_size=(170, 256),\n",
    "    batch_size=128)\n",
    "test_dataset = image_dataset_from_directory(\n",
    "    os.path.join(dir, \"test\"),\n",
    "    image_size=(170, 256),\n",
    "    batch_size=128)"
   ]
  },
  {
   "cell_type": "markdown",
   "metadata": {},
   "source": [
    "## 3 Training the model"
   ]
  },
  {
   "cell_type": "code",
   "execution_count": 3,
   "metadata": {},
   "outputs": [],
   "source": [
    "conv_base = keras.applications.vgg16.VGG16(\n",
    "    weights=\"imagenet\",\n",
    "    include_top=False,\n",
    ")\n",
    "\n",
    "conv_base.trainable = True\n",
    "for layer in conv_base.layers[:-4]:\n",
    "    layer.trainable = False"
   ]
  },
  {
   "cell_type": "code",
   "execution_count": 4,
   "metadata": {},
   "outputs": [],
   "source": [
    "data_augmentation = keras.Sequential([\n",
    "    layers.RandomFlip(\"horizontal\"),\n",
    "    layers.RandomRotation(0.1),\n",
    "    layers.RandomZoom(0.2),\n",
    "])\n",
    "\n",
    "\n",
    "inputs = keras.Input(shape=(170, 256, 3))\n",
    "x = data_augmentation(inputs) \n",
    "x = layers.Dropout(0.2)(x)\n",
    "x = keras.applications.vgg16.preprocess_input(x) \n",
    "x = conv_base(x)\n",
    "x = layers.Flatten()(x)\n",
    "x = layers.Dense(256)(x)\n",
    "x = layers.Dropout(0.5)(x)\n",
    "outputs = layers.Dense(5, activation=\"softmax\")(x)\n",
    "\n",
    "model = keras.Model(inputs, outputs)"
   ]
  },
  {
   "cell_type": "code",
   "execution_count": 5,
   "metadata": {},
   "outputs": [
    {
     "name": "stdout",
     "output_type": "stream",
     "text": [
      "Model: \"model\"\n",
      "_________________________________________________________________\n",
      " Layer (type)                Output Shape              Param #   \n",
      "=================================================================\n",
      " input_2 (InputLayer)        [(None, 170, 256, 3)]     0         \n",
      "                                                                 \n",
      " sequential (Sequential)     (None, 170, 256, 3)       0         \n",
      "                                                                 \n",
      " dropout (Dropout)           (None, 170, 256, 3)       0         \n",
      "                                                                 \n",
      " tf.__operators__.getitem (S  (None, 170, 256, 3)      0         \n",
      " licingOpLambda)                                                 \n",
      "                                                                 \n",
      " tf.nn.bias_add (TFOpLambda)  (None, 170, 256, 3)      0         \n",
      "                                                                 \n",
      " vgg16 (Functional)          (None, None, None, 512)   14714688  \n",
      "                                                                 \n",
      " flatten (Flatten)           (None, 20480)             0         \n",
      "                                                                 \n",
      " dense (Dense)               (None, 256)               5243136   \n",
      "                                                                 \n",
      " dropout_1 (Dropout)         (None, 256)               0         \n",
      "                                                                 \n",
      " dense_1 (Dense)             (None, 5)                 1285      \n",
      "                                                                 \n",
      "=================================================================\n",
      "Total params: 19,959,109\n",
      "Trainable params: 12,323,845\n",
      "Non-trainable params: 7,635,264\n",
      "_________________________________________________________________\n"
     ]
    }
   ],
   "source": [
    "model.summary()"
   ]
  },
  {
   "cell_type": "code",
   "execution_count": 6,
   "metadata": {},
   "outputs": [
    {
     "name": "stdout",
     "output_type": "stream",
     "text": [
      "Epoch 1/50\n",
      "28/28 [==============================] - 48s 1s/step - loss: 8.9286 - accuracy: 0.3314 - val_loss: 2.4231 - val_accuracy: 0.5280\n",
      "Epoch 2/50\n",
      "28/28 [==============================] - 21s 744ms/step - loss: 3.4337 - accuracy: 0.4166 - val_loss: 1.4474 - val_accuracy: 0.6147\n",
      "Epoch 3/50\n",
      "28/28 [==============================] - 21s 744ms/step - loss: 2.0594 - accuracy: 0.4949 - val_loss: 1.2014 - val_accuracy: 0.6533\n",
      "Epoch 4/50\n",
      "28/28 [==============================] - 21s 746ms/step - loss: 1.5211 - accuracy: 0.5383 - val_loss: 0.9898 - val_accuracy: 0.6787\n",
      "Epoch 5/50\n",
      "28/28 [==============================] - 21s 748ms/step - loss: 1.2564 - accuracy: 0.5820 - val_loss: 0.8939 - val_accuracy: 0.6947\n",
      "Epoch 6/50\n",
      "28/28 [==============================] - 21s 749ms/step - loss: 1.0173 - accuracy: 0.6406 - val_loss: 0.8045 - val_accuracy: 0.7187\n",
      "Epoch 7/50\n",
      "28/28 [==============================] - 21s 748ms/step - loss: 0.8968 - accuracy: 0.6783 - val_loss: 0.7994 - val_accuracy: 0.7373\n",
      "Epoch 8/50\n",
      "28/28 [==============================] - 21s 747ms/step - loss: 0.8335 - accuracy: 0.7006 - val_loss: 0.7078 - val_accuracy: 0.7507\n",
      "Epoch 9/50\n",
      "28/28 [==============================] - 21s 747ms/step - loss: 0.7694 - accuracy: 0.7146 - val_loss: 0.6390 - val_accuracy: 0.7707\n",
      "Epoch 10/50\n",
      "28/28 [==============================] - 21s 740ms/step - loss: 0.7007 - accuracy: 0.7420 - val_loss: 0.6886 - val_accuracy: 0.7627\n",
      "Epoch 11/50\n",
      "28/28 [==============================] - 21s 739ms/step - loss: 0.6462 - accuracy: 0.7683 - val_loss: 0.6475 - val_accuracy: 0.7827\n",
      "Epoch 12/50\n",
      "28/28 [==============================] - 21s 749ms/step - loss: 0.6414 - accuracy: 0.7669 - val_loss: 0.5981 - val_accuracy: 0.7840\n",
      "Epoch 13/50\n",
      "28/28 [==============================] - 21s 750ms/step - loss: 0.5871 - accuracy: 0.7820 - val_loss: 0.5623 - val_accuracy: 0.7987\n",
      "Epoch 14/50\n",
      "28/28 [==============================] - 21s 748ms/step - loss: 0.5694 - accuracy: 0.7843 - val_loss: 0.5497 - val_accuracy: 0.8080\n",
      "Epoch 15/50\n",
      "28/28 [==============================] - 21s 749ms/step - loss: 0.5341 - accuracy: 0.8029 - val_loss: 0.5466 - val_accuracy: 0.8080\n",
      "Epoch 16/50\n",
      "28/28 [==============================] - 21s 749ms/step - loss: 0.5170 - accuracy: 0.8151 - val_loss: 0.5245 - val_accuracy: 0.8107\n",
      "Epoch 17/50\n",
      "28/28 [==============================] - 21s 746ms/step - loss: 0.4968 - accuracy: 0.8163 - val_loss: 0.5512 - val_accuracy: 0.8240\n",
      "Epoch 18/50\n",
      "28/28 [==============================] - 21s 746ms/step - loss: 0.4811 - accuracy: 0.8263 - val_loss: 0.4795 - val_accuracy: 0.8307\n",
      "Epoch 19/50\n",
      "28/28 [==============================] - 22s 777ms/step - loss: 0.4838 - accuracy: 0.8183 - val_loss: 0.4763 - val_accuracy: 0.8267\n",
      "Epoch 20/50\n",
      "28/28 [==============================] - 22s 783ms/step - loss: 0.4644 - accuracy: 0.8269 - val_loss: 0.5045 - val_accuracy: 0.8347\n",
      "Epoch 21/50\n",
      "28/28 [==============================] - 22s 776ms/step - loss: 0.4511 - accuracy: 0.8406 - val_loss: 0.4825 - val_accuracy: 0.8360\n",
      "Epoch 22/50\n",
      "28/28 [==============================] - 22s 782ms/step - loss: 0.4305 - accuracy: 0.8400 - val_loss: 0.5038 - val_accuracy: 0.8227\n",
      "Epoch 23/50\n",
      "28/28 [==============================] - 22s 794ms/step - loss: 0.4237 - accuracy: 0.8409 - val_loss: 0.4676 - val_accuracy: 0.8400\n",
      "Epoch 24/50\n",
      "28/28 [==============================] - 22s 789ms/step - loss: 0.4237 - accuracy: 0.8449 - val_loss: 0.4581 - val_accuracy: 0.8427\n",
      "Epoch 25/50\n",
      "28/28 [==============================] - 22s 780ms/step - loss: 0.4103 - accuracy: 0.8494 - val_loss: 0.4978 - val_accuracy: 0.8267\n",
      "Epoch 26/50\n",
      "28/28 [==============================] - 22s 778ms/step - loss: 0.3809 - accuracy: 0.8571 - val_loss: 0.4691 - val_accuracy: 0.8467\n",
      "Epoch 27/50\n",
      "28/28 [==============================] - 22s 785ms/step - loss: 0.3823 - accuracy: 0.8640 - val_loss: 0.4569 - val_accuracy: 0.8467\n",
      "Epoch 28/50\n",
      "28/28 [==============================] - 22s 778ms/step - loss: 0.3769 - accuracy: 0.8631 - val_loss: 0.4808 - val_accuracy: 0.8267\n",
      "Epoch 29/50\n",
      "28/28 [==============================] - 22s 788ms/step - loss: 0.3697 - accuracy: 0.8614 - val_loss: 0.4521 - val_accuracy: 0.8440\n",
      "Epoch 30/50\n",
      "28/28 [==============================] - 22s 785ms/step - loss: 0.3529 - accuracy: 0.8703 - val_loss: 0.4641 - val_accuracy: 0.8667\n",
      "Epoch 31/50\n",
      "28/28 [==============================] - 22s 787ms/step - loss: 0.3620 - accuracy: 0.8677 - val_loss: 0.4436 - val_accuracy: 0.8533\n",
      "Epoch 32/50\n",
      "28/28 [==============================] - 22s 779ms/step - loss: 0.3427 - accuracy: 0.8700 - val_loss: 0.4493 - val_accuracy: 0.8720\n",
      "Epoch 33/50\n",
      "28/28 [==============================] - 22s 780ms/step - loss: 0.3242 - accuracy: 0.8783 - val_loss: 0.4847 - val_accuracy: 0.8600\n",
      "Epoch 34/50\n",
      "28/28 [==============================] - 22s 778ms/step - loss: 0.3240 - accuracy: 0.8786 - val_loss: 0.5208 - val_accuracy: 0.8387\n",
      "Epoch 35/50\n",
      "28/28 [==============================] - 22s 774ms/step - loss: 0.3255 - accuracy: 0.8826 - val_loss: 0.4787 - val_accuracy: 0.8600\n",
      "Epoch 36/50\n",
      "28/28 [==============================] - 22s 776ms/step - loss: 0.3242 - accuracy: 0.8743 - val_loss: 0.4528 - val_accuracy: 0.8667\n"
     ]
    }
   ],
   "source": [
    "model.compile(\n",
    "    loss=\"sparse_categorical_crossentropy\",\n",
    "    optimizer=keras.optimizers.RMSprop(learning_rate=1e-5),\n",
    "    metrics=[\"accuracy\"]\n",
    ")\n",
    "\n",
    "callbacks = [keras.callbacks.ModelCheckpoint(\n",
    "    filepath=\"models/2_VGG16_Model.h5\", save_best_only=True, monitor=\"val_loss\"),\n",
    "    EarlyStopping(monitor='val_loss', mode='auto', patience=5)  \n",
    "    ]\n",
    "\n",
    "history = model.fit(\n",
    "    train_dataset,\n",
    "    epochs=50,\n",
    "    validation_data=validation_dataset,\n",
    "    callbacks=callbacks\n",
    ")"
   ]
  },
  {
   "cell_type": "markdown",
   "metadata": {},
   "source": [
    "## 4 Plotting the training result"
   ]
  },
  {
   "cell_type": "code",
   "execution_count": 16,
   "metadata": {},
   "outputs": [],
   "source": [
    "def plot_function(history):\n",
    "    accuracy = history.history[\"accuracy\"]\n",
    "    val_accuracy = history.history[\"val_accuracy\"]\n",
    "    loss = history.history[\"loss\"]\n",
    "    val_loss = history.history[\"val_loss\"]\n",
    "    epochs = range(1, len(accuracy) + 1)\n",
    "    plt.plot(epochs, accuracy, \"b\", label=\"Training accuracy\")\n",
    "    plt.plot(epochs, val_accuracy, \"r\", label=\"Validation accuracy\")\n",
    "    plt.title(\"Training and validation accuracy\")\n",
    "    plt.legend()\n",
    "    plt.figure()\n",
    "    plt.plot(epochs, loss, \"b\", label=\"Training loss\")\n",
    "    plt.plot(epochs, val_loss, \"r\", label=\"Validation loss\")\n",
    "    plt.title(\"Training and validation loss\")\n",
    "    plt.legend()\n",
    "    plt.show()"
   ]
  },
  {
   "cell_type": "code",
   "execution_count": 17,
   "metadata": {},
   "outputs": [
    {
     "data": {
      "image/png": "[encoded data removed]",
      "text/plain": [
       "<Figure size 432x288 with 1 Axes>"
      ]
     },
     "metadata": {
      "needs_background": "light"
     },
     "output_type": "display_data"
    },
    {
     "data": {
      "image/png": "[encoded data removed]",
      "text/plain": [
       "<Figure size 432x288 with 1 Axes>"
      ]
     },
     "metadata": {
      "needs_background": "light"
     },
     "output_type": "display_data"
    }
   ],
   "source": [
    "plot_function(history)"
   ]
  },
  {
   "cell_type": "markdown",
   "metadata": {},
   "source": [
    "## 5 Testing the model on the testset"
   ]
  },
  {
   "cell_type": "code",
   "execution_count": 18,
   "metadata": {},
   "outputs": [
    {
     "name": "stdout",
     "output_type": "stream",
     "text": [
      "6/6 [==============================] - 4s 556ms/step - loss: 0.3877 - accuracy: 0.8560\n",
      "Test accuracy: 0.856\n"
     ]
    }
   ],
   "source": [
    "test_model = keras.models.load_model(\"models/2_VGG16_Model.h5\")\n",
    "test_loss, test_acc = test_model.evaluate(test_dataset)\n",
    "print(f\"Test accuracy: {test_acc:.3f}\")"
   ]
  }
 ],
 "metadata": {
  "interpreter": {
   "hash": "f1b21a831ca0887bb1ca23965249b487d59158d2ac98669dee611127e8c84e44"
  },
  "kernelspec": {
   "display_name": "Python 3.9.7 ('base')",
   "language": "python",
   "name": "python3"
  },
  "language_info": {
   "codemirror_mode": {
    "name": "ipython",
    "version": 3
   },
   "file_extension": ".py",
   "mimetype": "text/x-python",
   "name": "python",
   "nbconvert_exporter": "python",
   "pygments_lexer": "ipython3",
   "version": "3.9.7"
  },
  "orig_nbformat": 4
 },
 "nbformat": 4,
 "nbformat_minor": 2
}
