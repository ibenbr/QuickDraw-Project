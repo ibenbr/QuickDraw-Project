{
 "cells": [
  {
   "cell_type": "markdown",
   "metadata": {},
   "source": [
    "# Model 1: CNN from scratch"
   ]
  },
  {
   "cell_type": "markdown",
   "metadata": {},
   "source": [
    "## 1 Imports"
   ]
  },
  {
   "cell_type": "code",
   "execution_count": 1,
   "metadata": {},
   "outputs": [],
   "source": [
    "import numpy as np \n",
    "import pandas as pd\n",
    "\n",
    "import tensorflow as tf\n",
    "from tensorflow import keras\n",
    "from keras.models import Sequential\n",
    "from keras import layers\n",
    "from keras.layers import Conv2D, MaxPooling2D, MaxPool2D, Dense, Dropout, Flatten\n",
    "from keras.metrics import top_k_categorical_accuracy\n",
    "from keras.callbacks import ModelCheckpoint, ReduceLROnPlateau, EarlyStopping\n",
    "from sklearn.model_selection import train_test_split\n",
    "from tensorflow.keras.preprocessing import image_dataset_from_directory\n",
    "import matplotlib.pyplot as plt\n",
    "import os\n",
    "import cv2\n"
   ]
  },
  {
   "cell_type": "markdown",
   "metadata": {},
   "source": [
    "## 2 Preprocessing the data"
   ]
  },
  {
   "cell_type": "markdown",
   "metadata": {},
   "source": [
    "Fetching the already split dataset"
   ]
  },
  {
   "cell_type": "code",
   "execution_count": 2,
   "metadata": {},
   "outputs": [],
   "source": [
    "base_directory = \"../../Data/Splitted_Images/\"\n",
    "\n",
    "train_path=base_directory+\"/train\"\n",
    "test_path=base_directory+\"/test\"\n",
    "val_path=base_directory+\"/val\""
   ]
  },
  {
   "cell_type": "code",
   "execution_count": 3,
   "metadata": {},
   "outputs": [],
   "source": [
    "x_train=[]\n",
    "\n",
    "for folder in os.listdir(train_path):\n",
    "\n",
    "    sub_path=train_path+\"/\"+folder\n",
    "\n",
    "    for img in os.listdir(sub_path):\n",
    "        image_path=sub_path+\"/\"+img\n",
    "        img_arr=cv2.imread(image_path)\n",
    "        x_train.append(img_arr)\n",
    "\n",
    "x_test=[]\n",
    "\n",
    "for folder in os.listdir(test_path):\n",
    "    sub_path=test_path+\"/\"+folder\n",
    "\n",
    "    for img in os.listdir(sub_path):\n",
    "        image_path=sub_path+\"/\"+img\n",
    "        img_arr=cv2.imread(image_path)\n",
    "        x_test.append(img_arr)\n",
    "\n",
    "x_val=[]\n",
    "\n",
    "for folder in os.listdir(val_path):\n",
    "    sub_path=val_path+\"/\"+folder\n",
    "\n",
    "    for img in os.listdir(sub_path):\n",
    "        image_path=sub_path+\"/\"+img\n",
    "        img_arr=cv2.imread(image_path)\n",
    "        x_val.append(img_arr)"
   ]
  },
  {
   "cell_type": "code",
   "execution_count": 4,
   "metadata": {},
   "outputs": [],
   "source": [
    "train_x=np.array(x_train)\n",
    "test_x=np.array(x_test)\n",
    "val_x=np.array(x_val)"
   ]
  },
  {
   "cell_type": "code",
   "execution_count": 5,
   "metadata": {},
   "outputs": [],
   "source": [
    "train_x=train_x/255.0\n",
    "test_x=test_x/255.0\n",
    "val_x=val_x/255.0"
   ]
  },
  {
   "cell_type": "code",
   "execution_count": 6,
   "metadata": {},
   "outputs": [],
   "source": [
    "from keras_preprocessing.image import ImageDataGenerator\n",
    "train_datagen = ImageDataGenerator(rescale = 1./255)\n",
    "test_datagen = ImageDataGenerator(rescale = 1./255)\n",
    "val_datagen = ImageDataGenerator(rescale = 1./255)"
   ]
  },
  {
   "cell_type": "code",
   "execution_count": 7,
   "metadata": {},
   "outputs": [
    {
     "name": "stdout",
     "output_type": "stream",
     "text": [
      "Found 3500 images belonging to 5 classes.\n",
      "Found 750 images belonging to 5 classes.\n",
      "Found 750 images belonging to 5 classes.\n"
     ]
    }
   ],
   "source": [
    "training_set = train_datagen.flow_from_directory(train_path,\n",
    "                                                 target_size = (170,256),\n",
    "                                                 batch_size = 128,\n",
    "                                                 class_mode = 'categorical',\n",
    "                                                 shuffle=True)\n",
    "test_set = test_datagen.flow_from_directory(test_path,\n",
    "                                            target_size = (170,256),\n",
    "                                            batch_size = 128,\n",
    "                                            class_mode = 'categorical',\n",
    "                                            shuffle=True)\n",
    "val_set = val_datagen.flow_from_directory(val_path,\n",
    "                                            target_size = (170,256),\n",
    "                                            batch_size = 128,\n",
    "                                            class_mode = 'categorical',\n",
    "                                            shuffle=True)"
   ]
  },
  {
   "cell_type": "code",
   "execution_count": 8,
   "metadata": {},
   "outputs": [],
   "source": [
    "train_y=training_set.classes\n",
    "test_y=test_set.classes\n",
    "val_y=val_set.classes"
   ]
  },
  {
   "cell_type": "code",
   "execution_count": 9,
   "metadata": {},
   "outputs": [
    {
     "data": {
      "text/plain": [
       "{'bee': 0, 'butterfly': 1, 'cat': 2, 'dog': 3, 'elephant': 4}"
      ]
     },
     "execution_count": 9,
     "metadata": {},
     "output_type": "execute_result"
    }
   ],
   "source": [
    "training_set.class_indices\n"
   ]
  },
  {
   "cell_type": "code",
   "execution_count": 10,
   "metadata": {},
   "outputs": [
    {
     "data": {
      "text/plain": [
       "((3500,), (750,), (750,))"
      ]
     },
     "execution_count": 10,
     "metadata": {},
     "output_type": "execute_result"
    }
   ],
   "source": [
    "train_y.shape,test_y.shape,val_y.shape\n"
   ]
  },
  {
   "cell_type": "markdown",
   "metadata": {},
   "source": [
    "## 3 Training the model"
   ]
  },
  {
   "cell_type": "code",
   "execution_count": 11,
   "metadata": {},
   "outputs": [
    {
     "name": "stdout",
     "output_type": "stream",
     "text": [
      "Model: \"model\"\n",
      "_________________________________________________________________\n",
      " Layer (type)                Output Shape              Param #   \n",
      "=================================================================\n",
      " input_1 (InputLayer)        [(None, 170, 256, 3)]     0         \n",
      "                                                                 \n",
      " sequential (Sequential)     (None, 170, 256, 3)       0         \n",
      "                                                                 \n",
      " dropout (Dropout)           (None, 170, 256, 3)       0         \n",
      "                                                                 \n",
      " conv2d (Conv2D)             (None, 168, 254, 32)      896       \n",
      "                                                                 \n",
      " max_pooling2d (MaxPooling2D  (None, 84, 127, 32)      0         \n",
      " )                                                               \n",
      "                                                                 \n",
      " conv2d_1 (Conv2D)           (None, 82, 125, 64)       18496     \n",
      "                                                                 \n",
      " max_pooling2d_1 (MaxPooling  (None, 41, 62, 64)       0         \n",
      " 2D)                                                             \n",
      "                                                                 \n",
      " conv2d_2 (Conv2D)           (None, 39, 60, 128)       73856     \n",
      "                                                                 \n",
      " max_pooling2d_2 (MaxPooling  (None, 19, 30, 128)      0         \n",
      " 2D)                                                             \n",
      "                                                                 \n",
      " conv2d_3 (Conv2D)           (None, 17, 28, 256)       295168    \n",
      "                                                                 \n",
      " max_pooling2d_3 (MaxPooling  (None, 8, 14, 256)       0         \n",
      " 2D)                                                             \n",
      "                                                                 \n",
      " flatten (Flatten)           (None, 28672)             0         \n",
      "                                                                 \n",
      " dense (Dense)               (None, 256)               7340288   \n",
      "                                                                 \n",
      " dropout_1 (Dropout)         (None, 256)               0         \n",
      "                                                                 \n",
      " dense_1 (Dense)             (None, 5)                 1285      \n",
      "                                                                 \n",
      "=================================================================\n",
      "Total params: 7,729,989\n",
      "Trainable params: 7,729,989\n",
      "Non-trainable params: 0\n",
      "_________________________________________________________________\n"
     ]
    }
   ],
   "source": [
    "data_augmentation = keras.Sequential([\n",
    "    layers.RandomFlip(\"horizontal\"),\n",
    "    layers.RandomRotation(0.1),\n",
    "    layers.RandomZoom(0.2),\n",
    "])\n",
    "\n",
    "inputs = keras.Input(shape=(170,256,3))\n",
    "x = data_augmentation(inputs) \n",
    "x = layers.Dropout(0.2)(x)\n",
    "x = layers.Conv2D(filters=32, kernel_size=3, activation=\"relu\")(x)\n",
    "x = layers.MaxPooling2D(pool_size=2)(x)\n",
    "x = layers.Conv2D(filters=64, kernel_size=3, activation=\"relu\")(x)\n",
    "x = layers.MaxPooling2D(pool_size=2)(x)\n",
    "x = layers.Conv2D(filters=128, kernel_size=3, activation=\"relu\")(x)\n",
    "x = layers.MaxPooling2D(pool_size=2)(x)\n",
    "x = layers.Conv2D(filters=256, kernel_size=3, activation=\"relu\")(x)\n",
    "x = layers.MaxPooling2D(pool_size=2)(x)\n",
    "x = layers.Flatten()(x)\n",
    "x = layers.Dense(256, activation='relu')(x)\n",
    "x = layers.Dropout(0.2)(x)\n",
    "outputs = layers.Dense(5, activation=\"softmax\")(x)\n",
    "model = keras.Model(inputs=inputs, outputs=outputs)\n",
    "model.summary()"
   ]
  },
  {
   "cell_type": "code",
   "execution_count": 12,
   "metadata": {},
   "outputs": [
    {
     "name": "stdout",
     "output_type": "stream",
     "text": [
      "Epoch 1/100\n",
      "110/110 [==============================] - 12s 75ms/step - loss: 1.5490 - accuracy: 0.3591 - val_loss: 1.4602 - val_accuracy: 0.4173\n",
      "Epoch 2/100\n",
      "110/110 [==============================] - 7s 64ms/step - loss: 1.4072 - accuracy: 0.4543 - val_loss: 1.2547 - val_accuracy: 0.5853\n",
      "Epoch 3/100\n",
      "110/110 [==============================] - 7s 63ms/step - loss: 1.2743 - accuracy: 0.5046 - val_loss: 1.1413 - val_accuracy: 0.5653\n",
      "Epoch 4/100\n",
      "110/110 [==============================] - 7s 63ms/step - loss: 1.1823 - accuracy: 0.5551 - val_loss: 1.1024 - val_accuracy: 0.5667\n",
      "Epoch 5/100\n",
      "110/110 [==============================] - 7s 63ms/step - loss: 1.1182 - accuracy: 0.5791 - val_loss: 0.9970 - val_accuracy: 0.6080\n",
      "Epoch 6/100\n",
      "110/110 [==============================] - 7s 63ms/step - loss: 1.0421 - accuracy: 0.6103 - val_loss: 0.9230 - val_accuracy: 0.6493\n",
      "Epoch 7/100\n",
      "110/110 [==============================] - 7s 63ms/step - loss: 0.9985 - accuracy: 0.6277 - val_loss: 0.8790 - val_accuracy: 0.6680\n",
      "Epoch 8/100\n",
      "110/110 [==============================] - 7s 63ms/step - loss: 0.9408 - accuracy: 0.6529 - val_loss: 0.8125 - val_accuracy: 0.6947\n",
      "Epoch 9/100\n",
      "110/110 [==============================] - 7s 62ms/step - loss: 0.8744 - accuracy: 0.6794 - val_loss: 0.8289 - val_accuracy: 0.6987\n",
      "Epoch 10/100\n",
      "110/110 [==============================] - 7s 63ms/step - loss: 0.8579 - accuracy: 0.6837 - val_loss: 0.7529 - val_accuracy: 0.7133\n",
      "Epoch 11/100\n",
      "110/110 [==============================] - 7s 63ms/step - loss: 0.8168 - accuracy: 0.7006 - val_loss: 0.7140 - val_accuracy: 0.7360\n",
      "Epoch 12/100\n",
      "110/110 [==============================] - 7s 63ms/step - loss: 0.7782 - accuracy: 0.7151 - val_loss: 0.7052 - val_accuracy: 0.7427\n",
      "Epoch 13/100\n",
      "110/110 [==============================] - 7s 63ms/step - loss: 0.7645 - accuracy: 0.7203 - val_loss: 0.6796 - val_accuracy: 0.7507\n",
      "Epoch 14/100\n",
      "110/110 [==============================] - 7s 63ms/step - loss: 0.7485 - accuracy: 0.7311 - val_loss: 0.6350 - val_accuracy: 0.7667\n",
      "Epoch 15/100\n",
      "110/110 [==============================] - 7s 64ms/step - loss: 0.7287 - accuracy: 0.7283 - val_loss: 0.6323 - val_accuracy: 0.7707\n",
      "Epoch 16/100\n",
      "110/110 [==============================] - 7s 63ms/step - loss: 0.7059 - accuracy: 0.7477 - val_loss: 0.7113 - val_accuracy: 0.7280\n",
      "Epoch 17/100\n",
      "110/110 [==============================] - 7s 63ms/step - loss: 0.6911 - accuracy: 0.7446 - val_loss: 0.6285 - val_accuracy: 0.7680\n",
      "Epoch 18/100\n",
      "110/110 [==============================] - 7s 63ms/step - loss: 0.6948 - accuracy: 0.7420 - val_loss: 0.5959 - val_accuracy: 0.7880\n",
      "Epoch 19/100\n",
      "110/110 [==============================] - 7s 62ms/step - loss: 0.6834 - accuracy: 0.7449 - val_loss: 0.6309 - val_accuracy: 0.7720\n",
      "Epoch 20/100\n",
      "110/110 [==============================] - 7s 62ms/step - loss: 0.6711 - accuracy: 0.7523 - val_loss: 0.5973 - val_accuracy: 0.7827\n",
      "Epoch 21/100\n",
      "110/110 [==============================] - 7s 62ms/step - loss: 0.6720 - accuracy: 0.7543 - val_loss: 0.6203 - val_accuracy: 0.7680\n",
      "Epoch 22/100\n",
      "110/110 [==============================] - 7s 63ms/step - loss: 0.6357 - accuracy: 0.7694 - val_loss: 0.5681 - val_accuracy: 0.8013\n",
      "Epoch 23/100\n",
      "110/110 [==============================] - 7s 63ms/step - loss: 0.6527 - accuracy: 0.7651 - val_loss: 0.5633 - val_accuracy: 0.7947\n",
      "Epoch 24/100\n",
      "110/110 [==============================] - 7s 63ms/step - loss: 0.6388 - accuracy: 0.7680 - val_loss: 0.5555 - val_accuracy: 0.7933\n",
      "Epoch 25/100\n",
      "110/110 [==============================] - 7s 62ms/step - loss: 0.6170 - accuracy: 0.7763 - val_loss: 0.5574 - val_accuracy: 0.7867\n",
      "Epoch 26/100\n",
      "110/110 [==============================] - 6s 58ms/step - loss: 0.6138 - accuracy: 0.7740 - val_loss: 0.5409 - val_accuracy: 0.8093\n",
      "Epoch 27/100\n",
      "110/110 [==============================] - 6s 57ms/step - loss: 0.6261 - accuracy: 0.7680 - val_loss: 0.5538 - val_accuracy: 0.7880\n",
      "Epoch 28/100\n",
      "110/110 [==============================] - 6s 58ms/step - loss: 0.6251 - accuracy: 0.7669 - val_loss: 0.5368 - val_accuracy: 0.8080\n",
      "Epoch 29/100\n",
      "110/110 [==============================] - 7s 60ms/step - loss: 0.6169 - accuracy: 0.7731 - val_loss: 0.5320 - val_accuracy: 0.8040\n",
      "Epoch 30/100\n",
      "110/110 [==============================] - 6s 57ms/step - loss: 0.5982 - accuracy: 0.7800 - val_loss: 0.5342 - val_accuracy: 0.7973\n",
      "Epoch 31/100\n",
      "110/110 [==============================] - 6s 56ms/step - loss: 0.5838 - accuracy: 0.7866 - val_loss: 0.5499 - val_accuracy: 0.7907\n",
      "Epoch 32/100\n",
      "110/110 [==============================] - 6s 59ms/step - loss: 0.5853 - accuracy: 0.7840 - val_loss: 0.5404 - val_accuracy: 0.8027\n",
      "Epoch 33/100\n",
      "110/110 [==============================] - 7s 62ms/step - loss: 0.5880 - accuracy: 0.7863 - val_loss: 0.5420 - val_accuracy: 0.7973\n",
      "Epoch 34/100\n",
      "110/110 [==============================] - 7s 64ms/step - loss: 0.5717 - accuracy: 0.7977 - val_loss: 0.5216 - val_accuracy: 0.8053\n",
      "Epoch 35/100\n",
      "110/110 [==============================] - 7s 63ms/step - loss: 0.5784 - accuracy: 0.7880 - val_loss: 0.5158 - val_accuracy: 0.7987\n",
      "Epoch 36/100\n",
      "110/110 [==============================] - 7s 64ms/step - loss: 0.5825 - accuracy: 0.7891 - val_loss: 0.5091 - val_accuracy: 0.8067\n",
      "Epoch 37/100\n",
      "110/110 [==============================] - 7s 63ms/step - loss: 0.5775 - accuracy: 0.7871 - val_loss: 0.5113 - val_accuracy: 0.7987\n",
      "Epoch 38/100\n",
      "110/110 [==============================] - 7s 62ms/step - loss: 0.5779 - accuracy: 0.7849 - val_loss: 0.5107 - val_accuracy: 0.8107\n",
      "Epoch 39/100\n",
      "110/110 [==============================] - 7s 63ms/step - loss: 0.5604 - accuracy: 0.8003 - val_loss: 0.4987 - val_accuracy: 0.8120\n",
      "Epoch 40/100\n",
      "110/110 [==============================] - 7s 62ms/step - loss: 0.5527 - accuracy: 0.7931 - val_loss: 0.5161 - val_accuracy: 0.8040\n",
      "Epoch 41/100\n",
      "110/110 [==============================] - 7s 63ms/step - loss: 0.5639 - accuracy: 0.7863 - val_loss: 0.4849 - val_accuracy: 0.8213\n",
      "Epoch 42/100\n",
      "110/110 [==============================] - 7s 63ms/step - loss: 0.5365 - accuracy: 0.8026 - val_loss: 0.4877 - val_accuracy: 0.8240\n",
      "Epoch 43/100\n",
      "110/110 [==============================] - 7s 63ms/step - loss: 0.5396 - accuracy: 0.7997 - val_loss: 0.4913 - val_accuracy: 0.8200\n",
      "Epoch 44/100\n",
      "110/110 [==============================] - 7s 64ms/step - loss: 0.5522 - accuracy: 0.7989 - val_loss: 0.4823 - val_accuracy: 0.8227\n",
      "Epoch 45/100\n",
      "110/110 [==============================] - 7s 64ms/step - loss: 0.5271 - accuracy: 0.7983 - val_loss: 0.4770 - val_accuracy: 0.8147\n",
      "Epoch 46/100\n",
      "110/110 [==============================] - 7s 63ms/step - loss: 0.5131 - accuracy: 0.8129 - val_loss: 0.5061 - val_accuracy: 0.8053\n",
      "Epoch 47/100\n",
      "110/110 [==============================] - 7s 63ms/step - loss: 0.5331 - accuracy: 0.8009 - val_loss: 0.4780 - val_accuracy: 0.8200\n",
      "Epoch 48/100\n",
      "110/110 [==============================] - 7s 63ms/step - loss: 0.5154 - accuracy: 0.8083 - val_loss: 0.5380 - val_accuracy: 0.7933\n",
      "Epoch 49/100\n",
      "110/110 [==============================] - 7s 63ms/step - loss: 0.5178 - accuracy: 0.8111 - val_loss: 0.4702 - val_accuracy: 0.8187\n",
      "Epoch 50/100\n",
      "110/110 [==============================] - 7s 62ms/step - loss: 0.5097 - accuracy: 0.8077 - val_loss: 0.4744 - val_accuracy: 0.8173\n",
      "Epoch 51/100\n",
      "110/110 [==============================] - 7s 64ms/step - loss: 0.5086 - accuracy: 0.8129 - val_loss: 0.4679 - val_accuracy: 0.8187\n",
      "Epoch 52/100\n",
      "110/110 [==============================] - 7s 63ms/step - loss: 0.5020 - accuracy: 0.8120 - val_loss: 0.4723 - val_accuracy: 0.8187\n",
      "Epoch 53/100\n",
      "110/110 [==============================] - 7s 64ms/step - loss: 0.5132 - accuracy: 0.8094 - val_loss: 0.4965 - val_accuracy: 0.8147\n",
      "Epoch 54/100\n",
      "110/110 [==============================] - 7s 62ms/step - loss: 0.5139 - accuracy: 0.8151 - val_loss: 0.5036 - val_accuracy: 0.8027\n",
      "Epoch 55/100\n",
      "110/110 [==============================] - 7s 63ms/step - loss: 0.4994 - accuracy: 0.8114 - val_loss: 0.4889 - val_accuracy: 0.8120\n",
      "Epoch 56/100\n",
      "110/110 [==============================] - 7s 64ms/step - loss: 0.5078 - accuracy: 0.8069 - val_loss: 0.4531 - val_accuracy: 0.8333\n",
      "Epoch 57/100\n",
      "110/110 [==============================] - 7s 62ms/step - loss: 0.4898 - accuracy: 0.8194 - val_loss: 0.4720 - val_accuracy: 0.8147\n",
      "Epoch 58/100\n",
      "110/110 [==============================] - 7s 62ms/step - loss: 0.5008 - accuracy: 0.8160 - val_loss: 0.4533 - val_accuracy: 0.8293\n",
      "Epoch 59/100\n",
      "110/110 [==============================] - 7s 62ms/step - loss: 0.4841 - accuracy: 0.8254 - val_loss: 0.4593 - val_accuracy: 0.8213\n",
      "Epoch 60/100\n",
      "110/110 [==============================] - 7s 62ms/step - loss: 0.4898 - accuracy: 0.8217 - val_loss: 0.4684 - val_accuracy: 0.8173\n",
      "Epoch 61/100\n",
      "110/110 [==============================] - 7s 63ms/step - loss: 0.4732 - accuracy: 0.8217 - val_loss: 0.4547 - val_accuracy: 0.8293\n",
      "Epoch 62/100\n",
      "110/110 [==============================] - 7s 63ms/step - loss: 0.4727 - accuracy: 0.8234 - val_loss: 0.4410 - val_accuracy: 0.8240\n",
      "Epoch 63/100\n",
      "110/110 [==============================] - 7s 62ms/step - loss: 0.4786 - accuracy: 0.8206 - val_loss: 0.4738 - val_accuracy: 0.8187\n",
      "Epoch 64/100\n",
      "110/110 [==============================] - 7s 63ms/step - loss: 0.4765 - accuracy: 0.8234 - val_loss: 0.4659 - val_accuracy: 0.8267\n",
      "Epoch 65/100\n",
      "110/110 [==============================] - 7s 64ms/step - loss: 0.4787 - accuracy: 0.8214 - val_loss: 0.4402 - val_accuracy: 0.8387\n",
      "Epoch 66/100\n",
      "110/110 [==============================] - 7s 64ms/step - loss: 0.4666 - accuracy: 0.8280 - val_loss: 0.4353 - val_accuracy: 0.8373\n",
      "Epoch 67/100\n",
      "110/110 [==============================] - 7s 62ms/step - loss: 0.4605 - accuracy: 0.8251 - val_loss: 0.4553 - val_accuracy: 0.8267\n",
      "Epoch 68/100\n",
      "110/110 [==============================] - 7s 62ms/step - loss: 0.4618 - accuracy: 0.8326 - val_loss: 0.4369 - val_accuracy: 0.8280\n",
      "Epoch 69/100\n",
      "110/110 [==============================] - 7s 63ms/step - loss: 0.4596 - accuracy: 0.8311 - val_loss: 0.4351 - val_accuracy: 0.8347\n",
      "Epoch 70/100\n",
      "110/110 [==============================] - 7s 62ms/step - loss: 0.4671 - accuracy: 0.8289 - val_loss: 0.4481 - val_accuracy: 0.8227\n",
      "Epoch 71/100\n",
      "110/110 [==============================] - 7s 63ms/step - loss: 0.4570 - accuracy: 0.8286 - val_loss: 0.4293 - val_accuracy: 0.8360\n",
      "Epoch 72/100\n",
      "110/110 [==============================] - 7s 62ms/step - loss: 0.4493 - accuracy: 0.8340 - val_loss: 0.4343 - val_accuracy: 0.8333\n",
      "Epoch 73/100\n",
      "110/110 [==============================] - 7s 64ms/step - loss: 0.4551 - accuracy: 0.8366 - val_loss: 0.4255 - val_accuracy: 0.8400\n",
      "Epoch 74/100\n",
      "110/110 [==============================] - 7s 64ms/step - loss: 0.4455 - accuracy: 0.8363 - val_loss: 0.4292 - val_accuracy: 0.8400\n",
      "Epoch 75/100\n",
      "110/110 [==============================] - 7s 63ms/step - loss: 0.4419 - accuracy: 0.8369 - val_loss: 0.4346 - val_accuracy: 0.8387\n",
      "Epoch 76/100\n",
      "110/110 [==============================] - 7s 63ms/step - loss: 0.4452 - accuracy: 0.8371 - val_loss: 0.5156 - val_accuracy: 0.8053\n",
      "Epoch 77/100\n",
      "110/110 [==============================] - 7s 63ms/step - loss: 0.4543 - accuracy: 0.8317 - val_loss: 0.4343 - val_accuracy: 0.8333\n",
      "Epoch 78/100\n",
      "110/110 [==============================] - 7s 64ms/step - loss: 0.4398 - accuracy: 0.8334 - val_loss: 0.4162 - val_accuracy: 0.8493\n",
      "Epoch 79/100\n",
      "110/110 [==============================] - 7s 62ms/step - loss: 0.4251 - accuracy: 0.8366 - val_loss: 0.4409 - val_accuracy: 0.8307\n",
      "Epoch 80/100\n",
      "110/110 [==============================] - 7s 62ms/step - loss: 0.4354 - accuracy: 0.8394 - val_loss: 0.4229 - val_accuracy: 0.8453\n",
      "Epoch 81/100\n",
      "110/110 [==============================] - 7s 64ms/step - loss: 0.4279 - accuracy: 0.8349 - val_loss: 0.4090 - val_accuracy: 0.8467\n",
      "Epoch 82/100\n",
      "110/110 [==============================] - 7s 63ms/step - loss: 0.4368 - accuracy: 0.8346 - val_loss: 0.4195 - val_accuracy: 0.8427\n",
      "Epoch 83/100\n",
      "110/110 [==============================] - 7s 63ms/step - loss: 0.4265 - accuracy: 0.8466 - val_loss: 0.4053 - val_accuracy: 0.8453\n",
      "Epoch 84/100\n",
      "110/110 [==============================] - 7s 63ms/step - loss: 0.4143 - accuracy: 0.8517 - val_loss: 0.4136 - val_accuracy: 0.8507\n",
      "Epoch 85/100\n",
      "110/110 [==============================] - 7s 62ms/step - loss: 0.4223 - accuracy: 0.8426 - val_loss: 0.4157 - val_accuracy: 0.8427\n",
      "Epoch 86/100\n",
      "110/110 [==============================] - 7s 62ms/step - loss: 0.4287 - accuracy: 0.8417 - val_loss: 0.4234 - val_accuracy: 0.8360\n",
      "Epoch 87/100\n",
      "110/110 [==============================] - 7s 62ms/step - loss: 0.4108 - accuracy: 0.8491 - val_loss: 0.4407 - val_accuracy: 0.8227\n",
      "Epoch 88/100\n",
      "110/110 [==============================] - 7s 62ms/step - loss: 0.4202 - accuracy: 0.8497 - val_loss: 0.4158 - val_accuracy: 0.8480\n",
      "Epoch 89/100\n",
      "110/110 [==============================] - 7s 62ms/step - loss: 0.4153 - accuracy: 0.8420 - val_loss: 0.4409 - val_accuracy: 0.8280\n",
      "Epoch 90/100\n",
      "110/110 [==============================] - 7s 63ms/step - loss: 0.4096 - accuracy: 0.8451 - val_loss: 0.4024 - val_accuracy: 0.8507\n",
      "Epoch 91/100\n",
      "110/110 [==============================] - 7s 63ms/step - loss: 0.4117 - accuracy: 0.8537 - val_loss: 0.4066 - val_accuracy: 0.8573\n",
      "Epoch 92/100\n",
      "110/110 [==============================] - 7s 63ms/step - loss: 0.4129 - accuracy: 0.8406 - val_loss: 0.4189 - val_accuracy: 0.8493\n",
      "Epoch 93/100\n",
      "110/110 [==============================] - 7s 64ms/step - loss: 0.4105 - accuracy: 0.8506 - val_loss: 0.3970 - val_accuracy: 0.8493\n",
      "Epoch 94/100\n",
      "110/110 [==============================] - 7s 63ms/step - loss: 0.4118 - accuracy: 0.8440 - val_loss: 0.4150 - val_accuracy: 0.8427\n",
      "Epoch 95/100\n",
      "110/110 [==============================] - 7s 64ms/step - loss: 0.4083 - accuracy: 0.8551 - val_loss: 0.3937 - val_accuracy: 0.8547\n",
      "Epoch 96/100\n",
      "110/110 [==============================] - 7s 62ms/step - loss: 0.4027 - accuracy: 0.8497 - val_loss: 0.4059 - val_accuracy: 0.8493\n",
      "Epoch 97/100\n",
      "110/110 [==============================] - 7s 63ms/step - loss: 0.3928 - accuracy: 0.8497 - val_loss: 0.4060 - val_accuracy: 0.8453\n",
      "Epoch 98/100\n",
      "110/110 [==============================] - 7s 64ms/step - loss: 0.4096 - accuracy: 0.8494 - val_loss: 0.3910 - val_accuracy: 0.8547\n",
      "Epoch 99/100\n",
      "110/110 [==============================] - 7s 63ms/step - loss: 0.3934 - accuracy: 0.8540 - val_loss: 0.4307 - val_accuracy: 0.8307\n",
      "Epoch 100/100\n",
      "110/110 [==============================] - 7s 63ms/step - loss: 0.3890 - accuracy: 0.8554 - val_loss: 0.3967 - val_accuracy: 0.8533\n"
     ]
    }
   ],
   "source": [
    "callbacks = [keras.callbacks.ModelCheckpoint(\n",
    "    filepath=\"models/1_CNN_Model_From_Scratch.h5\", save_best_only=True, monitor=\"val_loss\")\n",
    "    #EarlyStopping(monitor='val_loss', mode='auto', patience=3)  \n",
    "    ]\n",
    "\n",
    "model.compile(loss=\"sparse_categorical_crossentropy\", \n",
    "optimizer=keras.optimizers.RMSprop(learning_rate=1e-5),\n",
    "metrics=[\"accuracy\"])\n",
    "history = model.fit(\n",
    "    train_x,\n",
    "    train_y,\n",
    "    epochs=100,\n",
    "    validation_data=(val_x,val_y),\n",
    "    callbacks=callbacks,\n",
    "    shuffle=True\n",
    ")"
   ]
  },
  {
   "cell_type": "markdown",
   "metadata": {},
   "source": [
    "## 4 Plotting the training result"
   ]
  },
  {
   "cell_type": "code",
   "execution_count": 13,
   "metadata": {},
   "outputs": [],
   "source": [
    "def plot_function(history):\n",
    "    accuracy = history.history[\"accuracy\"]\n",
    "    val_accuracy = history.history[\"val_accuracy\"]\n",
    "    loss = history.history[\"loss\"]\n",
    "    val_loss = history.history[\"val_loss\"]\n",
    "    epochs = range(1, len(accuracy) + 1)\n",
    "    plt.plot(epochs, accuracy, \"b\", label=\"Training accuracy\")\n",
    "    plt.plot(epochs, val_accuracy, \"r\", label=\"Validation accuracy\")\n",
    "    plt.title(\"Training and validation accuracy\")\n",
    "    plt.legend()\n",
    "    plt.figure()\n",
    "    plt.plot(epochs, loss, \"b\", label=\"Training loss\")\n",
    "    plt.plot(epochs, val_loss, \"r\", label=\"Validation loss\")\n",
    "    plt.title(\"Training and validation loss\")\n",
    "    plt.legend()\n",
    "    plt.show()"
   ]
  },
  {
   "cell_type": "code",
   "execution_count": 17,
   "metadata": {},
   "outputs": [
    {
     "data": {
      "image/png": "[encoded data removed]",
      "text/plain": [
       "<Figure size 432x288 with 1 Axes>"
      ]
     },
     "metadata": {
      "needs_background": "light"
     },
     "output_type": "display_data"
    },
    {
     "data": {
      "image/png": "[encoded data removed]",
      "text/plain": [
       "<Figure size 432x288 with 1 Axes>"
      ]
     },
     "metadata": {
      "needs_background": "light"
     },
     "output_type": "display_data"
    }
   ],
   "source": [
    "plot_function(history)"
   ]
  },
  {
   "cell_type": "markdown",
   "metadata": {},
   "source": [
    "## 5 Testing the model on the testset"
   ]
  },
  {
   "cell_type": "code",
   "execution_count": 18,
   "metadata": {},
   "outputs": [
    {
     "name": "stdout",
     "output_type": "stream",
     "text": [
      "24/24 [==============================] - 1s 24ms/step - loss: 0.4030 - accuracy: 0.8453\n",
      "Test accuracy: 0.845\n"
     ]
    }
   ],
   "source": [
    "test_model = keras.models.load_model(\"models/1_CNN_Model_From_Scratch.h5\")\n",
    "test_loss, test_acc = test_model.evaluate(test_x, test_y)\n",
    "print(f\"Test accuracy: {test_acc:.3f}\")"
   ]
  },
  {
   "cell_type": "code",
   "execution_count": 19,
   "metadata": {},
   "outputs": [
    {
     "data": {
      "text/plain": [
       "<sklearn.metrics._plot.confusion_matrix.ConfusionMatrixDisplay at 0x2a2a08efd30>"
      ]
     },
     "execution_count": 19,
     "metadata": {},
     "output_type": "execute_result"
    },
    {
     "data": {
      "image/png": "[encoded data removed]",
      "text/plain": [
       "<Figure size 432x288 with 2 Axes>"
      ]
     },
     "metadata": {
      "needs_background": "light"
     },
     "output_type": "display_data"
    }
   ],
   "source": [
    "from sklearn import metrics\n",
    "from sklearn.metrics import confusion_matrix, ConfusionMatrixDisplay\n",
    "predictions = test_model.predict(test_x) \n",
    "y_pred = (predictions >= 0.5)\n",
    "\n",
    "matrix = metrics.confusion_matrix(test_y, y_pred.argmax(axis=1))\n",
    "cmd = ConfusionMatrixDisplay(matrix, display_labels=['bee','butterfly','cat','dog','elephant'])\n",
    "cmd.plot()\n"
   ]
  }
 ],
 "metadata": {
  "interpreter": {
   "hash": "f1b21a831ca0887bb1ca23965249b487d59158d2ac98669dee611127e8c84e44"
  },
  "kernelspec": {
   "display_name": "Python 3.9.7 ('base')",
   "language": "python",
   "name": "python3"
  },
  "language_info": {
   "codemirror_mode": {
    "name": "ipython",
    "version": 3
   },
   "file_extension": ".py",
   "mimetype": "text/x-python",
   "name": "python",
   "nbconvert_exporter": "python",
   "pygments_lexer": "ipython3",
   "version": "3.9.7"
  },
  "orig_nbformat": 4
 },
 "nbformat": 4,
 "nbformat_minor": 2
}
