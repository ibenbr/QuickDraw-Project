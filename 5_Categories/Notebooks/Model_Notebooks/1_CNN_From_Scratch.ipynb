{
 "cells": [
  {
   "cell_type": "markdown",
   "metadata": {},
   "source": [
    "# Model 1: CNN from scratch"
   ]
  },
  {
   "cell_type": "markdown",
   "metadata": {},
   "source": [
    "## 1 Imports"
   ]
  },
  {
   "cell_type": "code",
   "execution_count": 1,
   "metadata": {},
   "outputs": [],
   "source": [
    "import numpy as np \n",
    "import pandas as pd\n",
    "\n",
    "import tensorflow as tf\n",
    "from tensorflow import keras\n",
    "from keras.models import Sequential\n",
    "from keras import layers\n",
    "from keras.layers import Conv2D, MaxPooling2D, MaxPool2D, Dense, Dropout, Flatten\n",
    "from keras.metrics import top_k_categorical_accuracy\n",
    "from keras.callbacks import ModelCheckpoint, ReduceLROnPlateau, EarlyStopping\n",
    "from sklearn.model_selection import train_test_split\n",
    "from tensorflow.keras.preprocessing import image_dataset_from_directory\n",
    "import matplotlib.pyplot as plt\n",
    "import os\n",
    "import cv2\n"
   ]
  },
  {
   "cell_type": "markdown",
   "metadata": {},
   "source": [
    "## 2 Preprocessing the data"
   ]
  },
  {
   "cell_type": "markdown",
   "metadata": {},
   "source": [
    "Fetching the already split dataset"
   ]
  },
  {
   "cell_type": "code",
   "execution_count": 2,
   "metadata": {},
   "outputs": [],
   "source": [
    "base_directory = \"../../Data/Splitted_Dataset/\"\n",
    "\n",
    "train_path=base_directory+\"/train\"\n",
    "test_path=base_directory+\"/test\"\n",
    "val_path=base_directory+\"/val\""
   ]
  },
  {
   "cell_type": "code",
   "execution_count": 3,
   "metadata": {},
   "outputs": [],
   "source": [
    "x_train=[]\n",
    "\n",
    "for folder in os.listdir(train_path):\n",
    "\n",
    "    sub_path=train_path+\"/\"+folder\n",
    "\n",
    "    for img in os.listdir(sub_path):\n",
    "        image_path=sub_path+\"/\"+img\n",
    "        img_arr=cv2.imread(image_path)\n",
    "        x_train.append(img_arr)\n",
    "\n",
    "x_test=[]\n",
    "\n",
    "for folder in os.listdir(test_path):\n",
    "    sub_path=test_path+\"/\"+folder\n",
    "\n",
    "    for img in os.listdir(sub_path):\n",
    "        image_path=sub_path+\"/\"+img\n",
    "        img_arr=cv2.imread(image_path)\n",
    "        x_test.append(img_arr)\n",
    "\n",
    "x_val=[]\n",
    "\n",
    "for folder in os.listdir(val_path):\n",
    "    sub_path=val_path+\"/\"+folder\n",
    "\n",
    "    for img in os.listdir(sub_path):\n",
    "        image_path=sub_path+\"/\"+img\n",
    "        img_arr=cv2.imread(image_path)\n",
    "        x_val.append(img_arr)"
   ]
  },
  {
   "cell_type": "code",
   "execution_count": 4,
   "metadata": {},
   "outputs": [],
   "source": [
    "train_x=np.array(x_train)\n",
    "test_x=np.array(x_test)\n",
    "val_x=np.array(x_val)"
   ]
  },
  {
   "cell_type": "code",
   "execution_count": 5,
   "metadata": {},
   "outputs": [],
   "source": [
    "train_x=train_x/255.0\n",
    "test_x=test_x/255.0\n",
    "val_x=val_x/255.0"
   ]
  },
  {
   "cell_type": "code",
   "execution_count": 6,
   "metadata": {},
   "outputs": [],
   "source": [
    "from keras_preprocessing.image import ImageDataGenerator\n",
    "train_datagen = ImageDataGenerator(rescale = 1./255)\n",
    "test_datagen = ImageDataGenerator(rescale = 1./255)\n",
    "val_datagen = ImageDataGenerator(rescale = 1./255)"
   ]
  },
  {
   "cell_type": "code",
   "execution_count": 7,
   "metadata": {},
   "outputs": [
    {
     "name": "stdout",
     "output_type": "stream",
     "text": [
      "Found 3500 images belonging to 5 classes.\n",
      "Found 750 images belonging to 5 classes.\n",
      "Found 750 images belonging to 5 classes.\n"
     ]
    }
   ],
   "source": [
    "training_set = train_datagen.flow_from_directory(train_path,\n",
    "                                                 target_size = (170,256),\n",
    "                                                 batch_size = 32,\n",
    "                                                 class_mode = 'categorical',\n",
    "                                                 shuffle=True)\n",
    "test_set = test_datagen.flow_from_directory(test_path,\n",
    "                                            target_size = (170,256),\n",
    "                                            batch_size = 32,\n",
    "                                            class_mode = 'categorical',\n",
    "                                            shuffle=True)\n",
    "val_set = val_datagen.flow_from_directory(val_path,\n",
    "                                            target_size = (170,256),\n",
    "                                            batch_size = 32,\n",
    "                                            class_mode = 'categorical',\n",
    "                                            shuffle=True)"
   ]
  },
  {
   "cell_type": "code",
   "execution_count": 8,
   "metadata": {},
   "outputs": [],
   "source": [
    "train_y=training_set.classes\n",
    "test_y=test_set.classes\n",
    "val_y=val_set.classes"
   ]
  },
  {
   "cell_type": "code",
   "execution_count": 9,
   "metadata": {},
   "outputs": [
    {
     "data": {
      "text/plain": [
       "{'bee': 0, 'butterfly': 1, 'cat': 2, 'dog': 3, 'elephant': 4}"
      ]
     },
     "execution_count": 9,
     "metadata": {},
     "output_type": "execute_result"
    }
   ],
   "source": [
    "training_set.class_indices\n"
   ]
  },
  {
   "cell_type": "code",
   "execution_count": 10,
   "metadata": {},
   "outputs": [
    {
     "data": {
      "text/plain": [
       "((3500,), (750,), (750,))"
      ]
     },
     "execution_count": 10,
     "metadata": {},
     "output_type": "execute_result"
    }
   ],
   "source": [
    "train_y.shape,test_y.shape,val_y.shape\n"
   ]
  },
  {
   "cell_type": "markdown",
   "metadata": {},
   "source": [
    "## 3 Training the model"
   ]
  },
  {
   "cell_type": "code",
   "execution_count": 11,
   "metadata": {},
   "outputs": [
    {
     "name": "stdout",
     "output_type": "stream",
     "text": [
      "Model: \"model\"\n",
      "_________________________________________________________________\n",
      " Layer (type)                Output Shape              Param #   \n",
      "=================================================================\n",
      " input_1 (InputLayer)        [(None, 170, 256, 3)]     0         \n",
      "                                                                 \n",
      " dropout (Dropout)           (None, 170, 256, 3)       0         \n",
      "                                                                 \n",
      " conv2d (Conv2D)             (None, 168, 254, 32)      896       \n",
      "                                                                 \n",
      " dropout_1 (Dropout)         (None, 168, 254, 32)      0         \n",
      "                                                                 \n",
      " max_pooling2d (MaxPooling2D  (None, 84, 127, 32)      0         \n",
      " )                                                               \n",
      "                                                                 \n",
      " dropout_2 (Dropout)         (None, 84, 127, 32)       0         \n",
      "                                                                 \n",
      " conv2d_1 (Conv2D)           (None, 82, 125, 64)       18496     \n",
      "                                                                 \n",
      " dropout_3 (Dropout)         (None, 82, 125, 64)       0         \n",
      "                                                                 \n",
      " max_pooling2d_1 (MaxPooling  (None, 41, 62, 64)       0         \n",
      " 2D)                                                             \n",
      "                                                                 \n",
      " dropout_4 (Dropout)         (None, 41, 62, 64)        0         \n",
      "                                                                 \n",
      " conv2d_2 (Conv2D)           (None, 39, 60, 128)       73856     \n",
      "                                                                 \n",
      " dropout_5 (Dropout)         (None, 39, 60, 128)       0         \n",
      "                                                                 \n",
      " max_pooling2d_2 (MaxPooling  (None, 19, 30, 128)      0         \n",
      " 2D)                                                             \n",
      "                                                                 \n",
      " dropout_6 (Dropout)         (None, 19, 30, 128)       0         \n",
      "                                                                 \n",
      " flatten (Flatten)           (None, 72960)             0         \n",
      "                                                                 \n",
      " dense (Dense)               (None, 256)               18678016  \n",
      "                                                                 \n",
      " dropout_7 (Dropout)         (None, 256)               0         \n",
      "                                                                 \n",
      " dense_1 (Dense)             (None, 5)                 1285      \n",
      "                                                                 \n",
      "=================================================================\n",
      "Total params: 18,772,549\n",
      "Trainable params: 18,772,549\n",
      "Non-trainable params: 0\n",
      "_________________________________________________________________\n"
     ]
    }
   ],
   "source": [
    "inputs = keras.Input(shape=(170,256,3))\n",
    "x = Sequential()\n",
    "x = layers.Dropout(0.5)(inputs)\n",
    "x = layers.Conv2D(filters=32, kernel_size=3, activation=\"relu\")(x)\n",
    "x = layers.Dropout(0.2)(x)\n",
    "x = layers.MaxPooling2D(pool_size=2)(x)\n",
    "x = layers.Dropout(0.1)(x)\n",
    "x = layers.Conv2D(filters=64, kernel_size=3, activation=\"relu\")(x)\n",
    "x = layers.Dropout(0.2)(x)\n",
    "x = layers.MaxPooling2D(pool_size=2)(x)\n",
    "x = layers.Dropout(0.1)(x)\n",
    "x = layers.Conv2D(filters=128, kernel_size=3, activation=\"relu\")(x)\n",
    "x = layers.Dropout(0.2)(x)\n",
    "x = layers.MaxPooling2D(pool_size=2)(x)\n",
    "x = layers.Dropout(0.1)(x)\n",
    "x = layers.Flatten()(x)\n",
    "x = layers.Dense(256, activation='relu')(x)\n",
    "x = layers.Dropout(0.5)(x)\n",
    "outputs = layers.Dense(5, activation=\"softmax\")(x)\n",
    "model = keras.Model(inputs=inputs, outputs=outputs)\n",
    "model.summary()"
   ]
  },
  {
   "cell_type": "code",
   "execution_count": 12,
   "metadata": {},
   "outputs": [
    {
     "name": "stdout",
     "output_type": "stream",
     "text": [
      "Epoch 1/40\n",
      "110/110 [==============================] - 14s 91ms/step - loss: 1.3093 - accuracy: 0.4914 - val_loss: 1.3909 - val_accuracy: 0.5867\n",
      "Epoch 2/40\n",
      "110/110 [==============================] - 9s 83ms/step - loss: 1.0151 - accuracy: 0.6194 - val_loss: 1.3058 - val_accuracy: 0.6000\n",
      "Epoch 3/40\n",
      "110/110 [==============================] - 9s 84ms/step - loss: 0.9368 - accuracy: 0.6489 - val_loss: 1.2548 - val_accuracy: 0.6253\n",
      "Epoch 4/40\n",
      "110/110 [==============================] - 9s 84ms/step - loss: 0.8786 - accuracy: 0.6709 - val_loss: 1.2239 - val_accuracy: 0.6360\n",
      "Epoch 5/40\n",
      "110/110 [==============================] - 9s 84ms/step - loss: 0.8322 - accuracy: 0.6906 - val_loss: 1.1955 - val_accuracy: 0.6533\n",
      "Epoch 6/40\n",
      "110/110 [==============================] - 9s 84ms/step - loss: 0.7929 - accuracy: 0.7117 - val_loss: 1.1779 - val_accuracy: 0.6667\n",
      "Epoch 7/40\n",
      "110/110 [==============================] - 9s 81ms/step - loss: 0.7617 - accuracy: 0.7223 - val_loss: 1.1440 - val_accuracy: 0.6653\n",
      "Epoch 8/40\n",
      "110/110 [==============================] - 9s 79ms/step - loss: 0.7190 - accuracy: 0.7366 - val_loss: 1.1229 - val_accuracy: 0.6747\n",
      "Epoch 9/40\n",
      "110/110 [==============================] - 9s 86ms/step - loss: 0.6868 - accuracy: 0.7471 - val_loss: 1.0945 - val_accuracy: 0.6827\n",
      "Epoch 10/40\n",
      "110/110 [==============================] - 9s 79ms/step - loss: 0.6611 - accuracy: 0.7626 - val_loss: 1.0817 - val_accuracy: 0.6947\n",
      "Epoch 11/40\n",
      "110/110 [==============================] - 8s 77ms/step - loss: 0.6252 - accuracy: 0.7757 - val_loss: 1.0620 - val_accuracy: 0.6893\n",
      "Epoch 12/40\n",
      "110/110 [==============================] - 8s 77ms/step - loss: 0.5822 - accuracy: 0.7889 - val_loss: 1.0451 - val_accuracy: 0.7160\n",
      "Epoch 13/40\n",
      "110/110 [==============================] - 8s 76ms/step - loss: 0.5580 - accuracy: 0.7971 - val_loss: 1.0158 - val_accuracy: 0.7040\n",
      "Epoch 14/40\n",
      "110/110 [==============================] - 8s 76ms/step - loss: 0.5294 - accuracy: 0.8114 - val_loss: 0.9787 - val_accuracy: 0.7267\n",
      "Epoch 15/40\n",
      "110/110 [==============================] - 8s 77ms/step - loss: 0.4983 - accuracy: 0.8211 - val_loss: 0.9582 - val_accuracy: 0.7360\n",
      "Epoch 16/40\n",
      "110/110 [==============================] - 8s 76ms/step - loss: 0.4794 - accuracy: 0.8323 - val_loss: 0.9552 - val_accuracy: 0.7347\n",
      "Epoch 17/40\n",
      "110/110 [==============================] - 8s 76ms/step - loss: 0.4540 - accuracy: 0.8409 - val_loss: 0.9402 - val_accuracy: 0.7440\n",
      "Epoch 18/40\n",
      "110/110 [==============================] - 8s 77ms/step - loss: 0.4226 - accuracy: 0.8554 - val_loss: 0.8978 - val_accuracy: 0.7373\n",
      "Epoch 19/40\n",
      "110/110 [==============================] - 9s 83ms/step - loss: 0.3953 - accuracy: 0.8626 - val_loss: 0.8889 - val_accuracy: 0.7480\n",
      "Epoch 20/40\n",
      "110/110 [==============================] - 9s 80ms/step - loss: 0.3942 - accuracy: 0.8589 - val_loss: 0.8774 - val_accuracy: 0.7520\n",
      "Epoch 21/40\n",
      "110/110 [==============================] - 8s 74ms/step - loss: 0.3600 - accuracy: 0.8729 - val_loss: 0.8540 - val_accuracy: 0.7573\n",
      "Epoch 22/40\n",
      "110/110 [==============================] - 8s 74ms/step - loss: 0.3339 - accuracy: 0.8869 - val_loss: 0.8488 - val_accuracy: 0.7613\n",
      "Epoch 23/40\n",
      "110/110 [==============================] - 8s 74ms/step - loss: 0.3216 - accuracy: 0.8903 - val_loss: 0.8250 - val_accuracy: 0.7560\n",
      "Epoch 24/40\n",
      "110/110 [==============================] - 8s 74ms/step - loss: 0.3082 - accuracy: 0.8937 - val_loss: 0.7987 - val_accuracy: 0.7720\n",
      "Epoch 25/40\n",
      "110/110 [==============================] - 8s 71ms/step - loss: 0.2834 - accuracy: 0.9011 - val_loss: 0.8027 - val_accuracy: 0.7680\n",
      "Epoch 26/40\n",
      "110/110 [==============================] - 8s 74ms/step - loss: 0.2738 - accuracy: 0.9029 - val_loss: 0.7749 - val_accuracy: 0.7733\n",
      "Epoch 27/40\n",
      "110/110 [==============================] - 8s 74ms/step - loss: 0.2539 - accuracy: 0.9134 - val_loss: 0.7597 - val_accuracy: 0.7693\n",
      "Epoch 28/40\n",
      "110/110 [==============================] - 8s 74ms/step - loss: 0.2419 - accuracy: 0.9160 - val_loss: 0.7537 - val_accuracy: 0.7787\n",
      "Epoch 29/40\n",
      "110/110 [==============================] - 8s 74ms/step - loss: 0.2287 - accuracy: 0.9234 - val_loss: 0.7359 - val_accuracy: 0.7600\n",
      "Epoch 30/40\n",
      "110/110 [==============================] - 8s 74ms/step - loss: 0.2179 - accuracy: 0.9266 - val_loss: 0.7195 - val_accuracy: 0.7693\n",
      "Epoch 31/40\n",
      "110/110 [==============================] - 8s 74ms/step - loss: 0.2036 - accuracy: 0.9329 - val_loss: 0.7105 - val_accuracy: 0.7707\n",
      "Epoch 32/40\n",
      "110/110 [==============================] - 8s 73ms/step - loss: 0.2000 - accuracy: 0.9300 - val_loss: 0.6998 - val_accuracy: 0.7680\n",
      "Epoch 33/40\n",
      "110/110 [==============================] - 8s 74ms/step - loss: 0.1767 - accuracy: 0.9420 - val_loss: 0.6811 - val_accuracy: 0.7733\n",
      "Epoch 34/40\n",
      "110/110 [==============================] - 8s 71ms/step - loss: 0.1674 - accuracy: 0.9477 - val_loss: 0.6884 - val_accuracy: 0.7640\n",
      "Epoch 35/40\n",
      "110/110 [==============================] - 8s 74ms/step - loss: 0.1627 - accuracy: 0.9451 - val_loss: 0.6622 - val_accuracy: 0.7760\n",
      "Epoch 36/40\n",
      "110/110 [==============================] - 8s 74ms/step - loss: 0.1425 - accuracy: 0.9531 - val_loss: 0.6506 - val_accuracy: 0.7627\n",
      "Epoch 37/40\n",
      "110/110 [==============================] - 8s 75ms/step - loss: 0.1455 - accuracy: 0.9523 - val_loss: 0.6631 - val_accuracy: 0.7653\n",
      "Epoch 38/40\n",
      "110/110 [==============================] - 9s 83ms/step - loss: 0.1330 - accuracy: 0.9520 - val_loss: 0.6486 - val_accuracy: 0.7640\n",
      "Epoch 39/40\n",
      "110/110 [==============================] - 9s 79ms/step - loss: 0.1302 - accuracy: 0.9574 - val_loss: 0.6464 - val_accuracy: 0.7733\n",
      "Epoch 40/40\n",
      "110/110 [==============================] - 8s 76ms/step - loss: 0.1222 - accuracy: 0.9589 - val_loss: 0.6410 - val_accuracy: 0.7720\n"
     ]
    }
   ],
   "source": [
    "callbacks = [keras.callbacks.ModelCheckpoint(\n",
    "    filepath=\"models/1_CNN_Model_From_Scratch.h5\", save_best_only=True, monitor=\"val_loss\"),\n",
    "    EarlyStopping(monitor='val_loss', mode='auto', patience=3)  ]\n",
    "\n",
    "model.compile(loss=\"sparse_categorical_crossentropy\", \n",
    "optimizer=keras.optimizers.RMSprop(learning_rate=1e-5),\n",
    "metrics=[\"accuracy\"])\n",
    "history = model.fit(\n",
    "    train_x,\n",
    "    train_y,\n",
    "    epochs=40,\n",
    "    validation_data=(val_x,val_y),\n",
    "    callbacks=callbacks,\n",
    "    shuffle=True\n",
    ")"
   ]
  },
  {
   "cell_type": "markdown",
   "metadata": {},
   "source": [
    "## 4 Plotting the training result"
   ]
  },
  {
   "cell_type": "code",
   "execution_count": 13,
   "metadata": {},
   "outputs": [],
   "source": [
    "def plot_function(history):\n",
    "    accuracy = history.history[\"accuracy\"]\n",
    "    val_accuracy = history.history[\"val_accuracy\"]\n",
    "    loss = history.history[\"loss\"]\n",
    "    val_loss = history.history[\"val_loss\"]\n",
    "    epochs = range(1, len(accuracy) + 1)\n",
    "    plt.plot(epochs, accuracy, \"b\", label=\"Training accuracy\")\n",
    "    plt.plot(epochs, val_accuracy, \"r\", label=\"Validation accuracy\")\n",
    "    plt.title(\"Training and validation accuracy\")\n",
    "    plt.legend()\n",
    "    plt.figure()\n",
    "    plt.plot(epochs, loss, \"b\", label=\"Training loss\")\n",
    "    plt.plot(epochs, val_loss, \"r\", label=\"Validation loss\")\n",
    "    plt.title(\"Training and validation loss\")\n",
    "    plt.legend()\n",
    "    plt.show()"
   ]
  },
  {
   "cell_type": "markdown",
   "metadata": {},
   "source": [
    "Conclusion: this model is clearly overfitting from epoch 4 onwards."
   ]
  },
  {
   "cell_type": "code",
   "execution_count": 16,
   "metadata": {},
   "outputs": [
    {
     "data": {
      "image/png": "[encoded data removed]",
      "text/plain": [
       "<Figure size 432x288 with 1 Axes>"
      ]
     },
     "metadata": {
      "needs_background": "light"
     },
     "output_type": "display_data"
    },
    {
     "data": {
      "image/png": "[encoded data removed]",
      "text/plain": [
       "<Figure size 432x288 with 1 Axes>"
      ]
     },
     "metadata": {
      "needs_background": "light"
     },
     "output_type": "display_data"
    }
   ],
   "source": [
    "plot_function(history)"
   ]
  },
  {
   "cell_type": "markdown",
   "metadata": {},
   "source": [
    "## 5 Testing the model on the testset"
   ]
  },
  {
   "cell_type": "code",
   "execution_count": 17,
   "metadata": {},
   "outputs": [
    {
     "name": "stdout",
     "output_type": "stream",
     "text": [
      "24/24 [==============================] - 1s 22ms/step - loss: 0.6018 - accuracy: 0.7933\n",
      "Test accuracy: 0.793\n"
     ]
    }
   ],
   "source": [
    "test_model = keras.models.load_model(\"models/1_CNN_Model_From_Scratch.h5\")\n",
    "test_loss, test_acc = test_model.evaluate(test_x, test_y)\n",
    "print(f\"Test accuracy: {test_acc:.3f}\")"
   ]
  }
 ],
 "metadata": {
  "interpreter": {
   "hash": "f1b21a831ca0887bb1ca23965249b487d59158d2ac98669dee611127e8c84e44"
  },
  "kernelspec": {
   "display_name": "Python 3.9.7 ('base')",
   "language": "python",
   "name": "python3"
  },
  "language_info": {
   "codemirror_mode": {
    "name": "ipython",
    "version": 3
   },
   "file_extension": ".py",
   "mimetype": "text/x-python",
   "name": "python",
   "nbconvert_exporter": "python",
   "pygments_lexer": "ipython3",
   "version": "3.9.7"
  },
  "orig_nbformat": 4
 },
 "nbformat": 4,
 "nbformat_minor": 2
}
