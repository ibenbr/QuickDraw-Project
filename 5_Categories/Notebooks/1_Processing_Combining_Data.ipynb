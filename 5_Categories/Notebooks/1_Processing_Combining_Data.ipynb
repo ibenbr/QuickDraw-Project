{
 "cells": [
  {
   "cell_type": "markdown",
   "metadata": {},
   "source": [
    "# 1 Imports"
   ]
  },
  {
   "cell_type": "code",
   "execution_count": 1,
   "metadata": {},
   "outputs": [],
   "source": [
    "import pandas as pd\n",
    "import os\n",
    "import glob"
   ]
  },
  {
   "cell_type": "markdown",
   "metadata": {},
   "source": [
    "# 2 Loading & processing the data"
   ]
  },
  {
   "cell_type": "code",
   "execution_count": 2,
   "metadata": {},
   "outputs": [
    {
     "data": {
      "text/html": [
       "<div>\n",
       "<style scoped>\n",
       "    .dataframe tbody tr th:only-of-type {\n",
       "        vertical-align: middle;\n",
       "    }\n",
       "\n",
       "    .dataframe tbody tr th {\n",
       "        vertical-align: top;\n",
       "    }\n",
       "\n",
       "    .dataframe thead th {\n",
       "        text-align: right;\n",
       "    }\n",
       "</style>\n",
       "<table border=\"1\" class=\"dataframe\">\n",
       "  <thead>\n",
       "    <tr style=\"text-align: right;\">\n",
       "      <th></th>\n",
       "      <th>countrycode</th>\n",
       "      <th>drawing</th>\n",
       "      <th>key_id</th>\n",
       "      <th>timestamp</th>\n",
       "      <th>word</th>\n",
       "    </tr>\n",
       "  </thead>\n",
       "  <tbody>\n",
       "    <tr>\n",
       "      <th>0</th>\n",
       "      <td>GB</td>\n",
       "      <td>[[[114, 97, 74, 54, 35, 17, 7, 1, 0, 4, 21, 47...</td>\n",
       "      <td>4817223078117376</td>\n",
       "      <td>2017-03-09 14:21:20.910430</td>\n",
       "      <td>butterfly</td>\n",
       "    </tr>\n",
       "    <tr>\n",
       "      <th>1</th>\n",
       "      <td>RU</td>\n",
       "      <td>[[[8, 1, 4, 0, 15, 23, 33, 62, 73, 84, 85, 75,...</td>\n",
       "      <td>6574914117042176</td>\n",
       "      <td>2017-03-01 16:39:32.905370</td>\n",
       "      <td>butterfly</td>\n",
       "    </tr>\n",
       "    <tr>\n",
       "      <th>2</th>\n",
       "      <td>US</td>\n",
       "      <td>[[[73, 67, 44, 28, 16, 10, 14, 24, 48, 34, 17,...</td>\n",
       "      <td>5418544609099776</td>\n",
       "      <td>2017-01-30 17:06:37.535510</td>\n",
       "      <td>butterfly</td>\n",
       "    </tr>\n",
       "    <tr>\n",
       "      <th>3</th>\n",
       "      <td>CZ</td>\n",
       "      <td>[[[103, 96, 86, 92, 104, 113, 119, 98], [78, 6...</td>\n",
       "      <td>5955720593801216</td>\n",
       "      <td>2017-03-06 10:15:15.828450</td>\n",
       "      <td>butterfly</td>\n",
       "    </tr>\n",
       "    <tr>\n",
       "      <th>4</th>\n",
       "      <td>US</td>\n",
       "      <td>[[[92, 90, 102, 117, 131, 140, 148, 149, 138, ...</td>\n",
       "      <td>5627133969825792</td>\n",
       "      <td>2017-03-18 00:18:52.148660</td>\n",
       "      <td>butterfly</td>\n",
       "    </tr>\n",
       "  </tbody>\n",
       "</table>\n",
       "</div>"
      ],
      "text/plain": [
       "  countrycode                                            drawing  \\\n",
       "0          GB  [[[114, 97, 74, 54, 35, 17, 7, 1, 0, 4, 21, 47...   \n",
       "1          RU  [[[8, 1, 4, 0, 15, 23, 33, 62, 73, 84, 85, 75,...   \n",
       "2          US  [[[73, 67, 44, 28, 16, 10, 14, 24, 48, 34, 17,...   \n",
       "3          CZ  [[[103, 96, 86, 92, 104, 113, 119, 98], [78, 6...   \n",
       "4          US  [[[92, 90, 102, 117, 131, 140, 148, 149, 138, ...   \n",
       "\n",
       "             key_id                   timestamp       word  \n",
       "0  4817223078117376  2017-03-09 14:21:20.910430  butterfly  \n",
       "1  6574914117042176  2017-03-01 16:39:32.905370  butterfly  \n",
       "2  5418544609099776  2017-01-30 17:06:37.535510  butterfly  \n",
       "3  5955720593801216  2017-03-06 10:15:15.828450  butterfly  \n",
       "4  5627133969825792  2017-03-18 00:18:52.148660  butterfly  "
      ]
     },
     "execution_count": 2,
     "metadata": {},
     "output_type": "execute_result"
    }
   ],
   "source": [
    "#getting the data from 5 different csvs and combining them in to 1 pandas dataframe\n",
    "df = pd.concat(map(pd.read_csv, glob.glob(os.path.join('../Data/5_animals/', \"*.csv\"))),ignore_index=True)\n",
    "\n",
    "#We drop the Recognized=False rows as there is no point in having unrecognized drawings who will not contribute to the training phase.\n",
    "df = df[df[\"recognized\"]==True].reset_index(drop=True)\n",
    "\n",
    "#the recognized column is now uneccesary and can be dropped\n",
    "df = df.drop(columns=['recognized'])\n",
    "\n",
    "#lets check out the dataframe in its current state\n",
    "df.head()\n"
   ]
  },
  {
   "cell_type": "code",
   "execution_count": 3,
   "metadata": {},
   "outputs": [
    {
     "data": {
      "text/plain": [
       "kangaroo     152511\n",
       "dog          143285\n",
       "butterfly    114549\n",
       "elephant     104986\n",
       "cat          103031\n",
       "Name: word, dtype: int64"
      ]
     },
     "execution_count": 3,
     "metadata": {},
     "output_type": "execute_result"
    }
   ],
   "source": [
    "#finding the amount of rows for each category\n",
    "df['word'].value_counts()"
   ]
  },
  {
   "cell_type": "markdown",
   "metadata": {},
   "source": [
    "As you can see above, the dataset is not balanced yet. This will be done in the next step by keeping 10k of each category."
   ]
  },
  {
   "cell_type": "code",
   "execution_count": 4,
   "metadata": {},
   "outputs": [],
   "source": [
    "#balancing of the dataset: keep 10000 rows from each animal\n",
    "df = df.groupby('word').sample(n=10000, random_state=1).reset_index(drop=True)"
   ]
  },
  {
   "cell_type": "code",
   "execution_count": 5,
   "metadata": {},
   "outputs": [
    {
     "data": {
      "text/plain": [
       "butterfly    10000\n",
       "cat          10000\n",
       "dog          10000\n",
       "elephant     10000\n",
       "kangaroo     10000\n",
       "Name: word, dtype: int64"
      ]
     },
     "execution_count": 5,
     "metadata": {},
     "output_type": "execute_result"
    }
   ],
   "source": [
    "df['word'].value_counts()"
   ]
  },
  {
   "cell_type": "markdown",
   "metadata": {},
   "source": [
    "Now there are 10k images of every category in the dataframe. This dataframe combining and filtering the information of the 5 animals will now be written to a csv."
   ]
  },
  {
   "cell_type": "code",
   "execution_count": 6,
   "metadata": {},
   "outputs": [],
   "source": [
    "#shuffling the dataframe\n",
    "df = df.sample(frac=1).reset_index(drop=True) \n",
    "\n",
    "# Writing the combined data to a single csv\n",
    "df.to_csv('../Data/five_animals.csv', index=False)"
   ]
  }
 ],
 "metadata": {
  "interpreter": {
   "hash": "f1b21a831ca0887bb1ca23965249b487d59158d2ac98669dee611127e8c84e44"
  },
  "kernelspec": {
   "display_name": "Python 3.9.7 ('base')",
   "language": "python",
   "name": "python3"
  },
  "language_info": {
   "codemirror_mode": {
    "name": "ipython",
    "version": 3
   },
   "file_extension": ".py",
   "mimetype": "text/x-python",
   "name": "python",
   "nbconvert_exporter": "python",
   "pygments_lexer": "ipython3",
   "version": "3.9.7"
  },
  "orig_nbformat": 4
 },
 "nbformat": 4,
 "nbformat_minor": 2
}
