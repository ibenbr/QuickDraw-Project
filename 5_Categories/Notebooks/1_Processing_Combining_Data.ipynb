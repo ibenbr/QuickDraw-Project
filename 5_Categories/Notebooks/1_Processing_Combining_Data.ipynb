{
 "cells": [
  {
   "cell_type": "markdown",
   "metadata": {},
   "source": [
    "# 1 Imports"
   ]
  },
  {
   "cell_type": "code",
   "execution_count": 1,
   "metadata": {},
   "outputs": [],
   "source": [
    "import pandas as pd\n",
    "import os\n",
    "import glob"
   ]
  },
  {
   "cell_type": "markdown",
   "metadata": {},
   "source": [
    "# 2 Loading & processing the data"
   ]
  },
  {
   "cell_type": "code",
   "execution_count": 2,
   "metadata": {},
   "outputs": [
    {
     "data": {
      "text/html": [
       "<div>\n",
       "<style scoped>\n",
       "    .dataframe tbody tr th:only-of-type {\n",
       "        vertical-align: middle;\n",
       "    }\n",
       "\n",
       "    .dataframe tbody tr th {\n",
       "        vertical-align: top;\n",
       "    }\n",
       "\n",
       "    .dataframe thead th {\n",
       "        text-align: right;\n",
       "    }\n",
       "</style>\n",
       "<table border=\"1\" class=\"dataframe\">\n",
       "  <thead>\n",
       "    <tr style=\"text-align: right;\">\n",
       "      <th></th>\n",
       "      <th>countrycode</th>\n",
       "      <th>drawing</th>\n",
       "      <th>key_id</th>\n",
       "      <th>timestamp</th>\n",
       "      <th>word</th>\n",
       "    </tr>\n",
       "  </thead>\n",
       "  <tbody>\n",
       "    <tr>\n",
       "      <th>0</th>\n",
       "      <td>US</td>\n",
       "      <td>[[[200, 150, 116, 83, 73, 69, 67, 83, 104, 119...</td>\n",
       "      <td>4727732971765760</td>\n",
       "      <td>2017-03-06 00:28:58.856880</td>\n",
       "      <td>bee</td>\n",
       "    </tr>\n",
       "    <tr>\n",
       "      <th>1</th>\n",
       "      <td>GB</td>\n",
       "      <td>[[[125, 82, 50, 17, 3, 1, 15, 36, 62, 122, 174...</td>\n",
       "      <td>5805032622522368</td>\n",
       "      <td>2017-03-25 20:57:05.022320</td>\n",
       "      <td>bee</td>\n",
       "    </tr>\n",
       "    <tr>\n",
       "      <th>2</th>\n",
       "      <td>CZ</td>\n",
       "      <td>[[[96, 108, 198, 224, 239, 254, 255, 248, 210,...</td>\n",
       "      <td>5257992352038912</td>\n",
       "      <td>2017-03-13 08:35:34.597420</td>\n",
       "      <td>bee</td>\n",
       "    </tr>\n",
       "    <tr>\n",
       "      <th>3</th>\n",
       "      <td>US</td>\n",
       "      <td>[[[237, 201, 130, 79, 44, 23, 5, 0, 5, 34, 73,...</td>\n",
       "      <td>6401386805723136</td>\n",
       "      <td>2017-01-23 20:39:27.306980</td>\n",
       "      <td>bee</td>\n",
       "    </tr>\n",
       "    <tr>\n",
       "      <th>4</th>\n",
       "      <td>US</td>\n",
       "      <td>[[[178, 172, 111, 62, 54, 24, 16, 1, 1, 10, 17...</td>\n",
       "      <td>4558220662145024</td>\n",
       "      <td>2017-03-23 16:00:56.044640</td>\n",
       "      <td>bee</td>\n",
       "    </tr>\n",
       "  </tbody>\n",
       "</table>\n",
       "</div>"
      ],
      "text/plain": [
       "  countrycode                                            drawing  \\\n",
       "0          US  [[[200, 150, 116, 83, 73, 69, 67, 83, 104, 119...   \n",
       "1          GB  [[[125, 82, 50, 17, 3, 1, 15, 36, 62, 122, 174...   \n",
       "2          CZ  [[[96, 108, 198, 224, 239, 254, 255, 248, 210,...   \n",
       "3          US  [[[237, 201, 130, 79, 44, 23, 5, 0, 5, 34, 73,...   \n",
       "4          US  [[[178, 172, 111, 62, 54, 24, 16, 1, 1, 10, 17...   \n",
       "\n",
       "             key_id                   timestamp word  \n",
       "0  4727732971765760  2017-03-06 00:28:58.856880  bee  \n",
       "1  5805032622522368  2017-03-25 20:57:05.022320  bee  \n",
       "2  5257992352038912  2017-03-13 08:35:34.597420  bee  \n",
       "3  6401386805723136  2017-01-23 20:39:27.306980  bee  \n",
       "4  4558220662145024  2017-03-23 16:00:56.044640  bee  "
      ]
     },
     "execution_count": 2,
     "metadata": {},
     "output_type": "execute_result"
    }
   ],
   "source": [
    "#getting the data from 5 different csvs and combining them in to 1 pandas dataframe\n",
    "df = pd.concat(map(pd.read_csv, glob.glob(os.path.join('../Data/5_animals/', \"*.csv\"))),ignore_index=True)\n",
    "\n",
    "#We drop the Recognized=False rows as there is no point in having unrecognized drawings who will not contribute to the training phase.\n",
    "df = df[df[\"recognized\"]==True]\n",
    "\n",
    "# Lists that are shorter than 250 are useless data, being mainly lines or a simple circle not indicating anything, so I drop those aswell.\n",
    "# Lists that are longer than 3000 are useless aswell as those are alost always filled in squares wich add zero value.\n",
    "df = df[(df['drawing'].str.len() > 250) & (df['drawing'].str.len() <  3000)]\n",
    "\n",
    "#the recognized column is now uneccesary and can be dropped. The index will be reset aswell.\n",
    "df = df.drop(columns=['recognized']).reset_index(drop=True)\n",
    "\n",
    "#lets check out the dataframe in its current state\n",
    "df.head()\n"
   ]
  },
  {
   "cell_type": "code",
   "execution_count": 3,
   "metadata": {},
   "outputs": [
    {
     "data": {
      "text/plain": [
       "dog          142700\n",
       "butterfly    114349\n",
       "bee          110804\n",
       "elephant     104708\n",
       "cat          102877\n",
       "Name: word, dtype: int64"
      ]
     },
     "execution_count": 3,
     "metadata": {},
     "output_type": "execute_result"
    }
   ],
   "source": [
    "#finding the amount of rows for each category\n",
    "df['word'].value_counts()"
   ]
  },
  {
   "cell_type": "markdown",
   "metadata": {},
   "source": [
    "As you can see above, the dataset is not balanced yet. This will be done in the next step by keeping 10k of each category."
   ]
  },
  {
   "cell_type": "code",
   "execution_count": 4,
   "metadata": {},
   "outputs": [],
   "source": [
    "#balancing of the dataset: keep 10000 rows from each animal\n",
    "df = df.groupby('word').sample(n=10000, random_state=1).reset_index(drop=True)"
   ]
  },
  {
   "cell_type": "code",
   "execution_count": 5,
   "metadata": {},
   "outputs": [
    {
     "data": {
      "text/plain": [
       "bee          10000\n",
       "butterfly    10000\n",
       "cat          10000\n",
       "dog          10000\n",
       "elephant     10000\n",
       "Name: word, dtype: int64"
      ]
     },
     "execution_count": 5,
     "metadata": {},
     "output_type": "execute_result"
    }
   ],
   "source": [
    "df['word'].value_counts()"
   ]
  },
  {
   "cell_type": "markdown",
   "metadata": {},
   "source": [
    "Now there are 10k images of every category in the dataframe. This dataframe combining and filtering the information of the 5 animals will now be written to a csv."
   ]
  },
  {
   "cell_type": "code",
   "execution_count": 6,
   "metadata": {},
   "outputs": [],
   "source": [
    "#shuffling the dataframe\n",
    "df = df.sample(frac=1).reset_index(drop=True) \n",
    ".sample(n=10000, random_state=1).reset_index(drop=True)\n",
    "# Writing the combined data to a single csv\n",
    "df.to_csv('../Data/five_animals.csv', index=False)"
   ]
  }
 ],
 "metadata": {
  "interpreter": {
   "hash": "f1b21a831ca0887bb1ca23965249b487d59158d2ac98669dee611127e8c84e44"
  },
  "kernelspec": {
   "display_name": "Python 3.9.7 ('base')",
   "language": "python",
   "name": "python3"
  },
  "language_info": {
   "codemirror_mode": {
    "name": "ipython",
    "version": 3
   },
   "file_extension": ".py",
   "mimetype": "text/x-python",
   "name": "python",
   "nbconvert_exporter": "python",
   "pygments_lexer": "ipython3",
   "version": "3.9.7"
  },
  "orig_nbformat": 4
 },
 "nbformat": 4,
 "nbformat_minor": 2
}
