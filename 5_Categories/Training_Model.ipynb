{
 "cells": [
  {
   "cell_type": "markdown",
   "metadata": {},
   "source": [
    "# 1 Imports"
   ]
  },
  {
   "cell_type": "code",
   "execution_count": 266,
   "metadata": {},
   "outputs": [],
   "source": [
    "import numpy as np \n",
    "import pandas as pd\n",
    "\n",
    "import tensorflow as tf\n",
    "from tensorflow import keras\n",
    "from keras.models import Sequential\n",
    "from keras.layers import Dense, Dropout, Flatten\n",
    "from keras.layers import Conv2D, MaxPooling2D\n",
    "from keras.metrics import top_k_categorical_accuracy\n",
    "from keras.callbacks import ModelCheckpoint, ReduceLROnPlateau, EarlyStopping\n",
    "from sklearn.model_selection import train_test_split"
   ]
  },
  {
   "cell_type": "markdown",
   "metadata": {},
   "source": [
    "# 2 Fetching the data"
   ]
  },
  {
   "cell_type": "code",
   "execution_count": 267,
   "metadata": {},
   "outputs": [
    {
     "data": {
      "text/html": [
       "<div>\n",
       "<style scoped>\n",
       "    .dataframe tbody tr th:only-of-type {\n",
       "        vertical-align: middle;\n",
       "    }\n",
       "\n",
       "    .dataframe tbody tr th {\n",
       "        vertical-align: top;\n",
       "    }\n",
       "\n",
       "    .dataframe thead th {\n",
       "        text-align: right;\n",
       "    }\n",
       "</style>\n",
       "<table border=\"1\" class=\"dataframe\">\n",
       "  <thead>\n",
       "    <tr style=\"text-align: right;\">\n",
       "      <th></th>\n",
       "      <th>countrycode</th>\n",
       "      <th>drawing</th>\n",
       "      <th>key_id</th>\n",
       "      <th>timestamp</th>\n",
       "      <th>word</th>\n",
       "    </tr>\n",
       "  </thead>\n",
       "  <tbody>\n",
       "    <tr>\n",
       "      <th>49995</th>\n",
       "      <td>TR</td>\n",
       "      <td>[[[22, 0, 22], [65, 74, 80]], [[22, 25, 38, 57...</td>\n",
       "      <td>6082320509435904</td>\n",
       "      <td>2017-03-18 23:49:34.788410</td>\n",
       "      <td>bird</td>\n",
       "    </tr>\n",
       "    <tr>\n",
       "      <th>49996</th>\n",
       "      <td>US</td>\n",
       "      <td>[[[177, 168, 222, 226, 236, 254, 255, 249, 233...</td>\n",
       "      <td>6349598891180032</td>\n",
       "      <td>2017-03-05 21:16:16.265550</td>\n",
       "      <td>dog</td>\n",
       "    </tr>\n",
       "    <tr>\n",
       "      <th>49997</th>\n",
       "      <td>RS</td>\n",
       "      <td>[[[0, 2, 24, 41, 84, 106, 110, 118, 131, 183, ...</td>\n",
       "      <td>5359595658674176</td>\n",
       "      <td>2017-03-25 19:51:32.382570</td>\n",
       "      <td>bird</td>\n",
       "    </tr>\n",
       "    <tr>\n",
       "      <th>49998</th>\n",
       "      <td>NL</td>\n",
       "      <td>[[[112, 90, 58, 28, 4, 0, 2, 59, 75, 80, 69, 5...</td>\n",
       "      <td>6052595476987904</td>\n",
       "      <td>2017-03-22 19:23:08.989450</td>\n",
       "      <td>butterfly</td>\n",
       "    </tr>\n",
       "    <tr>\n",
       "      <th>49999</th>\n",
       "      <td>US</td>\n",
       "      <td>[[[42, 55, 64, 85, 139, 167, 179, 192, 218, 23...</td>\n",
       "      <td>6420716016631808</td>\n",
       "      <td>2017-03-15 14:15:01.841960</td>\n",
       "      <td>bird</td>\n",
       "    </tr>\n",
       "  </tbody>\n",
       "</table>\n",
       "</div>"
      ],
      "text/plain": [
       "      countrycode                                            drawing  \\\n",
       "49995          TR  [[[22, 0, 22], [65, 74, 80]], [[22, 25, 38, 57...   \n",
       "49996          US  [[[177, 168, 222, 226, 236, 254, 255, 249, 233...   \n",
       "49997          RS  [[[0, 2, 24, 41, 84, 106, 110, 118, 131, 183, ...   \n",
       "49998          NL  [[[112, 90, 58, 28, 4, 0, 2, 59, 75, 80, 69, 5...   \n",
       "49999          US  [[[42, 55, 64, 85, 139, 167, 179, 192, 218, 23...   \n",
       "\n",
       "                 key_id                   timestamp       word  \n",
       "49995  6082320509435904  2017-03-18 23:49:34.788410       bird  \n",
       "49996  6349598891180032  2017-03-05 21:16:16.265550        dog  \n",
       "49997  5359595658674176  2017-03-25 19:51:32.382570       bird  \n",
       "49998  6052595476987904  2017-03-22 19:23:08.989450  butterfly  \n",
       "49999  6420716016631808  2017-03-15 14:15:01.841960       bird  "
      ]
     },
     "execution_count": 267,
     "metadata": {},
     "output_type": "execute_result"
    }
   ],
   "source": [
    "#finding the amount of rows for each category\n",
    "df = pd.read_csv('5_animals.csv')\n",
    "df.tail()"
   ]
  },
  {
   "cell_type": "code",
   "execution_count": 268,
   "metadata": {},
   "outputs": [
    {
     "data": {
      "text/plain": [
       "butterfly    10000\n",
       "cat          10000\n",
       "elephant     10000\n",
       "bird         10000\n",
       "dog          10000\n",
       "Name: word, dtype: int64"
      ]
     },
     "execution_count": 268,
     "metadata": {},
     "output_type": "execute_result"
    }
   ],
   "source": [
    "df['word'].value_counts()"
   ]
  },
  {
   "cell_type": "markdown",
   "metadata": {},
   "source": [
    "There are 5 categories with 10k images of each available as you can see above."
   ]
  },
  {
   "cell_type": "markdown",
   "metadata": {},
   "source": [
    "Now i'm going to split the dataframe into a train/test/validation set like 70/15/15"
   ]
  },
  {
   "cell_type": "markdown",
   "metadata": {},
   "source": [
    "# 3 Prepairing the data"
   ]
  },
  {
   "cell_type": "code",
   "execution_count": 269,
   "metadata": {},
   "outputs": [
    {
     "data": {
      "text/html": [
       "<div>\n",
       "<style scoped>\n",
       "    .dataframe tbody tr th:only-of-type {\n",
       "        vertical-align: middle;\n",
       "    }\n",
       "\n",
       "    .dataframe tbody tr th {\n",
       "        vertical-align: top;\n",
       "    }\n",
       "\n",
       "    .dataframe thead th {\n",
       "        text-align: right;\n",
       "    }\n",
       "</style>\n",
       "<table border=\"1\" class=\"dataframe\">\n",
       "  <thead>\n",
       "    <tr style=\"text-align: right;\">\n",
       "      <th></th>\n",
       "      <th>countrycode</th>\n",
       "      <th>drawing</th>\n",
       "      <th>key_id</th>\n",
       "      <th>timestamp</th>\n",
       "    </tr>\n",
       "  </thead>\n",
       "  <tbody>\n",
       "    <tr>\n",
       "      <th>0</th>\n",
       "      <td>US</td>\n",
       "      <td>[[[61, 58, 59, 70, 87, 100, 109, 130, 136, 135...</td>\n",
       "      <td>6144641424424960</td>\n",
       "      <td>2017-03-15 00:32:07.462090</td>\n",
       "    </tr>\n",
       "    <tr>\n",
       "      <th>1</th>\n",
       "      <td>SE</td>\n",
       "      <td>[[[66, 85, 111, 157, 183, 192, 250, 255, 255, ...</td>\n",
       "      <td>5425744563929088</td>\n",
       "      <td>2017-03-16 14:50:56.360420</td>\n",
       "    </tr>\n",
       "    <tr>\n",
       "      <th>2</th>\n",
       "      <td>US</td>\n",
       "      <td>[[[66, 62, 56, 55, 69, 90], [87, 88, 104, 139,...</td>\n",
       "      <td>5828817815863296</td>\n",
       "      <td>2017-03-26 02:29:38.282890</td>\n",
       "    </tr>\n",
       "    <tr>\n",
       "      <th>3</th>\n",
       "      <td>IN</td>\n",
       "      <td>[[[162, 132, 113, 94, 87, 81, 81, 87, 99, 136,...</td>\n",
       "      <td>6166647058464768</td>\n",
       "      <td>2017-03-27 12:05:10.695330</td>\n",
       "    </tr>\n",
       "    <tr>\n",
       "      <th>4</th>\n",
       "      <td>CZ</td>\n",
       "      <td>[[[35, 35, 46, 56, 74, 103, 120, 192, 209, 227...</td>\n",
       "      <td>6400753277075456</td>\n",
       "      <td>2017-03-14 20:20:56.641680</td>\n",
       "    </tr>\n",
       "    <tr>\n",
       "      <th>...</th>\n",
       "      <td>...</td>\n",
       "      <td>...</td>\n",
       "      <td>...</td>\n",
       "      <td>...</td>\n",
       "    </tr>\n",
       "    <tr>\n",
       "      <th>49995</th>\n",
       "      <td>TR</td>\n",
       "      <td>[[[22, 0, 22], [65, 74, 80]], [[22, 25, 38, 57...</td>\n",
       "      <td>6082320509435904</td>\n",
       "      <td>2017-03-18 23:49:34.788410</td>\n",
       "    </tr>\n",
       "    <tr>\n",
       "      <th>49996</th>\n",
       "      <td>US</td>\n",
       "      <td>[[[177, 168, 222, 226, 236, 254, 255, 249, 233...</td>\n",
       "      <td>6349598891180032</td>\n",
       "      <td>2017-03-05 21:16:16.265550</td>\n",
       "    </tr>\n",
       "    <tr>\n",
       "      <th>49997</th>\n",
       "      <td>RS</td>\n",
       "      <td>[[[0, 2, 24, 41, 84, 106, 110, 118, 131, 183, ...</td>\n",
       "      <td>5359595658674176</td>\n",
       "      <td>2017-03-25 19:51:32.382570</td>\n",
       "    </tr>\n",
       "    <tr>\n",
       "      <th>49998</th>\n",
       "      <td>NL</td>\n",
       "      <td>[[[112, 90, 58, 28, 4, 0, 2, 59, 75, 80, 69, 5...</td>\n",
       "      <td>6052595476987904</td>\n",
       "      <td>2017-03-22 19:23:08.989450</td>\n",
       "    </tr>\n",
       "    <tr>\n",
       "      <th>49999</th>\n",
       "      <td>US</td>\n",
       "      <td>[[[42, 55, 64, 85, 139, 167, 179, 192, 218, 23...</td>\n",
       "      <td>6420716016631808</td>\n",
       "      <td>2017-03-15 14:15:01.841960</td>\n",
       "    </tr>\n",
       "  </tbody>\n",
       "</table>\n",
       "<p>50000 rows × 4 columns</p>\n",
       "</div>"
      ],
      "text/plain": [
       "      countrycode                                            drawing  \\\n",
       "0              US  [[[61, 58, 59, 70, 87, 100, 109, 130, 136, 135...   \n",
       "1              SE  [[[66, 85, 111, 157, 183, 192, 250, 255, 255, ...   \n",
       "2              US  [[[66, 62, 56, 55, 69, 90], [87, 88, 104, 139,...   \n",
       "3              IN  [[[162, 132, 113, 94, 87, 81, 81, 87, 99, 136,...   \n",
       "4              CZ  [[[35, 35, 46, 56, 74, 103, 120, 192, 209, 227...   \n",
       "...           ...                                                ...   \n",
       "49995          TR  [[[22, 0, 22], [65, 74, 80]], [[22, 25, 38, 57...   \n",
       "49996          US  [[[177, 168, 222, 226, 236, 254, 255, 249, 233...   \n",
       "49997          RS  [[[0, 2, 24, 41, 84, 106, 110, 118, 131, 183, ...   \n",
       "49998          NL  [[[112, 90, 58, 28, 4, 0, 2, 59, 75, 80, 69, 5...   \n",
       "49999          US  [[[42, 55, 64, 85, 139, 167, 179, 192, 218, 23...   \n",
       "\n",
       "                 key_id                   timestamp  \n",
       "0      6144641424424960  2017-03-15 00:32:07.462090  \n",
       "1      5425744563929088  2017-03-16 14:50:56.360420  \n",
       "2      5828817815863296  2017-03-26 02:29:38.282890  \n",
       "3      6166647058464768  2017-03-27 12:05:10.695330  \n",
       "4      6400753277075456  2017-03-14 20:20:56.641680  \n",
       "...                 ...                         ...  \n",
       "49995  6082320509435904  2017-03-18 23:49:34.788410  \n",
       "49996  6349598891180032  2017-03-05 21:16:16.265550  \n",
       "49997  5359595658674176  2017-03-25 19:51:32.382570  \n",
       "49998  6052595476987904  2017-03-22 19:23:08.989450  \n",
       "49999  6420716016631808  2017-03-15 14:15:01.841960  \n",
       "\n",
       "[50000 rows x 4 columns]"
      ]
     },
     "execution_count": 269,
     "metadata": {},
     "output_type": "execute_result"
    }
   ],
   "source": [
    "X = df.drop(columns = ['word'])\n",
    "y = df['word']\n",
    "X"
   ]
  },
  {
   "cell_type": "code",
   "execution_count": 270,
   "metadata": {},
   "outputs": [],
   "source": [
    "X_train, X_rem, y_train, y_rem = train_test_split(X,y, train_size=0.7)\n",
    "X_val, X_test, y_val, y_test = train_test_split(X_rem,y_rem, test_size=0.5)"
   ]
  },
  {
   "cell_type": "code",
   "execution_count": 271,
   "metadata": {},
   "outputs": [],
   "source": [
    "%%capture\n",
    "X_train.reset_index()\n",
    "y_train.reset_index()\n",
    "X_test.reset_index()\n",
    "y_test.reset_index()\n",
    "X_val.reset_index()\n",
    "y_val.reset_index()"
   ]
  },
  {
   "cell_type": "code",
   "execution_count": 272,
   "metadata": {},
   "outputs": [
    {
     "name": "stdout",
     "output_type": "stream",
     "text": [
      "(35000, 4)\n",
      "(35000,)\n",
      "(7500, 4)\n",
      "(7500,)\n",
      "(7500, 4)\n",
      "(7500,)\n"
     ]
    },
    {
     "data": {
      "text/plain": [
       "(None, None)"
      ]
     },
     "execution_count": 272,
     "metadata": {},
     "output_type": "execute_result"
    }
   ],
   "source": [
    "print(X_train.shape), print(y_train.shape)\n",
    "print(X_val.shape), print(y_val.shape)\n",
    "print(X_test.shape), print(y_test.shape)"
   ]
  },
  {
   "cell_type": "markdown",
   "metadata": {},
   "source": [
    "# 4 Training the model"
   ]
  },
  {
   "cell_type": "code",
   "execution_count": 273,
   "metadata": {},
   "outputs": [
    {
     "name": "stdout",
     "output_type": "stream",
     "text": [
      "Model: \"sequential_17\"\n",
      "_________________________________________________________________\n",
      " Layer (type)                Output Shape              Param #   \n",
      "=================================================================\n",
      " conv2d_34 (Conv2D)          (None, 32, 32, 32)        320       \n",
      "                                                                 \n",
      " max_pooling2d_34 (MaxPoolin  (None, 16, 16, 32)       0         \n",
      " g2D)                                                            \n",
      "                                                                 \n",
      " conv2d_35 (Conv2D)          (None, 16, 16, 64)        18496     \n",
      "                                                                 \n",
      " max_pooling2d_35 (MaxPoolin  (None, 8, 8, 64)         0         \n",
      " g2D)                                                            \n",
      "                                                                 \n",
      " dropout_34 (Dropout)        (None, 8, 8, 64)          0         \n",
      "                                                                 \n",
      " flatten_17 (Flatten)        (None, 4096)              0         \n",
      "                                                                 \n",
      " dense_34 (Dense)            (None, 680)               2785960   \n",
      "                                                                 \n",
      " dropout_35 (Dropout)        (None, 680)               0         \n",
      "                                                                 \n",
      " dense_35 (Dense)            (None, 5)                 3405      \n",
      "                                                                 \n",
      "=================================================================\n",
      "Total params: 2,808,181\n",
      "Trainable params: 2,808,181\n",
      "Non-trainable params: 0\n",
      "_________________________________________________________________\n"
     ]
    }
   ],
   "source": [
    "num_classes = 5\n",
    "\n",
    "model = Sequential()\n",
    "model.add(Conv2D(32, kernel_size=(3, 3), padding='same', activation='relu', input_shape=(32, 32, 1)))\n",
    "model.add(MaxPooling2D(pool_size=(2, 2)))\n",
    "model.add(Conv2D(64, kernel_size=(3, 3), padding='same', activation='relu'))\n",
    "model.add(MaxPooling2D(pool_size=(2, 2)))\n",
    "model.add(Dropout(0.2))\n",
    "model.add(Flatten())\n",
    "model.add(Dense(680, activation='relu'))\n",
    "model.add(Dropout(0.5))\n",
    "model.add(Dense(num_classes, activation='softmax'))\n",
    "model.summary()"
   ]
  },
  {
   "cell_type": "code",
   "execution_count": 275,
   "metadata": {},
   "outputs": [
    {
     "ename": "ValueError",
     "evalue": "Failed to convert a NumPy array to a Tensor (Unsupported object type int).",
     "output_type": "error",
     "traceback": [
      "\u001b[1;31m---------------------------------------------------------------------------\u001b[0m",
      "\u001b[1;31mValueError\u001b[0m                                Traceback (most recent call last)",
      "\u001b[1;32m~\\AppData\\Local\\Temp/ipykernel_2472/3146380525.py\u001b[0m in \u001b[0;36m<module>\u001b[1;34m\u001b[0m\n\u001b[0;32m     12\u001b[0m               metrics=['accuracy', top_3_accuracy])\n\u001b[0;32m     13\u001b[0m \u001b[1;33m\u001b[0m\u001b[0m\n\u001b[1;32m---> 14\u001b[1;33m model.fit(X, y,\n\u001b[0m\u001b[0;32m     15\u001b[0m           \u001b[0mbatch_size\u001b[0m \u001b[1;33m=\u001b[0m \u001b[1;36m32\u001b[0m\u001b[1;33m,\u001b[0m\u001b[1;33m\u001b[0m\u001b[1;33m\u001b[0m\u001b[0m\n\u001b[0;32m     16\u001b[0m           \u001b[0mepochs\u001b[0m \u001b[1;33m=\u001b[0m \u001b[1;36m25\u001b[0m\u001b[1;33m,\u001b[0m\u001b[1;33m\u001b[0m\u001b[1;33m\u001b[0m\u001b[0m\n",
      "\u001b[1;32m~\\anaconda3\\lib\\site-packages\\keras\\utils\\traceback_utils.py\u001b[0m in \u001b[0;36merror_handler\u001b[1;34m(*args, **kwargs)\u001b[0m\n\u001b[0;32m     65\u001b[0m     \u001b[1;32mexcept\u001b[0m \u001b[0mException\u001b[0m \u001b[1;32mas\u001b[0m \u001b[0me\u001b[0m\u001b[1;33m:\u001b[0m  \u001b[1;31m# pylint: disable=broad-except\u001b[0m\u001b[1;33m\u001b[0m\u001b[1;33m\u001b[0m\u001b[0m\n\u001b[0;32m     66\u001b[0m       \u001b[0mfiltered_tb\u001b[0m \u001b[1;33m=\u001b[0m \u001b[0m_process_traceback_frames\u001b[0m\u001b[1;33m(\u001b[0m\u001b[0me\u001b[0m\u001b[1;33m.\u001b[0m\u001b[0m__traceback__\u001b[0m\u001b[1;33m)\u001b[0m\u001b[1;33m\u001b[0m\u001b[1;33m\u001b[0m\u001b[0m\n\u001b[1;32m---> 67\u001b[1;33m       \u001b[1;32mraise\u001b[0m \u001b[0me\u001b[0m\u001b[1;33m.\u001b[0m\u001b[0mwith_traceback\u001b[0m\u001b[1;33m(\u001b[0m\u001b[0mfiltered_tb\u001b[0m\u001b[1;33m)\u001b[0m \u001b[1;32mfrom\u001b[0m \u001b[1;32mNone\u001b[0m\u001b[1;33m\u001b[0m\u001b[1;33m\u001b[0m\u001b[0m\n\u001b[0m\u001b[0;32m     68\u001b[0m     \u001b[1;32mfinally\u001b[0m\u001b[1;33m:\u001b[0m\u001b[1;33m\u001b[0m\u001b[1;33m\u001b[0m\u001b[0m\n\u001b[0;32m     69\u001b[0m       \u001b[1;32mdel\u001b[0m \u001b[0mfiltered_tb\u001b[0m\u001b[1;33m\u001b[0m\u001b[1;33m\u001b[0m\u001b[0m\n",
      "\u001b[1;32m~\\anaconda3\\lib\\site-packages\\tensorflow\\python\\framework\\constant_op.py\u001b[0m in \u001b[0;36mconvert_to_eager_tensor\u001b[1;34m(value, ctx, dtype)\u001b[0m\n\u001b[0;32m    100\u001b[0m       \u001b[0mdtype\u001b[0m \u001b[1;33m=\u001b[0m \u001b[0mdtypes\u001b[0m\u001b[1;33m.\u001b[0m\u001b[0mas_dtype\u001b[0m\u001b[1;33m(\u001b[0m\u001b[0mdtype\u001b[0m\u001b[1;33m)\u001b[0m\u001b[1;33m.\u001b[0m\u001b[0mas_datatype_enum\u001b[0m\u001b[1;33m\u001b[0m\u001b[1;33m\u001b[0m\u001b[0m\n\u001b[0;32m    101\u001b[0m   \u001b[0mctx\u001b[0m\u001b[1;33m.\u001b[0m\u001b[0mensure_initialized\u001b[0m\u001b[1;33m(\u001b[0m\u001b[1;33m)\u001b[0m\u001b[1;33m\u001b[0m\u001b[1;33m\u001b[0m\u001b[0m\n\u001b[1;32m--> 102\u001b[1;33m   \u001b[1;32mreturn\u001b[0m \u001b[0mops\u001b[0m\u001b[1;33m.\u001b[0m\u001b[0mEagerTensor\u001b[0m\u001b[1;33m(\u001b[0m\u001b[0mvalue\u001b[0m\u001b[1;33m,\u001b[0m \u001b[0mctx\u001b[0m\u001b[1;33m.\u001b[0m\u001b[0mdevice_name\u001b[0m\u001b[1;33m,\u001b[0m \u001b[0mdtype\u001b[0m\u001b[1;33m)\u001b[0m\u001b[1;33m\u001b[0m\u001b[1;33m\u001b[0m\u001b[0m\n\u001b[0m\u001b[0;32m    103\u001b[0m \u001b[1;33m\u001b[0m\u001b[0m\n\u001b[0;32m    104\u001b[0m \u001b[1;33m\u001b[0m\u001b[0m\n",
      "\u001b[1;31mValueError\u001b[0m: Failed to convert a NumPy array to a Tensor (Unsupported object type int)."
     ]
    }
   ],
   "source": [
    "def top_3_accuracy(x,y): \n",
    "    t3 = top_k_categorical_accuracy(x,y, 3)\n",
    "    return t3\n",
    "\n",
    "reduceLROnPlat = ReduceLROnPlateau(monitor='val_loss', factor=0.5, patience=3, \n",
    "                                   verbose=1, mode='auto', min_delta=0.005, cooldown=5, min_lr=0.0001)\n",
    "earlystop = EarlyStopping(monitor='val_top_3_accuracy', mode='max', patience=5) \n",
    "callbacks = [reduceLROnPlat, earlystop]\n",
    "\n",
    "model.compile(loss='categorical_crossentropy',\n",
    "              optimizer='RMSprop',\n",
    "              metrics=['accuracy', top_3_accuracy])\n",
    "\n",
    "model.fit(x=X_train, y=y_train,\n",
    "          batch_size = 32,\n",
    "          epochs = 25,\n",
    "          validation_data = (X_val, y_val),\n",
    "          callbacks = callbacks,\n",
    "          verbose = 1)"
   ]
  }
 ],
 "metadata": {
  "interpreter": {
   "hash": "f1b21a831ca0887bb1ca23965249b487d59158d2ac98669dee611127e8c84e44"
  },
  "kernelspec": {
   "display_name": "Python 3.9.7 ('base')",
   "language": "python",
   "name": "python3"
  },
  "language_info": {
   "codemirror_mode": {
    "name": "ipython",
    "version": 3
   },
   "file_extension": ".py",
   "mimetype": "text/x-python",
   "name": "python",
   "nbconvert_exporter": "python",
   "pygments_lexer": "ipython3",
   "version": "3.9.7"
  },
  "orig_nbformat": 4
 },
 "nbformat": 4,
 "nbformat_minor": 2
}
